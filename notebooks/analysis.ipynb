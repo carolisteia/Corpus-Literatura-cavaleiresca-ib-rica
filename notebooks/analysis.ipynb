{
 "cells": [
  {
   "cell_type": "markdown",
   "id": "fb617341",
   "metadata": {},
   "source": [
    "#  Le modèle des espèces non vues appliqué à la littérature chevaleresque ibérique\n",
    "\n",
    "### Introduction\n",
    "\n",
    "Ce code est largement repris du projet [Forgotten Books](https://github.com/mikekestemont/forgotten-books) de Mike Kestemont *et al*.\n",
    "\n",
    "Le notebook repose sur le package `copia`, disponible sur [Github](https://github.com/mikekestemont/copia) et documenté [ici](https://copia.readthedocs.io/en/latest/). Une version récente peut être installée depuis PyPI (`>>> pip install copia`). Dans la cellule ci-dessous, nous importons également les autres modules dont le logiciel dépend.\n"
   ]
  },
  {
   "cell_type": "code",
   "execution_count": 36,
   "id": "26e0ecb6",
   "metadata": {},
   "outputs": [],
   "source": [
    "                                                    #############\n",
    "                                                    #IMPORTATIONS\n",
    "                                                    ############\n",
    "#Cette section est essentielle pour préparer l'environnement d'analyse. Elle inclut toutes les bibliothèques \n",
    "# nécessaires, configure les styles graphiques et importe des modules spécifiques à `copia`\n",
    "#, un package utilisé pour des calculs avancés de richesse \n",
    "# et de diversité, ainsi que pour des visualisations spécialisées.\n",
    "\n",
    "\n",
    "# Bibliothèques Standard\n",
    "import os  # Pour interagir avec le système de fichiers\n",
    "from pathlib import Path  # Pour manipuler les chemins de fichiers\n",
    "\n",
    "# Bibliothèques Tierces (pandas, matplotlib, numpy)\n",
    "import pandas as pd  # Pour la manipulation de données tabulaires\n",
    "import matplotlib.pyplot as plt  # Pour la visualisation de données\n",
    "import numpy as np  # Pour les calculs sur des tableaux de données\n",
    "np.random.seed(543251)  # Fixer la graine aléatoire pour la reproductibilité\n",
    "\n",
    "# Bibliothèques Spécifiques au package'Copia'\n",
    "import copia.utils as u  # Fonctions utilitaires de Copia\n",
    "from copia.richness import *  # Pour les calculs de richesse\n",
    "from copia.hill import hill_numbers  # Pour calculer les nombres de Hill\n",
    "from copia.utils import survival_ratio, evenness  # Pour calculer les ratios de survie et l'équitabilité\n",
    "from copia.plot import (\n",
    "    accumulation_curve,  # Pour tracer les courbes d'accumulation\n",
    "    multi_kde,  # Pour tracer des courbes KDE multiples\n",
    "    survival_errorbar,  # Pour ajouter des barres d'erreur de survie\n",
    "    evenness_plot,  # Pour tracer les profils d'équitabilité\n",
    "    density,  # Pour tracer des graphiques de densité\n",
    "    hill_plot  # Pour tracer les profils des nombres de Hill\n",
    ")\n",
    "\n",
    "# Configuration de Matplotlib\n",
    "plt.style.use('science')  # Style scientifique pour les graphiques\n",
    "plt.rcParams['axes.spines.right'] = False  # Supprimer la bordure droite des graphiques\n",
    "plt.rcParams['axes.spines.top'] = False  # Supprimer la bordure supérieure des graphiques\n",
    "plt.rcParams['xtick.top'] = False  # Supprimer les graduations en haut des graphiques\n",
    "plt.rcParams['ytick.right'] = False  # Supprimer les graduations à droite des graphiques\n"
   ]
  },
  {
   "cell_type": "code",
   "execution_count": 3,
   "id": "c7161bc0",
   "metadata": {},
   "outputs": [],
   "source": [
    "#####################\n",
    "# Lecture et Pré-traitement Fichier CSV\n",
    "#####################\n",
    "\n",
    "# Crée un objet Path représentant le chemin du fichier CSV.\n",
    "file_path = Path('/home/carolisteia/Desktop/filologia_iberica/memoire_M2/usm/adata_geocoded.csv')\n",
    "\n",
    "# Lecture du fichier CSV avec pandas, en utilisant le chemin pathlib et l'encodage 'latin-1'\n",
    " df = pd.read_csv(file_path, encoding='latin-1')\n",
    "\n",
    "\n",
    "# Convertit toutes les colonnes de type chaîne de caractères en minuscules et supprime les espaces\n",
    "for col in df.select_dtypes(include=['object']).columns:\n",
    "    df[col] = df[col].astype(str).str.lower().str.strip()\n",
    "\n",
    "\n",
    "    df.head()\n"
   ]
  },
  {
   "cell_type": "code",
   "execution_count": 5,
   "id": "5206713b",
   "metadata": {},
   "outputs": [],
   "source": [
    "# Initialisation d'un dictionnaire vide pour stocker les résultats de chaque langue\n",
    "lits = {}\n",
    "\n",
    "# Pour chaque langue de la liste spécifiée, filtrer les données et extraire les informations nécessaires\n",
    "for lang in ['portugais', 'castillan', 'catalan']:\n",
    "    # Utiliser la méthode query() pour sélectionner les lignes du DataFrame où 'language' correspond à la langue en cours d'itération\n",
    "    df_lang = df.query(f'language == \"{lang}\"')\n",
    "    \n",
    "    # Stocker dans le dictionnaire 'lits' une nouvelle entrée où la clé est la langue,\n",
    "    # et la valeur est un DataFrame contenant uniquement les colonnes 'title', 'signature', et 'repository'\n",
    "    lits[lang] = df_lang[['title', 'signature', 'repository']]\n"
   ]
  },
  {
   "cell_type": "markdown",
   "id": "9a4ad5ac",
   "metadata": {},
   "source": [
    "## Data"
   ]
  },
  {
   "cell_type": "markdown",
   "id": "5a98d39a",
   "metadata": {},
   "source": [
    "Nous repremons le jeu de données utilisé dans l'étude, disponible sous forme de fichier `cvs` dans le répertoire `data/master`. Nous le chargeons et les convertissons en `DataFrames` avec `pandas` :\n"
   ]
  },
  {
   "cell_type": "markdown",
   "id": "e0d0709d",
   "metadata": {},
   "source": [
    "Ensuite, nous extrayons plusieurs statistiques globales de ces jeux de données ($f_1$, $f_2$, $n$, et $S$, ainsi que le nombre de dépôts distincts), que nous interprétons comme des \"données d'abondance\" en écologie :\n"
   ]
  },
  {
   "cell_type": "code",
   "execution_count": 7,
   "id": "7b1aff0b",
   "metadata": {},
   "outputs": [
    {
     "data": {
      "text/plain": [
       "[{'language': 'portugais', 'f1': 3, 'f2': 1, 'S': 4, 'n': 5, 'repo': 5},\n",
       " {'language': 'castillan', 'f1': 16, 'f2': 3, 'S': 21, 'n': 33, 'repo': 15},\n",
       " {'language': 'catalan', 'f1': 4, 'f2': 1, 'S': 5, 'n': 6, 'repo': 6}]"
      ]
     },
     "execution_count": 7,
     "metadata": {},
     "output_type": "execute_result"
    }
   ],
   "source": [
    "\n",
    "# Initialisation d'une liste pour stocker les résultats\n",
    "stats = []\n",
    "\n",
    "# Boucle sur chaque ensemble de données de langue stocké dans le dictionnaire 'lits'\n",
    "for lit, df in lits.items():\n",
    "    # Calculer l'abondance de chaque titre unique dans l'ensemble de données\n",
    "    abundance = u.to_abundance(df['title'])\n",
    "    \n",
    "    # Obtenir des mesures statistiques de base à partir des données d'abondance\n",
    "    s = u.basic_stats(abundance)\n",
    "    \n",
    "    # Initialiser un dictionnaire pour contenir les données pour la langue actuelle\n",
    "    d = {'langue': lit}\n",
    "    \n",
    "    # Extraire des valeurs statistiques spécifiques des résultats et les ajouter au dictionnaire\n",
    "    for k in ('f1', 'f2', 'S', 'n'):\n",
    "        d[k] = s[k]\n",
    "    \n",
    "    # Compter les dépôts uniques dans l'ensemble de données et les ajouter au dictionnaire\n",
    "    d['repo'] = len(set(df['repository']))\n",
    "    \n",
    "    # Ajouter le dictionnaire avec les statistiques de la langue actuelle à la liste\n",
    "    stats.append(d)\n",
    "\n",
    "# Afficher la liste contenant les données statistiques pour chaque langue\n",
    "stats\n"
   ]
  },
  {
   "cell_type": "markdown",
   "id": "98a3b2b2",
   "metadata": {},
   "source": [
    "Nous transformons ces resultats dans un dataframe :\n"
   ]
  },
  {
   "cell_type": "code",
   "execution_count": 10,
   "id": "486d22eb",
   "metadata": {},
   "outputs": [
    {
     "data": {
      "text/html": [
       "<div>\n",
       "<style scoped>\n",
       "    .dataframe tbody tr th:only-of-type {\n",
       "        vertical-align: middle;\n",
       "    }\n",
       "\n",
       "    .dataframe tbody tr th {\n",
       "        vertical-align: top;\n",
       "    }\n",
       "\n",
       "    .dataframe thead th {\n",
       "        text-align: right;\n",
       "    }\n",
       "</style>\n",
       "<table border=\"1\" class=\"dataframe\">\n",
       "  <thead>\n",
       "    <tr style=\"text-align: right;\">\n",
       "      <th></th>\n",
       "      <th>f1</th>\n",
       "      <th>f2</th>\n",
       "      <th>S</th>\n",
       "      <th>n</th>\n",
       "      <th>repo</th>\n",
       "    </tr>\n",
       "    <tr>\n",
       "      <th>language</th>\n",
       "      <th></th>\n",
       "      <th></th>\n",
       "      <th></th>\n",
       "      <th></th>\n",
       "      <th></th>\n",
       "    </tr>\n",
       "  </thead>\n",
       "  <tbody>\n",
       "    <tr>\n",
       "      <th>portugais</th>\n",
       "      <td>3</td>\n",
       "      <td>1</td>\n",
       "      <td>4</td>\n",
       "      <td>5</td>\n",
       "      <td>5</td>\n",
       "    </tr>\n",
       "    <tr>\n",
       "      <th>castillan</th>\n",
       "      <td>16</td>\n",
       "      <td>3</td>\n",
       "      <td>21</td>\n",
       "      <td>33</td>\n",
       "      <td>15</td>\n",
       "    </tr>\n",
       "    <tr>\n",
       "      <th>catalan</th>\n",
       "      <td>4</td>\n",
       "      <td>1</td>\n",
       "      <td>5</td>\n",
       "      <td>6</td>\n",
       "      <td>6</td>\n",
       "    </tr>\n",
       "    <tr>\n",
       "      <th>all</th>\n",
       "      <td>23</td>\n",
       "      <td>5</td>\n",
       "      <td>30</td>\n",
       "      <td>44</td>\n",
       "      <td>None</td>\n",
       "    </tr>\n",
       "  </tbody>\n",
       "</table>\n",
       "</div>"
      ],
      "text/plain": [
       "           f1  f2   S   n  repo\n",
       "language                       \n",
       "portugais   3   1   4   5     5\n",
       "castillan  16   3  21  33    15\n",
       "catalan     4   1   5   6     6\n",
       "all        23   5  30  44  None"
      ]
     },
     "execution_count": 10,
     "metadata": {},
     "output_type": "execute_result"
    }
   ],
   "source": [
    "stats_df = pd.DataFrame(stats)\n",
    "stats_df['language'] = stats_df['language'].str.lower()\n",
    "stats_df.loc[len(stats_df)] = ['all'] + list(stats_df[['f1', 'f2', 'S', 'n']].sum()) + [None]\n",
    "stats_df = stats_df.set_index('language')\n",
    "stats_df"
   ]
  },
  {
   "cell_type": "markdown",
   "id": "4f27466a",
   "metadata": {},
   "source": [
    "Nous ajoutons explicitement une étiquette de langue à chaque titre d'œuvre, afin d'éviter les conflits de designation :\n"
   ]
  },
  {
   "cell_type": "code",
   "execution_count": 11,
   "id": "dd939396",
   "metadata": {},
   "outputs": [
    {
     "name": "stderr",
     "output_type": "stream",
     "text": [
      "/home/carolisteia/miniconda3/envs/forgotten/lib/python3.7/site-packages/ipykernel_launcher.py:3: SettingWithCopyWarning: \n",
      "A value is trying to be set on a copy of a slice from a DataFrame.\n",
      "Try using .loc[row_indexer,col_indexer] = value instead\n",
      "\n",
      "See the caveats in the documentation: https://pandas.pydata.org/pandas-docs/stable/user_guide/indexing.html#returning-a-view-versus-a-copy\n",
      "  This is separate from the ipykernel package so we can avoid doing imports until\n"
     ]
    },
    {
     "data": {
      "text/html": [
       "<div>\n",
       "<style scoped>\n",
       "    .dataframe tbody tr th:only-of-type {\n",
       "        vertical-align: middle;\n",
       "    }\n",
       "\n",
       "    .dataframe tbody tr th {\n",
       "        vertical-align: top;\n",
       "    }\n",
       "\n",
       "    .dataframe thead th {\n",
       "        text-align: right;\n",
       "    }\n",
       "</style>\n",
       "<table border=\"1\" class=\"dataframe\">\n",
       "  <thead>\n",
       "    <tr style=\"text-align: right;\">\n",
       "      <th></th>\n",
       "      <th>title</th>\n",
       "      <th>signature</th>\n",
       "      <th>repository</th>\n",
       "    </tr>\n",
       "  </thead>\n",
       "  <tbody>\n",
       "    <tr>\n",
       "      <th>0</th>\n",
       "      <td>estoire del saint graal_portugais</td>\n",
       "      <td>not/cns-ts01/001/0012</td>\n",
       "      <td>arquivo distrital do porto</td>\n",
       "    </tr>\n",
       "    <tr>\n",
       "      <th>1</th>\n",
       "      <td>estoire del saint graal_portugais</td>\n",
       "      <td>ms. 643 an/tt</td>\n",
       "      <td>arquivo nacional torre do tombo</td>\n",
       "    </tr>\n",
       "    <tr>\n",
       "      <th>2</th>\n",
       "      <td>queste-mort artu_portugais</td>\n",
       "      <td>cod. 2594 han mag</td>\n",
       "      <td>osterreichische nationalbibliothek</td>\n",
       "    </tr>\n",
       "    <tr>\n",
       "      <th>3</th>\n",
       "      <td>merlin (suite de merlin)_portugais</td>\n",
       "      <td>ms. 2434</td>\n",
       "      <td>biblioteca de catalunya</td>\n",
       "    </tr>\n",
       "    <tr>\n",
       "      <th>4</th>\n",
       "      <td>tristan en prose_portugais</td>\n",
       "      <td>cã³dices, l. 1501/7</td>\n",
       "      <td>archivo histã³rico nacional</td>\n",
       "    </tr>\n",
       "    <tr>\n",
       "      <th>5</th>\n",
       "      <td>estoire del saint graal_castillan</td>\n",
       "      <td>ms 1877</td>\n",
       "      <td>biblioteca general histã³rica de la universida...</td>\n",
       "    </tr>\n",
       "    <tr>\n",
       "      <th>6</th>\n",
       "      <td>lancelot_castillan</td>\n",
       "      <td>ms. 9611</td>\n",
       "      <td>biblioteca nacional de espaã±a</td>\n",
       "    </tr>\n",
       "    <tr>\n",
       "      <th>7</th>\n",
       "      <td>merlin (suite de merlin)_castillan</td>\n",
       "      <td>ms. 1877</td>\n",
       "      <td>biblioteca universitaria de salamanca</td>\n",
       "    </tr>\n",
       "    <tr>\n",
       "      <th>8</th>\n",
       "      <td>queste-mort artu_castillan</td>\n",
       "      <td>ms. 1877</td>\n",
       "      <td>biblioteca universitaria de salamanca</td>\n",
       "    </tr>\n",
       "    <tr>\n",
       "      <th>9</th>\n",
       "      <td>estoire del saint graal_castillan</td>\n",
       "      <td>ms. 9-10-2/2100</td>\n",
       "      <td>real academia de la historia</td>\n",
       "    </tr>\n",
       "    <tr>\n",
       "      <th>10</th>\n",
       "      <td>merlin_castillan</td>\n",
       "      <td>ms. 9-10-2/2100</td>\n",
       "      <td>real academia de la historia</td>\n",
       "    </tr>\n",
       "    <tr>\n",
       "      <th>11</th>\n",
       "      <td>queste saint graal_castillan</td>\n",
       "      <td>ms. 9-10-2/2100</td>\n",
       "      <td>real academia de la historia</td>\n",
       "    </tr>\n",
       "    <tr>\n",
       "      <th>12</th>\n",
       "      <td>mort artu_castillan</td>\n",
       "      <td>ms. 9-10-2/2100</td>\n",
       "      <td>real academia de la historia</td>\n",
       "    </tr>\n",
       "    <tr>\n",
       "      <th>13</th>\n",
       "      <td>tristan en prose_castillan</td>\n",
       "      <td>mss/22644/1-51</td>\n",
       "      <td>biblioteca nacional de espaã±a</td>\n",
       "    </tr>\n",
       "    <tr>\n",
       "      <th>14</th>\n",
       "      <td>tristan en prose_castillan</td>\n",
       "      <td>ms 6428</td>\n",
       "      <td>biblioteca apostolica vaticana</td>\n",
       "    </tr>\n",
       "    <tr>\n",
       "      <th>15</th>\n",
       "      <td>tristan en prose_castillan</td>\n",
       "      <td>mss/20262/19</td>\n",
       "      <td>biblioteca nacional de espaã±a</td>\n",
       "    </tr>\n",
       "    <tr>\n",
       "      <th>16</th>\n",
       "      <td>tristan en prose_castillan</td>\n",
       "      <td>mss/12915</td>\n",
       "      <td>biblioteca nacional de espaã±a</td>\n",
       "    </tr>\n",
       "    <tr>\n",
       "      <th>17</th>\n",
       "      <td>vie de saint eustace_castillan</td>\n",
       "      <td>ms. h-i-13</td>\n",
       "      <td>biblioteca del monasterio de el escorial</td>\n",
       "    </tr>\n",
       "    <tr>\n",
       "      <th>18</th>\n",
       "      <td>florence de rome_castillan</td>\n",
       "      <td>ms. h-i-13</td>\n",
       "      <td>biblioteca del monasterio de el escoria</td>\n",
       "    </tr>\n",
       "    <tr>\n",
       "      <th>19</th>\n",
       "      <td>guillaume d'engleterre_castillan</td>\n",
       "      <td>ms. h-i-13</td>\n",
       "      <td>biblioteca del monasterio de el escorial</td>\n",
       "    </tr>\n",
       "    <tr>\n",
       "      <th>20</th>\n",
       "      <td>de  la  bonne  enpereris qui  garda  loiaument...</td>\n",
       "      <td>ms. h-i-13</td>\n",
       "      <td>biblioteca del monasterio de el escorial</td>\n",
       "    </tr>\n",
       "    <tr>\n",
       "      <th>21</th>\n",
       "      <td>chanson de sebile_castillan</td>\n",
       "      <td>ms. h-i-13</td>\n",
       "      <td>biblioteca del monasterio de el escorial</td>\n",
       "    </tr>\n",
       "    <tr>\n",
       "      <th>22</th>\n",
       "      <td>libro del caballero zifar_castillan</td>\n",
       "      <td>ms. 11.309</td>\n",
       "      <td>biblioteca nacional de espaã±a</td>\n",
       "    </tr>\n",
       "    <tr>\n",
       "      <th>23</th>\n",
       "      <td>libro del caballero zifar_castillan</td>\n",
       "      <td>ms. espagnol 36</td>\n",
       "      <td>bibliothã¨que nationale de france</td>\n",
       "    </tr>\n",
       "    <tr>\n",
       "      <th>24</th>\n",
       "      <td>amadis_castillan</td>\n",
       "      <td>banc ms ucb 115</td>\n",
       "      <td>university of california</td>\n",
       "    </tr>\n",
       "    <tr>\n",
       "      <th>25</th>\n",
       "      <td>el poema de mio cid_castillan</td>\n",
       "      <td>sig. v.7-17</td>\n",
       "      <td>biblioteca nacional de espaã±a</td>\n",
       "    </tr>\n",
       "    <tr>\n",
       "      <th>26</th>\n",
       "      <td>el poema de mio cid_castillan</td>\n",
       "      <td>mss/6328</td>\n",
       "      <td>biblioteca nacional de espaã±a</td>\n",
       "    </tr>\n",
       "    <tr>\n",
       "      <th>27</th>\n",
       "      <td>poema de fernã¡n gonzã¡lez_castillan</td>\n",
       "      <td>b--iv-21</td>\n",
       "      <td>real monasterio de san lorenzo de el escorial</td>\n",
       "    </tr>\n",
       "    <tr>\n",
       "      <th>28</th>\n",
       "      <td>mocedades de rodrigo_castillan</td>\n",
       "      <td>ms. esp. 12</td>\n",
       "      <td>bibliotheque nationale de france</td>\n",
       "    </tr>\n",
       "    <tr>\n",
       "      <th>29</th>\n",
       "      <td>roncesvalles_castillan</td>\n",
       "      <td>ms. 212</td>\n",
       "      <td>archivo real y general de navarra</td>\n",
       "    </tr>\n",
       "    <tr>\n",
       "      <th>30</th>\n",
       "      <td>alexandreis_castillan</td>\n",
       "      <td>ms. v-5-n. 0 1o</td>\n",
       "      <td>biblioteca nacional de espaã±a</td>\n",
       "    </tr>\n",
       "    <tr>\n",
       "      <th>31</th>\n",
       "      <td>alexandreis_castillan</td>\n",
       "      <td>ms. esp. 488</td>\n",
       "      <td>bibliothã¨que nationale de france</td>\n",
       "    </tr>\n",
       "    <tr>\n",
       "      <th>32</th>\n",
       "      <td>alexandreis_castillan</td>\n",
       "      <td>caja (96) documento 50</td>\n",
       "      <td>archivo histã³rico de toledo: archivo ducal de...</td>\n",
       "    </tr>\n",
       "    <tr>\n",
       "      <th>33</th>\n",
       "      <td>alexandreis_castillan</td>\n",
       "      <td>ms. 9/5112</td>\n",
       "      <td>biblioteca de la real academia de la historia</td>\n",
       "    </tr>\n",
       "    <tr>\n",
       "      <th>34</th>\n",
       "      <td>historia apollonii regis tyri_castillan</td>\n",
       "      <td>cï¿½dice k.iii.4</td>\n",
       "      <td>biblioteca del monasterio de el escorial</td>\n",
       "    </tr>\n",
       "    <tr>\n",
       "      <th>35</th>\n",
       "      <td>alexandreis_castillan</td>\n",
       "      <td>9/539</td>\n",
       "      <td>biblioteca de la real academia de la historia</td>\n",
       "    </tr>\n",
       "    <tr>\n",
       "      <th>36</th>\n",
       "      <td>alexandreis_castillan</td>\n",
       "      <td>mss/17648</td>\n",
       "      <td>biblioteca nacional de espaã±a</td>\n",
       "    </tr>\n",
       "    <tr>\n",
       "      <th>37</th>\n",
       "      <td>alexandreis_castillan</td>\n",
       "      <td>m-107</td>\n",
       "      <td>biblioteca de menã©ndez pelayo</td>\n",
       "    </tr>\n",
       "    <tr>\n",
       "      <th>38</th>\n",
       "      <td>queste saint graal_catalan</td>\n",
       "      <td>ms. i 79 sup.</td>\n",
       "      <td>biblioteca ambrosiana</td>\n",
       "    </tr>\n",
       "    <tr>\n",
       "      <th>39</th>\n",
       "      <td>lancelot_catalan</td>\n",
       "      <td>nan</td>\n",
       "      <td>arxiu parroquial</td>\n",
       "    </tr>\n",
       "    <tr>\n",
       "      <th>40</th>\n",
       "      <td>tristan en prose_catalan</td>\n",
       "      <td>ms. 1 (a)</td>\n",
       "      <td>arxiu de les set claus</td>\n",
       "    </tr>\n",
       "    <tr>\n",
       "      <th>41</th>\n",
       "      <td>tristan en prose_catalan</td>\n",
       "      <td>8999/1</td>\n",
       "      <td>biblioteca de catalunya</td>\n",
       "    </tr>\n",
       "    <tr>\n",
       "      <th>42</th>\n",
       "      <td>curial e gã¼elfa_catalan</td>\n",
       "      <td>ms. 9750</td>\n",
       "      <td>biblioteca nacional de espaã±a</td>\n",
       "    </tr>\n",
       "    <tr>\n",
       "      <th>43</th>\n",
       "      <td>tirant lo blanch_catalan</td>\n",
       "      <td>e.4.1; caixa 15</td>\n",
       "      <td>arxiu de l'excelâ·lentã­ssima diputaciã³ de va...</td>\n",
       "    </tr>\n",
       "  </tbody>\n",
       "</table>\n",
       "</div>"
      ],
      "text/plain": [
       "                                                title               signature  \\\n",
       "0                   estoire del saint graal_portugais   not/cns-ts01/001/0012   \n",
       "1                   estoire del saint graal_portugais           ms. 643 an/tt   \n",
       "2                          queste-mort artu_portugais       cod. 2594 han mag   \n",
       "3                  merlin (suite de merlin)_portugais                ms. 2434   \n",
       "4                          tristan en prose_portugais     cã³dices, l. 1501/7   \n",
       "5                   estoire del saint graal_castillan                 ms 1877   \n",
       "6                                  lancelot_castillan                ms. 9611   \n",
       "7                  merlin (suite de merlin)_castillan                ms. 1877   \n",
       "8                          queste-mort artu_castillan                ms. 1877   \n",
       "9                   estoire del saint graal_castillan         ms. 9-10-2/2100   \n",
       "10                                   merlin_castillan         ms. 9-10-2/2100   \n",
       "11                       queste saint graal_castillan         ms. 9-10-2/2100   \n",
       "12                                mort artu_castillan         ms. 9-10-2/2100   \n",
       "13                         tristan en prose_castillan          mss/22644/1-51   \n",
       "14                         tristan en prose_castillan                 ms 6428   \n",
       "15                         tristan en prose_castillan            mss/20262/19   \n",
       "16                         tristan en prose_castillan               mss/12915   \n",
       "17                     vie de saint eustace_castillan              ms. h-i-13   \n",
       "18                         florence de rome_castillan              ms. h-i-13   \n",
       "19                   guillaume d'engleterre_castillan              ms. h-i-13   \n",
       "20  de  la  bonne  enpereris qui  garda  loiaument...              ms. h-i-13   \n",
       "21                        chanson de sebile_castillan              ms. h-i-13   \n",
       "22                libro del caballero zifar_castillan              ms. 11.309   \n",
       "23                libro del caballero zifar_castillan         ms. espagnol 36   \n",
       "24                                   amadis_castillan         banc ms ucb 115   \n",
       "25                      el poema de mio cid_castillan             sig. v.7-17   \n",
       "26                      el poema de mio cid_castillan                mss/6328   \n",
       "27               poema de fernã¡n gonzã¡lez_castillan                b--iv-21   \n",
       "28                     mocedades de rodrigo_castillan             ms. esp. 12   \n",
       "29                             roncesvalles_castillan                 ms. 212   \n",
       "30                              alexandreis_castillan         ms. v-5-n. 0 1o   \n",
       "31                              alexandreis_castillan            ms. esp. 488   \n",
       "32                              alexandreis_castillan  caja (96) documento 50   \n",
       "33                              alexandreis_castillan              ms. 9/5112   \n",
       "34            historia apollonii regis tyri_castillan        cï¿½dice k.iii.4   \n",
       "35                              alexandreis_castillan                   9/539   \n",
       "36                              alexandreis_castillan               mss/17648   \n",
       "37                              alexandreis_castillan                   m-107   \n",
       "38                         queste saint graal_catalan           ms. i 79 sup.   \n",
       "39                                   lancelot_catalan                     nan   \n",
       "40                           tristan en prose_catalan               ms. 1 (a)   \n",
       "41                           tristan en prose_catalan                  8999/1   \n",
       "42                           curial e gã¼elfa_catalan                ms. 9750   \n",
       "43                           tirant lo blanch_catalan         e.4.1; caixa 15   \n",
       "\n",
       "                                           repository  \n",
       "0                          arquivo distrital do porto  \n",
       "1                     arquivo nacional torre do tombo  \n",
       "2                  osterreichische nationalbibliothek  \n",
       "3                             biblioteca de catalunya  \n",
       "4                         archivo histã³rico nacional  \n",
       "5   biblioteca general histã³rica de la universida...  \n",
       "6                      biblioteca nacional de espaã±a  \n",
       "7               biblioteca universitaria de salamanca  \n",
       "8               biblioteca universitaria de salamanca  \n",
       "9                        real academia de la historia  \n",
       "10                       real academia de la historia  \n",
       "11                       real academia de la historia  \n",
       "12                       real academia de la historia  \n",
       "13                     biblioteca nacional de espaã±a  \n",
       "14                     biblioteca apostolica vaticana  \n",
       "15                     biblioteca nacional de espaã±a  \n",
       "16                     biblioteca nacional de espaã±a  \n",
       "17           biblioteca del monasterio de el escorial  \n",
       "18            biblioteca del monasterio de el escoria  \n",
       "19           biblioteca del monasterio de el escorial  \n",
       "20           biblioteca del monasterio de el escorial  \n",
       "21           biblioteca del monasterio de el escorial  \n",
       "22                     biblioteca nacional de espaã±a  \n",
       "23                  bibliothã¨que nationale de france  \n",
       "24                           university of california  \n",
       "25                     biblioteca nacional de espaã±a  \n",
       "26                     biblioteca nacional de espaã±a  \n",
       "27      real monasterio de san lorenzo de el escorial  \n",
       "28                   bibliotheque nationale de france  \n",
       "29                  archivo real y general de navarra  \n",
       "30                     biblioteca nacional de espaã±a  \n",
       "31                  bibliothã¨que nationale de france  \n",
       "32  archivo histã³rico de toledo: archivo ducal de...  \n",
       "33      biblioteca de la real academia de la historia  \n",
       "34           biblioteca del monasterio de el escorial  \n",
       "35      biblioteca de la real academia de la historia  \n",
       "36                     biblioteca nacional de espaã±a  \n",
       "37                     biblioteca de menã©ndez pelayo  \n",
       "38                              biblioteca ambrosiana  \n",
       "39                                   arxiu parroquial  \n",
       "40                             arxiu de les set claus  \n",
       "41                            biblioteca de catalunya  \n",
       "42                     biblioteca nacional de espaã±a  \n",
       "43  arxiu de l'excelâ·lentã­ssima diputaciã³ de va...  "
      ]
     },
     "execution_count": 11,
     "metadata": {},
     "output_type": "execute_result"
    }
   ],
   "source": [
    "# Initialisation d'une liste pour stocker les DataFrames\n",
    "dfs = []\n",
    "\n",
    "# Boucle sur chaque ensemble de données de langue stocké dans le dictionnaire 'lits'\n",
    "for lang, df in lits.items():\n",
    "    # Ajouter un tag de langue à chaque titre pour éviter les conflits de nommage\n",
    "    df['title'] = [t + '_' + lang for t in df['title']]\n",
    "    \n",
    "    # Ajouter le DataFrame modifié à la liste 'dfs'\n",
    "    dfs.append(df)\n",
    "    \n",
    "# Concaténer tous les DataFrames en un seul, en ignorant l'index d'origine\n",
    "df_all = pd.concat(dfs, ignore_index=True)\n",
    "\n",
    "# Afficher le DataFrame combiné\n",
    "df_all"
   ]
  },
  {
   "cell_type": "markdown",
   "id": "7170dc67",
   "metadata": {},
   "source": [
    "Nous convertissons ces informations en données d'abondance, en utilisant une fonction utilitaire de `copia` :\n"
   ]
  },
  {
   "cell_type": "code",
   "execution_count": 14,
   "id": "09a6f2af",
   "metadata": {},
   "outputs": [],
   "source": [
    "abundance = u.to_abundance(df_all['title'])"
   ]
  },
  {
   "cell_type": "markdown",
   "id": "67789813",
   "metadata": {},
   "source": [
    "Nous stockerons tous les résultats dans le dossier `outputs` :"
   ]
  },
  {
   "cell_type": "code",
   "execution_count": 15,
   "id": "47b95b58",
   "metadata": {},
   "outputs": [],
   "source": [
    "# Essayer de créer le répertoire 'outputs'\n",
    "try:\n",
    "    os.mkdir('/home/carolisteia/Desktop/filologia_iberica/memoire_M2/usm/outputs')\n",
    "# Si le répertoire existe déjà, ignorer l'erreur\n",
    "except FileExistsError:\n",
    "    pass\n"
   ]
  },
  {
   "cell_type": "markdown",
   "id": "87037db2",
   "metadata": {},
   "source": [
    "Tout d'abord, nous obtenons des estimations ponctuelles pour la survie du nombre d'œuvres (\"Chao1\") et de documents (\"minsample\") :\n"
   ]
  },
  {
   "cell_type": "code",
   "execution_count": 16,
   "id": "9344be1a",
   "metadata": {},
   "outputs": [
    {
     "name": "stdout",
     "output_type": "stream",
     "text": [
      "original # works: 81.69772727272726\n",
      "original # documents: 713.3858693858695\n"
     ]
    }
   ],
   "source": [
    "# Affichage des estimations originales du nombre d'œuvres et du nombre de documents\n",
    "print('nombre original d\\'œuvres :', diversity(abundance, method='chao1'))\n",
    "print('nombre original de documents :', diversity(abundance, method='minsample'))"
   ]
  },
  {
   "cell_type": "markdown",
   "id": "58ebaa46",
   "metadata": {},
   "source": [
    "\n",
    "\n",
    "Nous continuons en traçant des courbes de densité qui montrent les estimations bootstrap (et les quantiles associés) des estimations de diversité sous forme de ratios de survie. Notez que `survival_ratio()` convertit l'estimation initiale en un taux de survie, c'est-à-dire en prenant le ratio des estimations par rapport aux valeurs observées de $S$ et $n$, respectivement.\n"
   ]
  },
  {
   "cell_type": "code",
   "execution_count": 17,
   "id": "1a132c8c",
   "metadata": {},
   "outputs": [
    {
     "name": "stderr",
     "output_type": "stream",
     "text": [
      "100%|██████████| 10000/10000 [00:00<00:00, 16188.70it/s]\n"
     ]
    }
   ],
   "source": [
    "# Calcul du taux de survie des oeuvres pour l'ensemble des données d'abondance, utilisant la méthode 'chao1' avec 10 000 itérations\n",
    "wsurvival_all = survival_ratio(abundance, method='chao1', n_iter=10000)\n"
   ]
  },
  {
   "cell_type": "code",
   "execution_count": 18,
   "id": "66f3c50f",
   "metadata": {},
   "outputs": [
    {
     "data": {
      "text/plain": [
       "{'survival': 0.3672072773805881,\n",
       " 'bootstrap': array([0.44489051, 0.67855583, 0.44489051, ..., 0.24376632, 0.18917213,\n",
       "        0.49895632]),\n",
       " 'lci': 0.13587205245640785,\n",
       " 'uci': 0.8301398186738969}"
      ]
     },
     "execution_count": 18,
     "metadata": {},
     "output_type": "execute_result"
    }
   ],
   "source": [
    "wsurvival_all"
   ]
  },
  {
   "cell_type": "code",
   "execution_count": 21,
   "id": "d01dc352",
   "metadata": {},
   "outputs": [],
   "source": [
    "# Définition d'une fonction pour tracer la courbe de densité des taux de survie\n",
    "def plot_survival():\n",
    "    # Créer un graphique de densité pour les ratios de survie, avec des paramètres spécifiques\n",
    "    ax = density(wsurvival_all, figsize=(5, 4), xlim=(0.5, 0.9))\n",
    "    \n",
    "    # Supprimer les étiquettes des graduations de l'axe Y\n",
    "    ax.set_yticklabels([])\n",
    "    \n",
    "    # Supprimer les graduations sur l'axe Y\n",
    "    ax.tick_params(axis='y', which='both', left=False)\n",
    "    \n",
    "    # Supprimer le label de l'axe Y\n",
    "    ax.set_ylabel(None)\n",
    "    \n",
    "    # Rendre la bordure gauche du graphique invisible\n",
    "    ax.spines['left'].set_visible(False)\n",
    "    \n",
    "    # Sauvegarder le graphique dans un fichier PDF\n",
    "    plt.savefig('/home/carolisteia/Desktop/filologia_iberica/memoire_M2/usm/outputs/dens_works.pdf')"
   ]
  },
  {
   "cell_type": "code",
   "execution_count": 23,
   "id": "eb53728c",
   "metadata": {},
   "outputs": [
    {
     "data": {
      "image/png": "[encoded data removed]",
      "text/plain": [
       "<Figure size 500x400 with 1 Axes>"
      ]
     },
     "metadata": {},
     "output_type": "display_data"
    }
   ],
   "source": [
    "plot_survival()"
   ]
  },
  {
   "cell_type": "markdown",
   "id": "1664bdc6",
   "metadata": {},
   "source": [
    "Nous exécutons la même opération pour les documents en changeant le parametre ; method='minsample':\n"
   ]
  },
  {
   "cell_type": "code",
   "execution_count": 24,
   "id": "358ee2da",
   "metadata": {},
   "outputs": [
    {
     "name": "stderr",
     "output_type": "stream",
     "text": [
      "  0%|          | 16/10000 [00:00<02:37, 63.55it/s]"
     ]
    },
    {
     "name": "stdout",
     "output_type": "stream",
     "text": [
      "Tolerance criterion not met: 59.0 > 0.1\n"
     ]
    },
    {
     "name": "stderr",
     "output_type": "stream",
     "text": [
      "/home/carolisteia/miniconda3/envs/forgotten/lib/python3.7/site-packages/copia/richness.py:451: UserWarning: Tolerance criterion not met: 59.0 > 0.1\n",
      "  warnings.warn(f\"Tolerance criterion not met: {diff_intersect} > {tolerance}\")\n",
      "/home/carolisteia/miniconda3/envs/forgotten/lib/python3.7/site-packages/copia/richness.py:454: UserWarning: Optimization failure likely: 0.0 <= 0\n",
      "  warnings.warn(f\"Optimization failure likely: {x_ast} <= 0\")\n",
      "  0%|          | 41/10000 [00:00<02:23, 69.36it/s]"
     ]
    },
    {
     "name": "stdout",
     "output_type": "stream",
     "text": [
      "Tolerance criterion not met: 51.0 > 0.1\n"
     ]
    },
    {
     "name": "stderr",
     "output_type": "stream",
     "text": [
      "/home/carolisteia/miniconda3/envs/forgotten/lib/python3.7/site-packages/copia/richness.py:451: UserWarning: Tolerance criterion not met: 51.0 > 0.1\n",
      "  warnings.warn(f\"Tolerance criterion not met: {diff_intersect} > {tolerance}\")\n",
      "  1%|          | 105/10000 [00:01<02:18, 71.55it/s]"
     ]
    },
    {
     "name": "stdout",
     "output_type": "stream",
     "text": [
      "Tolerance criterion not met: 47.0 > 0.1\n"
     ]
    },
    {
     "name": "stderr",
     "output_type": "stream",
     "text": [
      "/home/carolisteia/miniconda3/envs/forgotten/lib/python3.7/site-packages/copia/richness.py:451: UserWarning: Tolerance criterion not met: 47.0 > 0.1\n",
      "  warnings.warn(f\"Tolerance criterion not met: {diff_intersect} > {tolerance}\")\n",
      "  2%|▏         | 161/10000 [00:02<02:16, 71.97it/s]"
     ]
    },
    {
     "name": "stdout",
     "output_type": "stream",
     "text": [
      "Tolerance criterion not met: 53.0 > 0.1\n"
     ]
    },
    {
     "name": "stderr",
     "output_type": "stream",
     "text": [
      "/home/carolisteia/miniconda3/envs/forgotten/lib/python3.7/site-packages/copia/richness.py:451: UserWarning: Tolerance criterion not met: 53.0 > 0.1\n",
      "  warnings.warn(f\"Tolerance criterion not met: {diff_intersect} > {tolerance}\")\n",
      "  4%|▍         | 377/10000 [00:05<02:14, 71.46it/s]"
     ]
    },
    {
     "name": "stdout",
     "output_type": "stream",
     "text": [
      "Tolerance criterion not met: 47.0 > 0.1\n"
     ]
    },
    {
     "name": "stderr",
     "output_type": "stream",
     "text": [
      "  6%|▌         | 552/10000 [00:07<02:13, 70.58it/s]"
     ]
    },
    {
     "name": "stdout",
     "output_type": "stream",
     "text": [
      "Tolerance criterion not met: 49.0 > 0.1\n"
     ]
    },
    {
     "name": "stderr",
     "output_type": "stream",
     "text": [
      "/home/carolisteia/miniconda3/envs/forgotten/lib/python3.7/site-packages/copia/richness.py:451: UserWarning: Tolerance criterion not met: 49.0 > 0.1\n",
      "  warnings.warn(f\"Tolerance criterion not met: {diff_intersect} > {tolerance}\")\n",
      "  6%|▌         | 560/10000 [00:07<02:13, 70.84it/s]"
     ]
    },
    {
     "name": "stdout",
     "output_type": "stream",
     "text": [
      "Tolerance criterion not met: 49.0 > 0.1\n",
      "Tolerance criterion not met: 45.0 > 0.1\n"
     ]
    },
    {
     "name": "stderr",
     "output_type": "stream",
     "text": [
      "/home/carolisteia/miniconda3/envs/forgotten/lib/python3.7/site-packages/copia/richness.py:451: UserWarning: Tolerance criterion not met: 45.0 > 0.1\n",
      "  warnings.warn(f\"Tolerance criterion not met: {diff_intersect} > {tolerance}\")\n",
      "  6%|▌         | 576/10000 [00:08<02:11, 71.60it/s]"
     ]
    },
    {
     "name": "stdout",
     "output_type": "stream",
     "text": [
      "Tolerance criterion not met: 55.0 > 0.1\n"
     ]
    },
    {
     "name": "stderr",
     "output_type": "stream",
     "text": [
      "/home/carolisteia/miniconda3/envs/forgotten/lib/python3.7/site-packages/copia/richness.py:451: UserWarning: Tolerance criterion not met: 55.0 > 0.1\n",
      "  warnings.warn(f\"Tolerance criterion not met: {diff_intersect} > {tolerance}\")\n",
      "  7%|▋         | 656/10000 [00:09<02:08, 72.95it/s]"
     ]
    },
    {
     "name": "stdout",
     "output_type": "stream",
     "text": [
      "Tolerance criterion not met: 49.0 > 0.1\n"
     ]
    },
    {
     "name": "stderr",
     "output_type": "stream",
     "text": [
      "  7%|▋         | 736/10000 [00:10<02:12, 69.77it/s]"
     ]
    },
    {
     "name": "stdout",
     "output_type": "stream",
     "text": [
      "Tolerance criterion not met: 47.0 > 0.1\n"
     ]
    },
    {
     "name": "stderr",
     "output_type": "stream",
     "text": [
      "  9%|▉         | 902/10000 [00:12<02:06, 72.00it/s]"
     ]
    },
    {
     "name": "stdout",
     "output_type": "stream",
     "text": [
      "Tolerance criterion not met: 35.0 > 0.1\n"
     ]
    },
    {
     "name": "stderr",
     "output_type": "stream",
     "text": [
      "/home/carolisteia/miniconda3/envs/forgotten/lib/python3.7/site-packages/copia/richness.py:451: UserWarning: Tolerance criterion not met: 35.0 > 0.1\n",
      "  warnings.warn(f\"Tolerance criterion not met: {diff_intersect} > {tolerance}\")\n",
      " 10%|▉         | 998/10000 [00:13<02:08, 70.19it/s]"
     ]
    },
    {
     "name": "stdout",
     "output_type": "stream",
     "text": [
      "Tolerance criterion not met: 61.0 > 0.1\n"
     ]
    },
    {
     "name": "stderr",
     "output_type": "stream",
     "text": [
      "/home/carolisteia/miniconda3/envs/forgotten/lib/python3.7/site-packages/copia/richness.py:451: UserWarning: Tolerance criterion not met: 61.0 > 0.1\n",
      "  warnings.warn(f\"Tolerance criterion not met: {diff_intersect} > {tolerance}\")\n",
      " 11%|█▏        | 1134/10000 [00:15<02:01, 73.18it/s]"
     ]
    },
    {
     "name": "stdout",
     "output_type": "stream",
     "text": [
      "Tolerance criterion not met: 47.0 > 0.1\n"
     ]
    },
    {
     "name": "stderr",
     "output_type": "stream",
     "text": [
      " 13%|█▎        | 1315/10000 [00:18<02:04, 69.73it/s]"
     ]
    },
    {
     "name": "stdout",
     "output_type": "stream",
     "text": [
      "Tolerance criterion not met: 53.0 > 0.1\n"
     ]
    },
    {
     "name": "stderr",
     "output_type": "stream",
     "text": [
      " 13%|█▎        | 1323/10000 [00:18<02:03, 70.01it/s]"
     ]
    },
    {
     "name": "stdout",
     "output_type": "stream",
     "text": [
      "Tolerance criterion not met: 45.0 > 0.1\n"
     ]
    },
    {
     "name": "stderr",
     "output_type": "stream",
     "text": [
      " 13%|█▎        | 1330/10000 [00:18<02:03, 69.93it/s]"
     ]
    },
    {
     "name": "stdout",
     "output_type": "stream",
     "text": [
      "Tolerance criterion not met: 43.0 > 0.1\n"
     ]
    },
    {
     "name": "stderr",
     "output_type": "stream",
     "text": [
      "/home/carolisteia/miniconda3/envs/forgotten/lib/python3.7/site-packages/copia/richness.py:451: UserWarning: Tolerance criterion not met: 43.0 > 0.1\n",
      "  warnings.warn(f\"Tolerance criterion not met: {diff_intersect} > {tolerance}\")\n",
      " 13%|█▎        | 1337/10000 [00:18<02:03, 69.94it/s]"
     ]
    },
    {
     "name": "stdout",
     "output_type": "stream",
     "text": [
      "Tolerance criterion not met: 47.0 > 0.1\n"
     ]
    },
    {
     "name": "stderr",
     "output_type": "stream",
     "text": [
      " 14%|█▎        | 1351/10000 [00:18<02:04, 69.31it/s]"
     ]
    },
    {
     "name": "stdout",
     "output_type": "stream",
     "text": [
      "Tolerance criterion not met: 43.0 > 0.1\n"
     ]
    },
    {
     "name": "stderr",
     "output_type": "stream",
     "text": [
      " 14%|█▎        | 1359/10000 [00:19<02:04, 69.65it/s]"
     ]
    },
    {
     "name": "stdout",
     "output_type": "stream",
     "text": [
      "Tolerance criterion not met: 35.0 > 0.1\n"
     ]
    },
    {
     "name": "stderr",
     "output_type": "stream",
     "text": [
      " 15%|█▍        | 1467/10000 [00:20<01:56, 73.06it/s]"
     ]
    },
    {
     "name": "stdout",
     "output_type": "stream",
     "text": [
      "Tolerance criterion not met: 45.0 > 0.1\n"
     ]
    },
    {
     "name": "stderr",
     "output_type": "stream",
     "text": [
      " 15%|█▍        | 1483/10000 [00:20<01:57, 72.75it/s]"
     ]
    },
    {
     "name": "stdout",
     "output_type": "stream",
     "text": [
      "Tolerance criterion not met: 47.0 > 0.1\n"
     ]
    },
    {
     "name": "stderr",
     "output_type": "stream",
     "text": [
      " 15%|█▌        | 1539/10000 [00:21<02:00, 70.31it/s]"
     ]
    },
    {
     "name": "stdout",
     "output_type": "stream",
     "text": [
      "Tolerance criterion not met: 45.0 > 0.1\n"
     ]
    },
    {
     "name": "stderr",
     "output_type": "stream",
     "text": [
      " 16%|█▋        | 1635/10000 [00:22<01:54, 72.83it/s]"
     ]
    },
    {
     "name": "stdout",
     "output_type": "stream",
     "text": [
      "Tolerance criterion not met: 49.0 > 0.1\n"
     ]
    },
    {
     "name": "stderr",
     "output_type": "stream",
     "text": [
      " 20%|█▉        | 1950/10000 [00:27<01:55, 69.64it/s]"
     ]
    },
    {
     "name": "stdout",
     "output_type": "stream",
     "text": [
      "Tolerance criterion not met: 51.0 > 0.1\n"
     ]
    },
    {
     "name": "stderr",
     "output_type": "stream",
     "text": [
      " 20%|█▉        | 1965/10000 [00:27<01:54, 70.13it/s]"
     ]
    },
    {
     "name": "stdout",
     "output_type": "stream",
     "text": [
      "Tolerance criterion not met: 47.0 > 0.1\n"
     ]
    },
    {
     "name": "stderr",
     "output_type": "stream",
     "text": [
      " 20%|█▉        | 1989/10000 [00:28<01:57, 68.27it/s]"
     ]
    },
    {
     "name": "stdout",
     "output_type": "stream",
     "text": [
      "Tolerance criterion not met: 47.0 > 0.1\n",
      "Tolerance criterion not met: 61.0 > 0.1\n"
     ]
    },
    {
     "name": "stderr",
     "output_type": "stream",
     "text": [
      " 21%|██        | 2060/10000 [00:29<01:51, 71.48it/s]"
     ]
    },
    {
     "name": "stdout",
     "output_type": "stream",
     "text": [
      "Tolerance criterion not met: 55.0 > 0.1\n",
      "Tolerance criterion not met: 49.0 > 0.1\n",
      "Tolerance criterion not met: 37.0 > 0.1\n"
     ]
    },
    {
     "name": "stderr",
     "output_type": "stream",
     "text": [
      "/home/carolisteia/miniconda3/envs/forgotten/lib/python3.7/site-packages/copia/richness.py:451: UserWarning: Tolerance criterion not met: 37.0 > 0.1\n",
      "  warnings.warn(f\"Tolerance criterion not met: {diff_intersect} > {tolerance}\")\n",
      " 21%|██▏       | 2133/10000 [00:30<01:54, 68.67it/s]"
     ]
    },
    {
     "name": "stdout",
     "output_type": "stream",
     "text": [
      "Tolerance criterion not met: 51.0 > 0.1\n"
     ]
    },
    {
     "name": "stderr",
     "output_type": "stream",
     "text": [
      " 21%|██▏       | 2140/10000 [00:30<01:54, 68.38it/s]"
     ]
    },
    {
     "name": "stdout",
     "output_type": "stream",
     "text": [
      "Tolerance criterion not met: 51.0 > 0.1\n"
     ]
    },
    {
     "name": "stderr",
     "output_type": "stream",
     "text": [
      " 22%|██▏       | 2161/10000 [00:30<01:53, 69.00it/s]"
     ]
    },
    {
     "name": "stdout",
     "output_type": "stream",
     "text": [
      "Tolerance criterion not met: 55.0 > 0.1\n"
     ]
    },
    {
     "name": "stderr",
     "output_type": "stream",
     "text": [
      " 22%|██▏       | 2234/10000 [00:31<01:51, 69.63it/s]"
     ]
    },
    {
     "name": "stdout",
     "output_type": "stream",
     "text": [
      "Tolerance criterion not met: 45.0 > 0.1\n"
     ]
    },
    {
     "name": "stderr",
     "output_type": "stream",
     "text": [
      " 24%|██▎       | 2364/10000 [00:33<01:50, 69.21it/s]"
     ]
    },
    {
     "name": "stdout",
     "output_type": "stream",
     "text": [
      "Tolerance criterion not met: 47.0 > 0.1\n"
     ]
    },
    {
     "name": "stderr",
     "output_type": "stream",
     "text": [
      " 24%|██▍       | 2427/10000 [00:34<01:49, 69.06it/s]"
     ]
    },
    {
     "name": "stdout",
     "output_type": "stream",
     "text": [
      "Tolerance criterion not met: 47.0 > 0.1\n"
     ]
    },
    {
     "name": "stderr",
     "output_type": "stream",
     "text": [
      " 25%|██▍       | 2469/10000 [00:34<01:49, 68.83it/s]"
     ]
    },
    {
     "name": "stdout",
     "output_type": "stream",
     "text": [
      "Tolerance criterion not met: 49.0 > 0.1\n"
     ]
    },
    {
     "name": "stderr",
     "output_type": "stream",
     "text": [
      " 25%|██▌       | 2504/10000 [00:35<01:48, 69.35it/s]"
     ]
    },
    {
     "name": "stdout",
     "output_type": "stream",
     "text": [
      "Tolerance criterion not met: 47.0 > 0.1\n"
     ]
    },
    {
     "name": "stderr",
     "output_type": "stream",
     "text": [
      " 25%|██▌       | 2511/10000 [00:35<01:48, 69.15it/s]"
     ]
    },
    {
     "name": "stdout",
     "output_type": "stream",
     "text": [
      "Tolerance criterion not met: 49.0 > 0.1\n"
     ]
    },
    {
     "name": "stderr",
     "output_type": "stream",
     "text": [
      " 25%|██▌       | 2534/10000 [00:35<01:47, 69.58it/s]"
     ]
    },
    {
     "name": "stdout",
     "output_type": "stream",
     "text": [
      "Tolerance criterion not met: 55.0 > 0.1\n"
     ]
    },
    {
     "name": "stderr",
     "output_type": "stream",
     "text": [
      " 26%|██▌       | 2599/10000 [00:36<01:48, 67.97it/s]"
     ]
    },
    {
     "name": "stdout",
     "output_type": "stream",
     "text": [
      "Tolerance criterion not met: 43.0 > 0.1\n"
     ]
    },
    {
     "name": "stderr",
     "output_type": "stream",
     "text": [
      " 26%|██▋       | 2641/10000 [00:37<01:52, 65.34it/s]"
     ]
    },
    {
     "name": "stdout",
     "output_type": "stream",
     "text": [
      "Tolerance criterion not met: 59.0 > 0.1\n"
     ]
    },
    {
     "name": "stderr",
     "output_type": "stream",
     "text": [
      " 27%|██▋       | 2670/10000 [00:37<01:47, 68.13it/s]"
     ]
    },
    {
     "name": "stdout",
     "output_type": "stream",
     "text": [
      "Tolerance criterion not met: 37.0 > 0.1\n"
     ]
    },
    {
     "name": "stderr",
     "output_type": "stream",
     "text": [
      " 27%|██▋       | 2723/10000 [00:38<01:43, 70.58it/s]"
     ]
    },
    {
     "name": "stdout",
     "output_type": "stream",
     "text": [
      "Tolerance criterion not met: 43.0 > 0.1\n"
     ]
    },
    {
     "name": "stderr",
     "output_type": "stream",
     "text": [
      " 27%|██▋       | 2747/10000 [00:39<01:43, 70.26it/s]"
     ]
    },
    {
     "name": "stdout",
     "output_type": "stream",
     "text": [
      "Tolerance criterion not met: 33.0 > 0.1\n"
     ]
    },
    {
     "name": "stderr",
     "output_type": "stream",
     "text": [
      "/home/carolisteia/miniconda3/envs/forgotten/lib/python3.7/site-packages/copia/richness.py:451: UserWarning: Tolerance criterion not met: 33.0 > 0.1\n",
      "  warnings.warn(f\"Tolerance criterion not met: {diff_intersect} > {tolerance}\")\n",
      " 29%|██▉       | 2891/10000 [00:41<01:37, 72.78it/s]"
     ]
    },
    {
     "name": "stdout",
     "output_type": "stream",
     "text": [
      "Tolerance criterion not met: 53.0 > 0.1\n"
     ]
    },
    {
     "name": "stderr",
     "output_type": "stream",
     "text": [
      " 30%|███       | 3035/10000 [00:43<01:38, 70.98it/s]"
     ]
    },
    {
     "name": "stdout",
     "output_type": "stream",
     "text": [
      "Tolerance criterion not met: 47.0 > 0.1\n"
     ]
    },
    {
     "name": "stderr",
     "output_type": "stream",
     "text": [
      " 31%|███       | 3051/10000 [00:43<01:39, 69.91it/s]"
     ]
    },
    {
     "name": "stdout",
     "output_type": "stream",
     "text": [
      "Tolerance criterion not met: 57.0 > 0.1\n"
     ]
    },
    {
     "name": "stderr",
     "output_type": "stream",
     "text": [
      "/home/carolisteia/miniconda3/envs/forgotten/lib/python3.7/site-packages/copia/richness.py:451: UserWarning: Tolerance criterion not met: 57.0 > 0.1\n",
      "  warnings.warn(f\"Tolerance criterion not met: {diff_intersect} > {tolerance}\")\n",
      " 31%|███       | 3065/10000 [00:43<01:40, 69.11it/s]"
     ]
    },
    {
     "name": "stdout",
     "output_type": "stream",
     "text": [
      "Tolerance criterion not met: 51.0 > 0.1\n"
     ]
    },
    {
     "name": "stderr",
     "output_type": "stream",
     "text": [
      " 33%|███▎      | 3296/10000 [00:46<01:38, 68.40it/s]"
     ]
    },
    {
     "name": "stdout",
     "output_type": "stream",
     "text": [
      "Tolerance criterion not met: 51.0 > 0.1\n"
     ]
    },
    {
     "name": "stderr",
     "output_type": "stream",
     "text": [
      " 34%|███▍      | 3437/10000 [00:48<01:35, 68.59it/s]"
     ]
    },
    {
     "name": "stdout",
     "output_type": "stream",
     "text": [
      "Tolerance criterion not met: 53.0 > 0.1\n"
     ]
    },
    {
     "name": "stderr",
     "output_type": "stream",
     "text": [
      " 36%|███▌      | 3580/10000 [00:50<01:29, 71.38it/s]"
     ]
    },
    {
     "name": "stdout",
     "output_type": "stream",
     "text": [
      "Tolerance criterion not met: 47.0 > 0.1\n"
     ]
    },
    {
     "name": "stderr",
     "output_type": "stream",
     "text": [
      " 36%|███▌      | 3596/10000 [00:51<01:33, 68.63it/s]"
     ]
    },
    {
     "name": "stdout",
     "output_type": "stream",
     "text": [
      "Tolerance criterion not met: 43.0 > 0.1\n"
     ]
    },
    {
     "name": "stderr",
     "output_type": "stream",
     "text": [
      " 37%|███▋      | 3673/10000 [00:52<01:40, 63.13it/s]"
     ]
    },
    {
     "name": "stdout",
     "output_type": "stream",
     "text": [
      "Tolerance criterion not met: 53.0 > 0.1\n",
      "Tolerance criterion not met: 37.0 > 0.1\n"
     ]
    },
    {
     "name": "stderr",
     "output_type": "stream",
     "text": [
      " 37%|███▋      | 3680/10000 [00:52<01:42, 61.94it/s]"
     ]
    },
    {
     "name": "stdout",
     "output_type": "stream",
     "text": [
      "Tolerance criterion not met: 51.0 > 0.1\n"
     ]
    },
    {
     "name": "stderr",
     "output_type": "stream",
     "text": [
      " 38%|███▊      | 3750/10000 [00:53<01:40, 62.14it/s]"
     ]
    },
    {
     "name": "stdout",
     "output_type": "stream",
     "text": [
      "Tolerance criterion not met: 53.0 > 0.1\n"
     ]
    },
    {
     "name": "stderr",
     "output_type": "stream",
     "text": [
      " 38%|███▊      | 3827/10000 [00:54<01:39, 62.03it/s]"
     ]
    },
    {
     "name": "stdout",
     "output_type": "stream",
     "text": [
      "Tolerance criterion not met: 47.0 > 0.1\n"
     ]
    },
    {
     "name": "stderr",
     "output_type": "stream",
     "text": [
      " 39%|███▊      | 3862/10000 [00:55<01:39, 62.00it/s]"
     ]
    },
    {
     "name": "stdout",
     "output_type": "stream",
     "text": [
      "Tolerance criterion not met: 41.0 > 0.1\n"
     ]
    },
    {
     "name": "stderr",
     "output_type": "stream",
     "text": [
      "/home/carolisteia/miniconda3/envs/forgotten/lib/python3.7/site-packages/copia/richness.py:451: UserWarning: Tolerance criterion not met: 41.0 > 0.1\n",
      "  warnings.warn(f\"Tolerance criterion not met: {diff_intersect} > {tolerance}\")\n",
      " 39%|███▉      | 3932/10000 [00:56<01:39, 60.85it/s]"
     ]
    },
    {
     "name": "stdout",
     "output_type": "stream",
     "text": [
      "Tolerance criterion not met: 49.0 > 0.1\n"
     ]
    },
    {
     "name": "stderr",
     "output_type": "stream",
     "text": [
      " 40%|███▉      | 3974/10000 [00:57<01:37, 61.91it/s]"
     ]
    },
    {
     "name": "stdout",
     "output_type": "stream",
     "text": [
      "Tolerance criterion not met: 51.0 > 0.1\n"
     ]
    },
    {
     "name": "stderr",
     "output_type": "stream",
     "text": [
      " 40%|████      | 4009/10000 [00:57<01:34, 63.38it/s]"
     ]
    },
    {
     "name": "stdout",
     "output_type": "stream",
     "text": [
      "Tolerance criterion not met: 53.0 > 0.1\n",
      "Tolerance criterion not met: 53.0 > 0.1\n"
     ]
    },
    {
     "name": "stderr",
     "output_type": "stream",
     "text": [
      " 42%|████▏     | 4229/10000 [01:01<01:30, 63.56it/s]"
     ]
    },
    {
     "name": "stdout",
     "output_type": "stream",
     "text": [
      "Tolerance criterion not met: 51.0 > 0.1\n"
     ]
    },
    {
     "name": "stderr",
     "output_type": "stream",
     "text": [
      " 42%|████▎     | 4250/10000 [01:01<01:30, 63.55it/s]"
     ]
    },
    {
     "name": "stdout",
     "output_type": "stream",
     "text": [
      "Tolerance criterion not met: 51.0 > 0.1\n",
      "Tolerance criterion not met: 53.0 > 0.1\n"
     ]
    },
    {
     "name": "stderr",
     "output_type": "stream",
     "text": [
      " 43%|████▎     | 4299/10000 [01:02<01:31, 62.50it/s]"
     ]
    },
    {
     "name": "stdout",
     "output_type": "stream",
     "text": [
      "Tolerance criterion not met: 49.0 > 0.1\n"
     ]
    },
    {
     "name": "stderr",
     "output_type": "stream",
     "text": [
      " 43%|████▎     | 4313/10000 [01:02<01:30, 62.94it/s]"
     ]
    },
    {
     "name": "stdout",
     "output_type": "stream",
     "text": [
      "Tolerance criterion not met: 51.0 > 0.1\n"
     ]
    },
    {
     "name": "stderr",
     "output_type": "stream",
     "text": [
      " 44%|████▍     | 4418/10000 [01:04<01:35, 58.24it/s]"
     ]
    },
    {
     "name": "stdout",
     "output_type": "stream",
     "text": [
      "Tolerance criterion not met: 49.0 > 0.1\n"
     ]
    },
    {
     "name": "stderr",
     "output_type": "stream",
     "text": [
      " 45%|████▌     | 4521/10000 [01:06<01:32, 58.93it/s]"
     ]
    },
    {
     "name": "stdout",
     "output_type": "stream",
     "text": [
      "Tolerance criterion not met: 47.0 > 0.1\n"
     ]
    },
    {
     "name": "stderr",
     "output_type": "stream",
     "text": [
      " 45%|████▌     | 4527/10000 [01:06<01:33, 58.73it/s]"
     ]
    },
    {
     "name": "stdout",
     "output_type": "stream",
     "text": [
      "Tolerance criterion not met: 49.0 > 0.1\n"
     ]
    },
    {
     "name": "stderr",
     "output_type": "stream",
     "text": [
      " 46%|████▌     | 4603/10000 [01:07<01:26, 62.72it/s]"
     ]
    },
    {
     "name": "stdout",
     "output_type": "stream",
     "text": [
      "Tolerance criterion not met: 49.0 > 0.1\n"
     ]
    },
    {
     "name": "stderr",
     "output_type": "stream",
     "text": [
      " 47%|████▋     | 4729/10000 [01:09<01:26, 61.11it/s]"
     ]
    },
    {
     "name": "stdout",
     "output_type": "stream",
     "text": [
      "Tolerance criterion not met: 51.0 > 0.1\n"
     ]
    },
    {
     "name": "stderr",
     "output_type": "stream",
     "text": [
      " 48%|████▊     | 4792/10000 [01:10<01:25, 60.86it/s]"
     ]
    },
    {
     "name": "stdout",
     "output_type": "stream",
     "text": [
      "Tolerance criterion not met: 47.0 > 0.1\n"
     ]
    },
    {
     "name": "stderr",
     "output_type": "stream",
     "text": [
      " 48%|████▊     | 4799/10000 [01:10<01:24, 61.20it/s]"
     ]
    },
    {
     "name": "stdout",
     "output_type": "stream",
     "text": [
      "Tolerance criterion not met: 55.0 > 0.1\n"
     ]
    },
    {
     "name": "stderr",
     "output_type": "stream",
     "text": [
      " 48%|████▊     | 4848/10000 [01:11<01:21, 62.96it/s]"
     ]
    },
    {
     "name": "stdout",
     "output_type": "stream",
     "text": [
      "Tolerance criterion not met: 51.0 > 0.1\n"
     ]
    },
    {
     "name": "stderr",
     "output_type": "stream",
     "text": [
      " 49%|████▊     | 4855/10000 [01:11<01:22, 62.58it/s]"
     ]
    },
    {
     "name": "stdout",
     "output_type": "stream",
     "text": [
      "Tolerance criterion not met: 57.0 > 0.1\n"
     ]
    },
    {
     "name": "stderr",
     "output_type": "stream",
     "text": [
      " 49%|████▊     | 4869/10000 [01:11<01:25, 59.92it/s]"
     ]
    },
    {
     "name": "stdout",
     "output_type": "stream",
     "text": [
      "Tolerance criterion not met: 53.0 > 0.1\n"
     ]
    },
    {
     "name": "stderr",
     "output_type": "stream",
     "text": [
      " 49%|████▉     | 4890/10000 [01:12<01:23, 61.04it/s]"
     ]
    },
    {
     "name": "stdout",
     "output_type": "stream",
     "text": [
      "Tolerance criterion not met: 43.0 > 0.1\n"
     ]
    },
    {
     "name": "stderr",
     "output_type": "stream",
     "text": [
      " 51%|█████▏    | 5149/10000 [01:16<01:23, 57.78it/s]"
     ]
    },
    {
     "name": "stdout",
     "output_type": "stream",
     "text": [
      "Tolerance criterion not met: 49.0 > 0.1\n"
     ]
    },
    {
     "name": "stderr",
     "output_type": "stream",
     "text": [
      " 52%|█████▏    | 5173/10000 [01:16<01:28, 54.83it/s]"
     ]
    },
    {
     "name": "stdout",
     "output_type": "stream",
     "text": [
      "Tolerance criterion not met: 51.0 > 0.1\n"
     ]
    },
    {
     "name": "stderr",
     "output_type": "stream",
     "text": [
      " 53%|█████▎    | 5278/10000 [01:18<01:18, 59.83it/s]"
     ]
    },
    {
     "name": "stdout",
     "output_type": "stream",
     "text": [
      "Tolerance criterion not met: 47.0 > 0.1\n"
     ]
    },
    {
     "name": "stderr",
     "output_type": "stream",
     "text": [
      " 53%|█████▎    | 5285/10000 [01:18<01:18, 60.04it/s]"
     ]
    },
    {
     "name": "stdout",
     "output_type": "stream",
     "text": [
      "Tolerance criterion not met: 47.0 > 0.1\n"
     ]
    },
    {
     "name": "stderr",
     "output_type": "stream",
     "text": [
      " 55%|█████▍    | 5483/10000 [01:22<01:15, 60.18it/s]"
     ]
    },
    {
     "name": "stdout",
     "output_type": "stream",
     "text": [
      "Tolerance criterion not met: 39.0 > 0.1\n"
     ]
    },
    {
     "name": "stderr",
     "output_type": "stream",
     "text": [
      "/home/carolisteia/miniconda3/envs/forgotten/lib/python3.7/site-packages/copia/richness.py:451: UserWarning: Tolerance criterion not met: 39.0 > 0.1\n",
      "  warnings.warn(f\"Tolerance criterion not met: {diff_intersect} > {tolerance}\")\n",
      " 55%|█████▌    | 5532/10000 [01:22<01:10, 62.95it/s]"
     ]
    },
    {
     "name": "stdout",
     "output_type": "stream",
     "text": [
      "Tolerance criterion not met: 47.0 > 0.1\n"
     ]
    },
    {
     "name": "stderr",
     "output_type": "stream",
     "text": [
      " 57%|█████▋    | 5709/10000 [01:26<01:18, 54.32it/s]"
     ]
    },
    {
     "name": "stdout",
     "output_type": "stream",
     "text": [
      "Tolerance criterion not met: 47.0 > 0.1\n"
     ]
    },
    {
     "name": "stderr",
     "output_type": "stream",
     "text": [
      " 58%|█████▊    | 5811/10000 [01:27<01:15, 55.20it/s]"
     ]
    },
    {
     "name": "stdout",
     "output_type": "stream",
     "text": [
      "Tolerance criterion not met: 47.0 > 0.1\n"
     ]
    },
    {
     "name": "stderr",
     "output_type": "stream",
     "text": [
      " 59%|█████▉    | 5931/10000 [01:30<01:15, 53.92it/s]"
     ]
    },
    {
     "name": "stdout",
     "output_type": "stream",
     "text": [
      "Tolerance criterion not met: 47.0 > 0.1\n"
     ]
    },
    {
     "name": "stderr",
     "output_type": "stream",
     "text": [
      " 60%|██████    | 6009/10000 [01:31<01:08, 58.59it/s]"
     ]
    },
    {
     "name": "stdout",
     "output_type": "stream",
     "text": [
      "Tolerance criterion not met: 49.0 > 0.1\n"
     ]
    },
    {
     "name": "stderr",
     "output_type": "stream",
     "text": [
      " 61%|██████    | 6117/10000 [01:33<01:04, 60.17it/s]"
     ]
    },
    {
     "name": "stdout",
     "output_type": "stream",
     "text": [
      "Tolerance criterion not met: 49.0 > 0.1\n"
     ]
    },
    {
     "name": "stderr",
     "output_type": "stream",
     "text": [
      " 62%|██████▏   | 6179/10000 [01:34<01:01, 62.21it/s]"
     ]
    },
    {
     "name": "stdout",
     "output_type": "stream",
     "text": [
      "Tolerance criterion not met: 51.0 > 0.1\n"
     ]
    },
    {
     "name": "stderr",
     "output_type": "stream",
     "text": [
      " 62%|██████▏   | 6240/10000 [01:35<01:04, 58.37it/s]"
     ]
    },
    {
     "name": "stdout",
     "output_type": "stream",
     "text": [
      "Tolerance criterion not met: 49.0 > 0.1\n"
     ]
    },
    {
     "name": "stderr",
     "output_type": "stream",
     "text": [
      " 63%|██████▎   | 6308/10000 [01:36<01:03, 58.44it/s]"
     ]
    },
    {
     "name": "stdout",
     "output_type": "stream",
     "text": [
      "Tolerance criterion not met: 49.0 > 0.1\n"
     ]
    },
    {
     "name": "stderr",
     "output_type": "stream",
     "text": [
      " 63%|██████▎   | 6314/10000 [01:36<01:04, 56.92it/s]"
     ]
    },
    {
     "name": "stdout",
     "output_type": "stream",
     "text": [
      "Tolerance criterion not met: 47.0 > 0.1\n"
     ]
    },
    {
     "name": "stderr",
     "output_type": "stream",
     "text": [
      " 64%|██████▎   | 6356/10000 [01:37<01:07, 54.16it/s]"
     ]
    },
    {
     "name": "stdout",
     "output_type": "stream",
     "text": [
      "Tolerance criterion not met: 51.0 > 0.1\n"
     ]
    },
    {
     "name": "stderr",
     "output_type": "stream",
     "text": [
      " 65%|██████▌   | 6542/10000 [01:40<01:01, 55.90it/s]"
     ]
    },
    {
     "name": "stdout",
     "output_type": "stream",
     "text": [
      "Tolerance criterion not met: 47.0 > 0.1\n"
     ]
    },
    {
     "name": "stderr",
     "output_type": "stream",
     "text": [
      " 66%|██████▋   | 6650/10000 [01:42<01:01, 54.62it/s]"
     ]
    },
    {
     "name": "stdout",
     "output_type": "stream",
     "text": [
      "Tolerance criterion not met: 43.0 > 0.1\n"
     ]
    },
    {
     "name": "stderr",
     "output_type": "stream",
     "text": [
      " 67%|██████▋   | 6745/10000 [01:44<00:54, 59.43it/s]"
     ]
    },
    {
     "name": "stdout",
     "output_type": "stream",
     "text": [
      "Tolerance criterion not met: 59.0 > 0.1\n"
     ]
    },
    {
     "name": "stderr",
     "output_type": "stream",
     "text": [
      " 69%|██████▉   | 6928/10000 [01:47<00:48, 63.52it/s]"
     ]
    },
    {
     "name": "stdout",
     "output_type": "stream",
     "text": [
      "Tolerance criterion not met: 47.0 > 0.1\n"
     ]
    },
    {
     "name": "stderr",
     "output_type": "stream",
     "text": [
      " 70%|███████   | 7005/10000 [01:48<00:47, 62.73it/s]"
     ]
    },
    {
     "name": "stdout",
     "output_type": "stream",
     "text": [
      "Tolerance criterion not met: 49.0 > 0.1\n"
     ]
    },
    {
     "name": "stderr",
     "output_type": "stream",
     "text": [
      " 71%|███████   | 7096/10000 [01:50<00:45, 63.32it/s]"
     ]
    },
    {
     "name": "stdout",
     "output_type": "stream",
     "text": [
      "Tolerance criterion not met: 57.0 > 0.1\n",
      "Tolerance criterion not met: 41.0 > 0.1\n"
     ]
    },
    {
     "name": "stderr",
     "output_type": "stream",
     "text": [
      " 72%|███████▏  | 7152/10000 [01:50<00:46, 60.94it/s]"
     ]
    },
    {
     "name": "stdout",
     "output_type": "stream",
     "text": [
      "Tolerance criterion not met: 49.0 > 0.1\n"
     ]
    },
    {
     "name": "stderr",
     "output_type": "stream",
     "text": [
      " 73%|███████▎  | 7256/10000 [01:52<00:47, 57.67it/s]"
     ]
    },
    {
     "name": "stdout",
     "output_type": "stream",
     "text": [
      "Tolerance criterion not met: 51.0 > 0.1\n"
     ]
    },
    {
     "name": "stderr",
     "output_type": "stream",
     "text": [
      " 73%|███████▎  | 7274/10000 [01:53<00:50, 53.94it/s]"
     ]
    },
    {
     "name": "stdout",
     "output_type": "stream",
     "text": [
      "Tolerance criterion not met: 47.0 > 0.1\n"
     ]
    },
    {
     "name": "stderr",
     "output_type": "stream",
     "text": [
      " 73%|███████▎  | 7286/10000 [01:53<00:48, 55.84it/s]"
     ]
    },
    {
     "name": "stdout",
     "output_type": "stream",
     "text": [
      "Tolerance criterion not met: 33.0 > 0.1\n"
     ]
    },
    {
     "name": "stderr",
     "output_type": "stream",
     "text": [
      " 73%|███████▎  | 7316/10000 [01:53<00:47, 56.66it/s]"
     ]
    },
    {
     "name": "stdout",
     "output_type": "stream",
     "text": [
      "Tolerance criterion not met: 47.0 > 0.1\n"
     ]
    },
    {
     "name": "stderr",
     "output_type": "stream",
     "text": [
      " 74%|███████▍  | 7409/10000 [01:55<00:46, 55.91it/s]"
     ]
    },
    {
     "name": "stdout",
     "output_type": "stream",
     "text": [
      "Tolerance criterion not met: 47.0 > 0.1\n"
     ]
    },
    {
     "name": "stderr",
     "output_type": "stream",
     "text": [
      " 74%|███████▍  | 7421/10000 [01:55<00:46, 55.31it/s]"
     ]
    },
    {
     "name": "stdout",
     "output_type": "stream",
     "text": [
      "Tolerance criterion not met: 53.0 > 0.1\n"
     ]
    },
    {
     "name": "stderr",
     "output_type": "stream",
     "text": [
      " 75%|███████▍  | 7464/10000 [01:56<00:43, 58.64it/s]"
     ]
    },
    {
     "name": "stdout",
     "output_type": "stream",
     "text": [
      "Tolerance criterion not met: 53.0 > 0.1\n"
     ]
    },
    {
     "name": "stderr",
     "output_type": "stream",
     "text": [
      " 75%|███████▍  | 7470/10000 [01:56<00:43, 57.84it/s]"
     ]
    },
    {
     "name": "stdout",
     "output_type": "stream",
     "text": [
      "Tolerance criterion not met: 55.0 > 0.1\n"
     ]
    },
    {
     "name": "stderr",
     "output_type": "stream",
     "text": [
      " 75%|███████▍  | 7482/10000 [01:56<00:43, 57.43it/s]"
     ]
    },
    {
     "name": "stdout",
     "output_type": "stream",
     "text": [
      "Tolerance criterion not met: 47.0 > 0.1\n"
     ]
    },
    {
     "name": "stderr",
     "output_type": "stream",
     "text": [
      " 76%|███████▌  | 7580/10000 [01:58<00:42, 56.34it/s]"
     ]
    },
    {
     "name": "stdout",
     "output_type": "stream",
     "text": [
      "Tolerance criterion not met: 47.0 > 0.1\n"
     ]
    },
    {
     "name": "stderr",
     "output_type": "stream",
     "text": [
      " 76%|███████▌  | 7610/10000 [01:58<00:42, 56.29it/s]"
     ]
    },
    {
     "name": "stdout",
     "output_type": "stream",
     "text": [
      "Tolerance criterion not met: 53.0 > 0.1\n"
     ]
    },
    {
     "name": "stderr",
     "output_type": "stream",
     "text": [
      " 76%|███████▌  | 7616/10000 [01:59<00:43, 55.20it/s]"
     ]
    },
    {
     "name": "stdout",
     "output_type": "stream",
     "text": [
      "Tolerance criterion not met: 53.0 > 0.1\n",
      "Tolerance criterion not met: 49.0 > 0.1\n"
     ]
    },
    {
     "name": "stderr",
     "output_type": "stream",
     "text": [
      " 77%|███████▋  | 7676/10000 [02:00<00:44, 52.53it/s]"
     ]
    },
    {
     "name": "stdout",
     "output_type": "stream",
     "text": [
      "Tolerance criterion not met: 51.0 > 0.1\n"
     ]
    },
    {
     "name": "stderr",
     "output_type": "stream",
     "text": [
      " 79%|███████▊  | 7856/10000 [02:03<00:39, 53.73it/s]"
     ]
    },
    {
     "name": "stdout",
     "output_type": "stream",
     "text": [
      "Tolerance criterion not met: 51.0 > 0.1\n"
     ]
    },
    {
     "name": "stderr",
     "output_type": "stream",
     "text": [
      " 79%|███████▉  | 7886/10000 [02:04<00:38, 54.97it/s]"
     ]
    },
    {
     "name": "stdout",
     "output_type": "stream",
     "text": [
      "Tolerance criterion not met: 49.0 > 0.1\n"
     ]
    },
    {
     "name": "stderr",
     "output_type": "stream",
     "text": [
      " 79%|███████▉  | 7928/10000 [02:04<00:36, 56.98it/s]"
     ]
    },
    {
     "name": "stdout",
     "output_type": "stream",
     "text": [
      "Tolerance criterion not met: 49.0 > 0.1\n"
     ]
    },
    {
     "name": "stderr",
     "output_type": "stream",
     "text": [
      " 80%|███████▉  | 7964/10000 [02:05<00:35, 57.41it/s]"
     ]
    },
    {
     "name": "stdout",
     "output_type": "stream",
     "text": [
      "Tolerance criterion not met: 49.0 > 0.1\n"
     ]
    },
    {
     "name": "stderr",
     "output_type": "stream",
     "text": [
      " 80%|████████  | 8020/10000 [02:06<00:33, 58.93it/s]"
     ]
    },
    {
     "name": "stdout",
     "output_type": "stream",
     "text": [
      "Tolerance criterion not met: 49.0 > 0.1\n"
     ]
    },
    {
     "name": "stderr",
     "output_type": "stream",
     "text": [
      " 82%|████████▏ | 8215/10000 [02:09<00:27, 64.00it/s]"
     ]
    },
    {
     "name": "stdout",
     "output_type": "stream",
     "text": [
      "Tolerance criterion not met: 57.0 > 0.1\n"
     ]
    },
    {
     "name": "stderr",
     "output_type": "stream",
     "text": [
      " 83%|████████▎ | 8271/10000 [02:10<00:30, 56.48it/s]"
     ]
    },
    {
     "name": "stdout",
     "output_type": "stream",
     "text": [
      "Tolerance criterion not met: 47.0 > 0.1\n"
     ]
    },
    {
     "name": "stderr",
     "output_type": "stream",
     "text": [
      " 83%|████████▎ | 8295/10000 [02:11<00:31, 54.92it/s]"
     ]
    },
    {
     "name": "stdout",
     "output_type": "stream",
     "text": [
      "Tolerance criterion not met: 47.0 > 0.1\n"
     ]
    },
    {
     "name": "stderr",
     "output_type": "stream",
     "text": [
      " 83%|████████▎ | 8301/10000 [02:11<00:31, 53.79it/s]"
     ]
    },
    {
     "name": "stdout",
     "output_type": "stream",
     "text": [
      "Tolerance criterion not met: 51.0 > 0.1\n"
     ]
    },
    {
     "name": "stderr",
     "output_type": "stream",
     "text": [
      " 83%|████████▎ | 8313/10000 [02:11<00:31, 53.49it/s]"
     ]
    },
    {
     "name": "stdout",
     "output_type": "stream",
     "text": [
      "Tolerance criterion not met: 53.0 > 0.1\n"
     ]
    },
    {
     "name": "stderr",
     "output_type": "stream",
     "text": [
      " 83%|████████▎ | 8343/10000 [02:11<00:30, 54.88it/s]"
     ]
    },
    {
     "name": "stdout",
     "output_type": "stream",
     "text": [
      "Tolerance criterion not met: 47.0 > 0.1\n"
     ]
    },
    {
     "name": "stderr",
     "output_type": "stream",
     "text": [
      " 84%|████████▍ | 8379/10000 [02:12<00:29, 54.60it/s]"
     ]
    },
    {
     "name": "stdout",
     "output_type": "stream",
     "text": [
      "Tolerance criterion not met: 49.0 > 0.1\n"
     ]
    },
    {
     "name": "stderr",
     "output_type": "stream",
     "text": [
      " 85%|████████▍ | 8457/10000 [02:14<00:27, 56.02it/s]"
     ]
    },
    {
     "name": "stdout",
     "output_type": "stream",
     "text": [
      "Tolerance criterion not met: 53.0 > 0.1\n"
     ]
    },
    {
     "name": "stderr",
     "output_type": "stream",
     "text": [
      " 85%|████████▍ | 8499/10000 [02:14<00:27, 55.05it/s]"
     ]
    },
    {
     "name": "stdout",
     "output_type": "stream",
     "text": [
      "Tolerance criterion not met: 47.0 > 0.1\n"
     ]
    },
    {
     "name": "stderr",
     "output_type": "stream",
     "text": [
      " 88%|████████▊ | 8846/10000 [02:20<00:20, 55.49it/s]"
     ]
    },
    {
     "name": "stdout",
     "output_type": "stream",
     "text": [
      "Tolerance criterion not met: 41.0 > 0.1\n"
     ]
    },
    {
     "name": "stderr",
     "output_type": "stream",
     "text": [
      " 89%|████████▊ | 8872/10000 [02:20<00:19, 59.16it/s]"
     ]
    },
    {
     "name": "stdout",
     "output_type": "stream",
     "text": [
      "Tolerance criterion not met: 47.0 > 0.1\n"
     ]
    },
    {
     "name": "stderr",
     "output_type": "stream",
     "text": [
      " 90%|████████▉ | 8975/10000 [02:22<00:16, 63.60it/s]"
     ]
    },
    {
     "name": "stdout",
     "output_type": "stream",
     "text": [
      "Tolerance criterion not met: 51.0 > 0.1\n"
     ]
    },
    {
     "name": "stderr",
     "output_type": "stream",
     "text": [
      " 90%|█████████ | 9024/10000 [02:23<00:15, 62.45it/s]"
     ]
    },
    {
     "name": "stdout",
     "output_type": "stream",
     "text": [
      "Tolerance criterion not met: 47.0 > 0.1\n"
     ]
    },
    {
     "name": "stderr",
     "output_type": "stream",
     "text": [
      " 90%|█████████ | 9045/10000 [02:23<00:15, 62.76it/s]"
     ]
    },
    {
     "name": "stdout",
     "output_type": "stream",
     "text": [
      "Tolerance criterion not met: 55.0 > 0.1\n"
     ]
    },
    {
     "name": "stderr",
     "output_type": "stream",
     "text": [
      " 91%|█████████▏| 9143/10000 [02:25<00:13, 63.51it/s]"
     ]
    },
    {
     "name": "stdout",
     "output_type": "stream",
     "text": [
      "Tolerance criterion not met: 55.0 > 0.1\n"
     ]
    },
    {
     "name": "stderr",
     "output_type": "stream",
     "text": [
      " 92%|█████████▏| 9227/10000 [02:26<00:12, 62.27it/s]"
     ]
    },
    {
     "name": "stdout",
     "output_type": "stream",
     "text": [
      "Tolerance criterion not met: 55.0 > 0.1\n"
     ]
    },
    {
     "name": "stderr",
     "output_type": "stream",
     "text": [
      " 94%|█████████▎| 9364/10000 [02:29<00:11, 55.25it/s]"
     ]
    },
    {
     "name": "stdout",
     "output_type": "stream",
     "text": [
      "Tolerance criterion not met: 49.0 > 0.1\n"
     ]
    },
    {
     "name": "stderr",
     "output_type": "stream",
     "text": [
      " 94%|█████████▍| 9430/10000 [02:30<00:09, 57.49it/s]"
     ]
    },
    {
     "name": "stdout",
     "output_type": "stream",
     "text": [
      "Tolerance criterion not met: 53.0 > 0.1\n"
     ]
    },
    {
     "name": "stderr",
     "output_type": "stream",
     "text": [
      " 96%|█████████▌| 9600/10000 [02:33<00:07, 52.97it/s]"
     ]
    },
    {
     "name": "stdout",
     "output_type": "stream",
     "text": [
      "Tolerance criterion not met: 47.0 > 0.1\n"
     ]
    },
    {
     "name": "stderr",
     "output_type": "stream",
     "text": [
      " 98%|█████████▊| 9812/10000 [02:36<00:03, 58.34it/s]"
     ]
    },
    {
     "name": "stdout",
     "output_type": "stream",
     "text": [
      "Tolerance criterion not met: 55.0 > 0.1\n"
     ]
    },
    {
     "name": "stderr",
     "output_type": "stream",
     "text": [
      " 98%|█████████▊| 9818/10000 [02:37<00:03, 58.47it/s]"
     ]
    },
    {
     "name": "stdout",
     "output_type": "stream",
     "text": [
      "Tolerance criterion not met: 31.0 > 0.1\n"
     ]
    },
    {
     "name": "stderr",
     "output_type": "stream",
     "text": [
      "/home/carolisteia/miniconda3/envs/forgotten/lib/python3.7/site-packages/copia/richness.py:451: UserWarning: Tolerance criterion not met: 31.0 > 0.1\n",
      "  warnings.warn(f\"Tolerance criterion not met: {diff_intersect} > {tolerance}\")\n"
     ]
    },
    {
     "name": "stdout",
     "output_type": "stream",
     "text": [
      "Tolerance criterion not met: 49.0 > 0.1\n"
     ]
    },
    {
     "name": "stderr",
     "output_type": "stream",
     "text": [
      " 98%|█████████▊| 9849/10000 [02:37<00:02, 58.48it/s]"
     ]
    },
    {
     "name": "stdout",
     "output_type": "stream",
     "text": [
      "Tolerance criterion not met: 49.0 > 0.1\n"
     ]
    },
    {
     "name": "stderr",
     "output_type": "stream",
     "text": [
      " 99%|█████████▉| 9932/10000 [02:38<00:01, 59.89it/s]"
     ]
    },
    {
     "name": "stdout",
     "output_type": "stream",
     "text": [
      "Tolerance criterion not met: 51.0 > 0.1\n"
     ]
    },
    {
     "name": "stderr",
     "output_type": "stream",
     "text": [
      " 99%|█████████▉| 9938/10000 [02:39<00:01, 59.36it/s]"
     ]
    },
    {
     "name": "stdout",
     "output_type": "stream",
     "text": [
      "Tolerance criterion not met: 53.0 > 0.1\n"
     ]
    },
    {
     "name": "stderr",
     "output_type": "stream",
     "text": [
      "100%|██████████| 10000/10000 [02:40<00:00, 62.42it/s]\n"
     ]
    }
   ],
   "source": [
    "dsurvival_all = survival_ratio(abundance, method='minsample', n_iter=10000)"
   ]
  },
  {
   "cell_type": "markdown",
   "id": "02f09407",
   "metadata": {},
   "source": []
  },
  {
   "cell_type": "code",
   "execution_count": 25,
   "id": "254927a4",
   "metadata": {},
   "outputs": [
    {
     "data": {
      "image/png": "[encoded data removed]",
      "text/plain": [
       "<Figure size 500x400 with 1 Axes>"
      ]
     },
     "metadata": {},
     "output_type": "display_data"
    }
   ],
   "source": [
    "ax = density(dsurvival_all, figsize=(5, 4), xlim=(0.04, 0.15))\n",
    "ax.set_yticklabels([])\n",
    "ax.tick_params(axis='y', which='both', left=False)\n",
    "ax.set_ylabel(None)\n",
    "ax.spines['left'].set_visible(False)\n",
    "plt.savefig('/home/carolisteia/Desktop/filologia_iberica/memoire_M2/usm/outputs/dens_docs.pdf')"
   ]
  },
  {
   "cell_type": "markdown",
   "id": "27d82a29",
   "metadata": {},
   "source": [
    "Ensuite, nous traçons la **courbe d'accumulation des espèces** pour l'ensemble. Cette courbe est pertinente pour les spécialistes de la littérature médiévale, car elle donne une indication du rythme auquel nous pourrions encore découvrir de nouvelles œuvres à l'avenir, en examinant davantage de documents (à condition que ces témoins ne soient pas définitivement perdus) :"
   ]
  },
  {
   "cell_type": "code",
   "execution_count": 26,
   "id": "e4b45bb1",
   "metadata": {},
   "outputs": [
    {
     "name": "stderr",
     "output_type": "stream",
     "text": [
      "100%|██████████| 100/100 [01:50<00:00,  1.10s/it]\n"
     ]
    }
   ],
   "source": [
    "# Définition du nombre maximum d'étapes pour l'accumulation des espèces\n",
    "max_steps = 60000  # Ce nombre prend déjà en compte l'estimation minsample\n",
    "\n",
    "# Calcul de la courbe d'accumulation des espèces en utilisant les données d'abondance\n",
    "accumulation = species_accumulation(abundance, max_steps=max_steps)\n"
   ]
  },
  {
   "cell_type": "markdown",
   "id": "75762d2f",
   "metadata": {},
   "source": [
    "Sur ce graphique, nous ajouterons ensuite une estimation de densité par noyau qui montre les estimations bootstrap obtenues à partir de l'estimation `minsample` (sur l'axe secondaire horizontal). *Grosso modo*, la forme obtenue correspond à la zone où l'on s'attend à ce que la courbe asymptotique précédente commence à se stabiliser. Pendant la procédure de bootstrap de `minsample` initiée dans la cellule ci-dessous, des avertissements (`UserWarning`) peuvent apparaître de manière sporadique dans les cas où l'optimisation ne converge pas de manière satisfaisante. Cela fait partie du comportement attendu.\n",
    "\n"
   ]
  },
  {
   "cell_type": "code",
   "execution_count": 27,
   "id": "6fda0a1b",
   "metadata": {},
   "outputs": [
    {
     "name": "stderr",
     "output_type": "stream",
     "text": [
      "  0%|          | 10/10000 [00:00<02:11, 76.20it/s]/home/carolisteia/miniconda3/envs/forgotten/lib/python3.7/site-packages/copia/richness.py:454: UserWarning: Optimization failure likely: -0.9750744161778641 <= 0\n",
      "  warnings.warn(f\"Optimization failure likely: {x_ast} <= 0\")\n",
      "/home/carolisteia/miniconda3/envs/forgotten/lib/python3.7/site-packages/copia/richness.py:454: UserWarning: Optimization failure likely: -0.9827817031676785 <= 0\n",
      "  warnings.warn(f\"Optimization failure likely: {x_ast} <= 0\")\n",
      "/home/carolisteia/miniconda3/envs/forgotten/lib/python3.7/site-packages/copia/richness.py:454: UserWarning: Optimization failure likely: -0.9792084491480466 <= 0\n",
      "  warnings.warn(f\"Optimization failure likely: {x_ast} <= 0\")\n",
      "/home/carolisteia/miniconda3/envs/forgotten/lib/python3.7/site-packages/copia/richness.py:454: UserWarning: Optimization failure likely: -0.9783086533745096 <= 0\n",
      "  warnings.warn(f\"Optimization failure likely: {x_ast} <= 0\")\n",
      "/home/carolisteia/miniconda3/envs/forgotten/lib/python3.7/site-packages/copia/richness.py:454: UserWarning: Optimization failure likely: -0.9821686146152291 <= 0\n",
      "  warnings.warn(f\"Optimization failure likely: {x_ast} <= 0\")\n",
      "/home/carolisteia/miniconda3/envs/forgotten/lib/python3.7/site-packages/copia/richness.py:454: UserWarning: Optimization failure likely: -0.9808017180824796 <= 0\n",
      "  warnings.warn(f\"Optimization failure likely: {x_ast} <= 0\")\n",
      "/home/carolisteia/miniconda3/envs/forgotten/lib/python3.7/site-packages/copia/richness.py:454: UserWarning: Optimization failure likely: -0.9773277195464136 <= 0\n",
      "  warnings.warn(f\"Optimization failure likely: {x_ast} <= 0\")\n",
      "/home/carolisteia/miniconda3/envs/forgotten/lib/python3.7/site-packages/copia/richness.py:454: UserWarning: Optimization failure likely: -0.9761904761904762 <= 0\n",
      "  warnings.warn(f\"Optimization failure likely: {x_ast} <= 0\")\n",
      "/home/carolisteia/miniconda3/envs/forgotten/lib/python3.7/site-packages/copia/richness.py:454: UserWarning: Optimization failure likely: -0.9800367457553003 <= 0\n",
      "  warnings.warn(f\"Optimization failure likely: {x_ast} <= 0\")\n",
      "/home/carolisteia/miniconda3/envs/forgotten/lib/python3.7/site-packages/copia/richness.py:454: UserWarning: Optimization failure likely: -0.9737718474010467 <= 0\n",
      "  warnings.warn(f\"Optimization failure likely: {x_ast} <= 0\")\n",
      "/home/carolisteia/miniconda3/envs/forgotten/lib/python3.7/site-packages/copia/richness.py:454: UserWarning: Optimization failure likely: -0.9762542036536668 <= 0\n",
      "  warnings.warn(f\"Optimization failure likely: {x_ast} <= 0\")\n",
      "  5%|▍         | 487/10000 [00:00<00:03, 2521.06it/s]/home/carolisteia/miniconda3/envs/forgotten/lib/python3.7/site-packages/copia/richness.py:454: UserWarning: Optimization failure likely: -0.9815103438989119 <= 0\n",
      "  warnings.warn(f\"Optimization failure likely: {x_ast} <= 0\")\n",
      "/home/carolisteia/miniconda3/envs/forgotten/lib/python3.7/site-packages/copia/richness.py:454: UserWarning: Optimization failure likely: -0.9705882352941176 <= 0\n",
      "  warnings.warn(f\"Optimization failure likely: {x_ast} <= 0\")\n"
     ]
    },
    {
     "name": "stdout",
     "output_type": "stream",
     "text": [
      "Diff_intersect: 2177.766687692808\n"
     ]
    },
    {
     "name": "stderr",
     "output_type": "stream",
     "text": [
      "/home/carolisteia/miniconda3/envs/forgotten/lib/python3.7/site-packages/copia/richness.py:437: UserWarning: Tolerance criterion not met via fsolve: 2177.766687692808 > 0.1-> backing off to grid-solver.\n",
      "  warnings.warn(msg)\n",
      "  8%|▊         | 771/10000 [00:00<00:03, 2641.51it/s]/home/carolisteia/miniconda3/envs/forgotten/lib/python3.7/site-packages/copia/richness.py:454: UserWarning: Optimization failure likely: -0.9857974543109967 <= 0\n",
      "  warnings.warn(f\"Optimization failure likely: {x_ast} <= 0\")\n",
      "/home/carolisteia/miniconda3/envs/forgotten/lib/python3.7/site-packages/copia/richness.py:454: UserWarning: Optimization failure likely: -0.9861228952103928 <= 0\n",
      "  warnings.warn(f\"Optimization failure likely: {x_ast} <= 0\")\n",
      "/home/carolisteia/miniconda3/envs/forgotten/lib/python3.7/site-packages/scipy/optimize/minpack.py:175: RuntimeWarning: The iteration is not making good progress, as measured by the \n",
      "  improvement from the last ten iterations.\n",
      "  warnings.warn(msg, RuntimeWarning)\n"
     ]
    },
    {
     "name": "stdout",
     "output_type": "stream",
     "text": [
      "Diff_intersect: 1982.8902205754093\n"
     ]
    },
    {
     "name": "stderr",
     "output_type": "stream",
     "text": [
      "/home/carolisteia/miniconda3/envs/forgotten/lib/python3.7/site-packages/copia/richness.py:437: UserWarning: Tolerance criterion not met via fsolve: 1982.8902205754093 > 0.1-> backing off to grid-solver.\n",
      "  warnings.warn(msg)\n",
      " 11%|█         | 1053/10000 [00:00<00:03, 2630.61it/s]/home/carolisteia/miniconda3/envs/forgotten/lib/python3.7/site-packages/copia/richness.py:454: UserWarning: Optimization failure likely: -0.9838709677419355 <= 0\n",
      "  warnings.warn(f\"Optimization failure likely: {x_ast} <= 0\")\n"
     ]
    },
    {
     "name": "stdout",
     "output_type": "stream",
     "text": [
      "Diff_intersect: 2177.766687692808\n"
     ]
    },
    {
     "name": "stderr",
     "output_type": "stream",
     "text": [
      " 13%|█▎        | 1349/10000 [00:00<00:03, 2742.90it/s]/home/carolisteia/miniconda3/envs/forgotten/lib/python3.7/site-packages/copia/richness.py:454: UserWarning: Optimization failure likely: -0.9782608695652174 <= 0\n",
      "  warnings.warn(f\"Optimization failure likely: {x_ast} <= 0\")\n",
      "/home/carolisteia/miniconda3/envs/forgotten/lib/python3.7/site-packages/copia/richness.py:454: UserWarning: Optimization failure likely: -0.98 <= 0\n",
      "  warnings.warn(f\"Optimization failure likely: {x_ast} <= 0\")\n",
      " 17%|█▋        | 1696/10000 [00:00<00:02, 2981.99it/s]/home/carolisteia/miniconda3/envs/forgotten/lib/python3.7/site-packages/copia/richness.py:454: UserWarning: Optimization failure likely: -0.9722222222222222 <= 0\n",
      "  warnings.warn(f\"Optimization failure likely: {x_ast} <= 0\")\n",
      "/home/carolisteia/miniconda3/envs/forgotten/lib/python3.7/site-packages/copia/richness.py:454: UserWarning: Optimization failure likely: -0.9833540988364174 <= 0\n",
      "  warnings.warn(f\"Optimization failure likely: {x_ast} <= 0\")\n",
      " 24%|██▍       | 2420/10000 [00:00<00:02, 3327.98it/s]"
     ]
    },
    {
     "name": "stdout",
     "output_type": "stream",
     "text": [
      "Diff_intersect: 1982.8902205754093\n"
     ]
    },
    {
     "name": "stderr",
     "output_type": "stream",
     "text": [
      " 28%|██▊       | 2759/10000 [00:00<00:02, 3256.15it/s]/home/carolisteia/miniconda3/envs/forgotten/lib/python3.7/site-packages/copia/richness.py:454: UserWarning: Optimization failure likely: -0.9736842105263158 <= 0\n",
      "  warnings.warn(f\"Optimization failure likely: {x_ast} <= 0\")\n",
      "/home/carolisteia/miniconda3/envs/forgotten/lib/python3.7/site-packages/copia/richness.py:454: UserWarning: Optimization failure likely: -0.96875 <= 0\n",
      "  warnings.warn(f\"Optimization failure likely: {x_ast} <= 0\")\n",
      "/home/carolisteia/miniconda3/envs/forgotten/lib/python3.7/site-packages/copia/richness.py:454: UserWarning: Optimization failure likely: -0.975 <= 0\n",
      "  warnings.warn(f\"Optimization failure likely: {x_ast} <= 0\")\n",
      " 31%|███       | 3092/10000 [00:01<00:02, 3276.22it/s]/home/carolisteia/miniconda3/envs/forgotten/lib/python3.7/site-packages/copia/richness.py:454: UserWarning: Optimization failure likely: -0.9848639201744276 <= 0\n",
      "  warnings.warn(f\"Optimization failure likely: {x_ast} <= 0\")\n",
      "/home/carolisteia/miniconda3/envs/forgotten/lib/python3.7/site-packages/copia/richness.py:454: UserWarning: Optimization failure likely: -0.9814814814814815 <= 0\n",
      "  warnings.warn(f\"Optimization failure likely: {x_ast} <= 0\")\n",
      " 34%|███▍      | 3445/10000 [00:01<00:01, 3352.18it/s]/home/carolisteia/miniconda3/envs/forgotten/lib/python3.7/site-packages/copia/richness.py:454: UserWarning: Optimization failure likely: -0.9791666666666666 <= 0\n",
      "  warnings.warn(f\"Optimization failure likely: {x_ast} <= 0\")\n",
      " 38%|███▊      | 3813/10000 [00:01<00:01, 3449.57it/s]/home/carolisteia/miniconda3/envs/forgotten/lib/python3.7/site-packages/copia/richness.py:454: UserWarning: Optimization failure likely: -0.9821428571428571 <= 0\n",
      "  warnings.warn(f\"Optimization failure likely: {x_ast} <= 0\")\n"
     ]
    },
    {
     "name": "stdout",
     "output_type": "stream",
     "text": [
      "Diff_intersect: 1982.8902205754093\n"
     ]
    },
    {
     "name": "stderr",
     "output_type": "stream",
     "text": [
      " 42%|████▏     | 4160/10000 [00:01<00:01, 3202.26it/s]"
     ]
    },
    {
     "name": "stdout",
     "output_type": "stream",
     "text": [
      "Diff_intersect: 2177.766687692808\n"
     ]
    },
    {
     "name": "stderr",
     "output_type": "stream",
     "text": [
      " 45%|████▍     | 4485/10000 [00:01<00:01, 3001.40it/s]"
     ]
    },
    {
     "name": "stdout",
     "output_type": "stream",
     "text": [
      "Diff_intersect: 1982.8902205754093\n"
     ]
    },
    {
     "name": "stderr",
     "output_type": "stream",
     "text": [
      " 48%|████▊     | 4790/10000 [00:01<00:01, 2937.96it/s]/home/carolisteia/miniconda3/envs/forgotten/lib/python3.7/site-packages/copia/richness.py:454: UserWarning: Optimization failure likely: -0.9865562008883164 <= 0\n",
      "  warnings.warn(f\"Optimization failure likely: {x_ast} <= 0\")\n"
     ]
    },
    {
     "name": "stdout",
     "output_type": "stream",
     "text": [
      "Diff_intersect: 1982.8902205754093\n"
     ]
    },
    {
     "name": "stderr",
     "output_type": "stream",
     "text": [
      " 51%|█████     | 5087/10000 [00:01<00:01, 2897.47it/s]/home/carolisteia/miniconda3/envs/forgotten/lib/python3.7/site-packages/copia/richness.py:454: UserWarning: Optimization failure likely: -0.9853853272569374 <= 0\n",
      "  warnings.warn(f\"Optimization failure likely: {x_ast} <= 0\")\n"
     ]
    },
    {
     "name": "stdout",
     "output_type": "stream",
     "text": [
      "Diff_intersect: 1982.8902205754093\n",
      "Diff_intersect: 1982.8902205754093\n"
     ]
    },
    {
     "name": "stderr",
     "output_type": "stream",
     "text": [
      " 57%|█████▋    | 5741/10000 [00:01<00:01, 2982.47it/s]"
     ]
    },
    {
     "name": "stdout",
     "output_type": "stream",
     "text": [
      "Diff_intersect: 1982.8902205754093\n"
     ]
    },
    {
     "name": "stderr",
     "output_type": "stream",
     "text": [
      " 60%|██████    | 6044/10000 [00:02<00:01, 2902.14it/s]"
     ]
    },
    {
     "name": "stdout",
     "output_type": "stream",
     "text": [
      "Diff_intersect: 1982.8902205754093\n"
     ]
    },
    {
     "name": "stderr",
     "output_type": "stream",
     "text": [
      "/home/carolisteia/miniconda3/envs/forgotten/lib/python3.7/site-packages/copia/richness.py:454: UserWarning: Optimization failure likely: -0.9843919846865655 <= 0\n",
      "  warnings.warn(f\"Optimization failure likely: {x_ast} <= 0\")\n",
      " 63%|██████▎   | 6338/10000 [00:02<00:01, 2858.79it/s]"
     ]
    },
    {
     "name": "stdout",
     "output_type": "stream",
     "text": [
      "Diff_intersect: 1982.8902205754093\n"
     ]
    },
    {
     "name": "stderr",
     "output_type": "stream",
     "text": [
      " 66%|██████▋   | 6627/10000 [00:02<00:01, 2866.95it/s]"
     ]
    },
    {
     "name": "stdout",
     "output_type": "stream",
     "text": [
      "Diff_intersect: 1982.8902205754093\n"
     ]
    },
    {
     "name": "stderr",
     "output_type": "stream",
     "text": [
      " 70%|██████▉   | 6964/10000 [00:02<00:01, 2918.74it/s]"
     ]
    },
    {
     "name": "stdout",
     "output_type": "stream",
     "text": [
      "Diff_intersect: 2177.766687692808\n",
      "Diff_intersect: 2177.766687692808\n"
     ]
    },
    {
     "name": "stderr",
     "output_type": "stream",
     "text": [
      " 76%|███████▋  | 7633/10000 [00:02<00:00, 3055.15it/s]"
     ]
    },
    {
     "name": "stdout",
     "output_type": "stream",
     "text": [
      "Diff_intersect: 1982.8902205754093\n"
     ]
    },
    {
     "name": "stderr",
     "output_type": "stream",
     "text": [
      " 79%|███████▉  | 7942/10000 [00:02<00:00, 3045.28it/s]/home/carolisteia/miniconda3/envs/forgotten/lib/python3.7/site-packages/copia/richness.py:454: UserWarning: Optimization failure likely: -0.9723264087185662 <= 0\n",
      "  warnings.warn(f\"Optimization failure likely: {x_ast} <= 0\")\n",
      " 83%|████████▎ | 8300/10000 [00:02<00:00, 3196.14it/s]/home/carolisteia/miniconda3/envs/forgotten/lib/python3.7/site-packages/copia/richness.py:454: UserWarning: Optimization failure likely: -0.9838897163317923 <= 0\n",
      "  warnings.warn(f\"Optimization failure likely: {x_ast} <= 0\")\n"
     ]
    },
    {
     "name": "stdout",
     "output_type": "stream",
     "text": [
      "Diff_intersect: 1982.8902205754093\n"
     ]
    },
    {
     "name": "stderr",
     "output_type": "stream",
     "text": [
      " 86%|████████▋ | 8629/10000 [00:02<00:00, 3124.67it/s]"
     ]
    },
    {
     "name": "stdout",
     "output_type": "stream",
     "text": [
      "Diff_intersect: 2177.766687692808\n"
     ]
    },
    {
     "name": "stderr",
     "output_type": "stream",
     "text": [
      " 90%|████████▉ | 8971/10000 [00:03<00:00, 3069.60it/s]/home/carolisteia/miniconda3/envs/forgotten/lib/python3.7/site-packages/copia/richness.py:454: UserWarning: Optimization failure likely: -0.9772727272727273 <= 0\n",
      "  warnings.warn(f\"Optimization failure likely: {x_ast} <= 0\")\n",
      " 93%|█████████▎| 9323/10000 [00:03<00:00, 3196.06it/s]"
     ]
    },
    {
     "name": "stdout",
     "output_type": "stream",
     "text": [
      "Diff_intersect: 1982.8902205754093\n"
     ]
    },
    {
     "name": "stderr",
     "output_type": "stream",
     "text": [
      "100%|██████████| 10000/10000 [00:03<00:00, 2963.76it/s]\n"
     ]
    }
   ],
   "source": [
    "# Calcul de l'estimation 'minsample' de la diversité, en utilisant le solveur 'fsolve' et des intervalles de confiance (CI)\n",
    "minsample_est = diversity(abundance, method='minsample', \n",
    "                          solver='fsolve', CI=True, n_iter=10000)\n"
   ]
  },
  {
   "cell_type": "markdown",
   "id": "4fcaddc8",
   "metadata": {},
   "source": [
    "Enfin, nous traçons le profil des nombres de Hill pour le jeux de données. Nous pouvons le faire à la fois pour les données empiriquement observées, ainsi que pour la reconstruction corrigée des biais :\n"
   ]
  },
  {
   "cell_type": "code",
   "execution_count": 30,
   "id": "8f21ba3d",
   "metadata": {},
   "outputs": [
    {
     "name": "stderr",
     "output_type": "stream",
     "text": [
      "100%|██████████| 10000/10000 [00:01<00:00, 6056.22it/s]\n",
      "100%|██████████| 10000/10000 [00:17<00:00, 584.50it/s]\n"
     ]
    }
   ],
   "source": [
    "\n",
    "###########\n",
    "#Contexte :\n",
    "###########\n",
    "#Nombres de Hill : Ce sont des mesures de diversité qui généralise la richesse des espèces à différents ordres de diversité, \n",
    "# comme la diversité de Simpson ou la diversité de Shannon, permettant d'analyser à quel point les individus sont répartis équitablement entre les différentes catégories.\n",
    "\n",
    "#Bootstrap et Parallélisation :\n",
    "#Bootstrap est utilisé pour estimer la précision des statistiques en échantillonnant de manière répétée les données. \n",
    "# Cela permet d'obtenir une meilleure estimation de la variabilité.\n",
    "#Parallélisation (n_jobs=4) permet de réduire le temps nécessaire pour effectuer un nombre important d'itérations \n",
    "# (comme ici avec 10 000) en exploitant plusieurs cœurs de processeur, ce qui est particulièrement utile pour des calculs intensifs.\n",
    "#Le calcul des nombres de Hill est important pour comprendre la diversité de l'échantillon, en quantifiant à la fois la richesse (\n",
    "# le nombre de types distincts) et l'équitabilité (la répartition de ces types).\n",
    "\n",
    "\n",
    "\n",
    "# Calcul des nombres de Hill pour les données d'abondance, avec bootstrap et parallélisation\n",
    "#  emp : Contient les nombres de Hill calculés à partir des données empiriquement observées (c'est-à-dire, les valeurs directes sans ajustement).\n",
    "#  est : Contient les nombres de Hill après ajustement, généralement biais-corrigé, pour obtenir une estimation plus précise de la diversité.\n",
    "emp, est = hill_numbers(abundance, n_iter=10000, n_jobs=4)\n"
   ]
  },
  {
   "cell_type": "markdown",
   "id": "cf7be8cd",
   "metadata": {},
   "source": [
    "Nous combinons maintenant les statistiques calculées précédemment en un seul graphique, où la courbe d'accumulation des espèces est tracée à l'intérieur du graphique des nombres de Hill :\n"
   ]
  },
  {
   "cell_type": "code",
   "execution_count": 31,
   "id": "708e948b",
   "metadata": {},
   "outputs": [
    {
     "data": {
      "image/png": "[encoded data removed]",
      "text/plain": [
       "<Figure size 800x600 with 3 Axes>"
      ]
     },
     "metadata": {},
     "output_type": "display_data"
    }
   ],
   "source": [
    "# Définition de la position et des dimensions de l'insertion du graphique\n",
    "left, bottom, width, height = [0.44, 0.45, 0.35, 0.35]\n",
    "\n",
    "# Création d'une figure et d'un axe principal\n",
    "fig, ax = plt.subplots(figsize=(8, 6))\n",
    "\n",
    "# Tracé du graphique des nombres de Hill pour les données empiriques et estimées\n",
    "hill_plot(emp, est, add_densities=False, ax=ax)\n",
    "\n",
    "# Création d'un deuxième axe pour la courbe d'accumulation des espèces, inséré dans l'axe principal\n",
    "ax2 = fig.add_axes([left, bottom, width, height])\n",
    "\n",
    "# Tracé de la courbe d'accumulation des espèces à l'intérieur du graphique des nombres de Hill\n",
    "accumulation_curve(abundance, accumulation, c0='C2', c1='C5',\n",
    "                   xlabel='documents', ylabel='works',\n",
    "                   title='Courbe d\\'accumulation des espèces', ax=ax2,\n",
    "                   minsample=minsample_est, xlim=(0, max_steps))\n",
    "\n",
    "# Suppression des graduations mineures sur l'axe Y\n",
    "ax2.tick_params(axis='y', which='minor', left=False)\n",
    "\n",
    "# Formatage de l'axe X en notation scientifique\n",
    "ax2.ticklabel_format(style='sci', axis='x', scilimits=(0, 0), useMathText=True)\n"
   ]
  },
  {
   "cell_type": "code",
   "execution_count": 32,
   "id": "56b52d85",
   "metadata": {},
   "outputs": [
    {
     "data": {
      "image/png": "[encoded data removed]",
      "text/plain": [
       "<Figure size 700x700 with 3 Axes>"
      ]
     },
     "metadata": {},
     "output_type": "display_data"
    }
   ],
   "source": [
    "# Création d'une figure avec un agencement de sous-graphiques, de taille 7x7 pouces\n",
    "fig = plt.figure(constrained_layout=True, figsize=(7, 7))\n",
    "nrows, ncols = 3, 2  # Définition du nombre de lignes et de colonnes de la grille\n",
    "gspec = gridspec.GridSpec(ncols=ncols, nrows=nrows, figure=fig)  # Spécification de la grille des sous-graphiques\n",
    "\n",
    "# Création du premier sous-graphique, qui occupe les deux premières lignes et colonnes de la grille\n",
    "ax = plt.subplot(gspec[:2, :2])\n",
    "hill_plot(emp, est, add_densities=False, ax=ax)  # Tracé du profil des nombres de Hill pour les données observées et estimées\n",
    "ax.text(-0.02, 1.05, \"A\", transform=ax.transAxes, fontweight='bold', fontsize=14)  # Annotation du sous-graphique avec \"A\"\n",
    "\n",
    "# Création du deuxième sous-graphique, qui occupe la troisième ligne et la première colonne\n",
    "ax2 = plt.subplot(gspec[2, 0])\n",
    "accumulation_curve(abundance, accumulation, c0='C0', c1='C0',\n",
    "                   xlabel='Documents', ylabel='Works',\n",
    "                   title=None, ax=ax2,\n",
    "                   xlim=(0, max_steps))  # Tracé de la courbe d'accumulation des espèces\n",
    "ax2.tick_params(axis='y', which='minor', left=False)  # Suppression des graduations mineures sur l'axe Y\n",
    "ax2.ticklabel_format(style='sci', axis='x', scilimits=(0, 0), useMathText=True)  # Formatage de l'axe X en notation scientifique\n",
    "ax2.set_ylabel(\"Works\")  # Définition de l'étiquette pour l'axe Y\n",
    "ax2.text(-0.05, 1.1, \"B\", transform=ax2.transAxes, fontweight='bold', fontsize=14)  # Annotation du sous-graphique avec \"B\"\n",
    "\n",
    "# Création du troisième sous-graphique, qui occupe la troisième ligne et la deuxième colonne\n",
    "ax3 = plt.subplot(gspec[2, 1])\n",
    "sb.kdeplot(minsample_est['bootstrap'], ax=ax3, color=\"C0\", fill=True)  # Tracé de l'estimation de la densité par noyau pour 'minsample'\n",
    "ax3.axvline(minsample_est['richness'], color=\"C0\")  # Tracé d'une ligne verticale indiquant l'estimation de richesse\n",
    "\n",
    "# Configuration du troisième sous-graphique\n",
    "ax3.set(xlabel='Min. add. sample')  # Définition de l'étiquette pour l'axe X\n",
    "ax3.ticklabel_format(style='sci', axis='y', scilimits=(0, 0))  # Formatage de l'axe Y en notation scientifique\n",
    "ax3.ticklabel_format(style='sci', axis='x', scilimits=(0, 0), useMathText=True)  # Formatage de l'axe X en notation scientifique\n",
    "ax3.tick_params(axis='y', which='minor', left=True)  # Affichage des graduations mineures sur l'axe Y\n",
    "ax3.text(-0.05, 1.1, \"C\", transform=ax3.transAxes, fontweight='bold', fontsize=14)  # Annotation du sous-graphique avec \"C\"\n",
    "\n",
    "# Sauvegarde de la figure complète dans un fichier PDF\n",
    "plt.savefig('/home/carolisteia/Desktop/filologia_iberica/memoire_M2/usm/outputs/all_comb.pdf');\n"
   ]
  },
  {
   "cell_type": "markdown",
   "id": "205377de",
   "metadata": {},
   "source": [
    "## Estimations pour chaque langue"
   ]
  },
  {
   "cell_type": "markdown",
   "id": "46d723a0",
   "metadata": {},
   "source": [
    "Nous passons maintenant aux estimations pour les différentes langues vernaculaires considérées. Nous commençons par convertir les données de comptage disponibles en données d'abondance :\n"
   ]
  },
  {
   "cell_type": "code",
   "execution_count": 33,
   "id": "4da25fb9",
   "metadata": {},
   "outputs": [],
   "source": [
    "# Initialisation d'un dictionnaire pour stocker les assemblages par langue\n",
    "assemblages = {}\n",
    "\n",
    "# Boucle sur chaque ensemble de données de langue stocké dans le dictionnaire 'lits'\n",
    "for lit, df in lits.items():\n",
    "    # Conversion des données de titre en données d'abondance\n",
    "    abundance = u.to_abundance(df['title'])\n",
    "    \n",
    "    # Stockage de l'abondance dans le dictionnaire 'assemblages' avec le nom de la langue en majuscule initiale\n",
    "    assemblages[lit.title()] = abundance\n"
   ]
  },
  {
   "cell_type": "code",
   "execution_count": 34,
   "id": "0c56fb7b",
   "metadata": {},
   "outputs": [
    {
     "data": {
      "text/plain": [
       "{'Portugais': array([2, 1, 1, 1]),\n",
       " 'Castillan': array([2, 1, 1, 1, 1, 1, 1, 4, 1, 1, 1, 1, 1, 2, 1, 2, 1, 1, 1, 7, 1]),\n",
       " 'Catalan': array([1, 1, 2, 1, 1])}"
      ]
     },
     "execution_count": 34,
     "metadata": {},
     "output_type": "execute_result"
    }
   ],
   "source": [
    "assemblages"
   ]
  },
  {
   "cell_type": "markdown",
   "id": "df494513",
   "metadata": {},
   "source": [
    "Les estimations ponctuelles pour la diversité originale de ces assemblages :\n"
   ]
  },
  {
   "cell_type": "markdown",
   "id": "89741616",
   "metadata": {},
   "source": [
    "-  d'abord avec les intervalle de confiance :"
   ]
  },
  {
   "cell_type": "code",
   "execution_count": 196,
   "id": "f032df27",
   "metadata": {},
   "outputs": [
    {
     "name": "stdout",
     "output_type": "stream",
     "text": [
      "category: Portugais\n"
     ]
    },
    {
     "name": "stderr",
     "output_type": "stream",
     "text": [
      "100%|██████████| 1000/1000 [00:00<00:00, 9195.74it/s]"
     ]
    },
    {
     "name": "stdout",
     "output_type": "stream",
     "text": [
      "  - original # works: {'richness': 7.6, 'lci': 3.4838000000000005, 'uci': 14.4838, 'std': 3.193251878571435, 'bootstrap': array([ 4.6838,  5.2838,  9.0838,  5.2838,  4.6838,  5.2838,  9.0838,\n",
      "        9.0838,  5.2838,  9.0838, 14.4838,  3.4838, 14.4838,  5.2838,\n",
      "        9.0838,  9.0838, 14.4838,  9.0838,  9.0838, 14.4838,  4.6838,\n",
      "        5.2838,  9.0838,  4.6838,  5.2838,  4.6838,  5.2838,  9.0838,\n",
      "        4.6838,  9.0838, 14.4838, 14.4838,  4.6838,  4.6838, 14.4838,\n",
      "        9.0838,  3.4838,  9.0838, 14.4838,  3.4838, 14.4838,  9.0838,\n",
      "        9.0838,  9.0838,  4.6838,  9.0838,  9.0838,  5.2838,  3.4838,\n",
      "        9.0838, 14.4838,  3.4838,  9.0838,  9.0838,  4.6838,  5.2838,\n",
      "       14.4838,  9.0838,  9.0838, 14.4838, 14.4838,  5.2838,  4.6838,\n",
      "        9.0838,  5.2838, 14.4838,  5.2838,  9.0838,  4.6838,  9.0838,\n",
      "        5.2838,  5.2838,  9.0838,  9.0838,  4.6838, 14.4838,  9.0838,\n",
      "        9.0838,  9.0838,  9.0838,  4.6838,  4.6838,  4.6838,  9.0838,\n",
      "        9.0838,  5.2838,  9.0838,  4.6838,  5.2838,  4.6838,  4.6838,\n",
      "        9.0838,  3.4838,  4.6838, 14.4838,  5.2838,  5.2838,  5.2838,\n",
      "        5.2838, 14.4838,  9.0838,  9.0838,  4.6838,  9.0838,  4.6838,\n",
      "        9.0838, 14.4838,  9.0838,  5.2838,  9.0838,  5.2838,  9.0838,\n",
      "        9.0838,  9.0838,  4.6838, 14.4838,  9.0838, 14.4838,  4.6838,\n",
      "        3.4838,  4.6838,  5.2838,  4.6838,  4.6838,  9.0838,  9.0838,\n",
      "        4.6838,  4.6838, 14.4838,  9.0838,  4.6838, 14.4838,  4.6838,\n",
      "        5.2838,  9.0838,  9.0838,  4.6838, 14.4838, 14.4838,  4.6838,\n",
      "        3.4838,  5.2838,  9.0838,  9.0838,  4.6838, 14.4838,  9.0838,\n",
      "        4.6838,  5.2838,  9.0838,  4.6838,  5.2838,  4.6838,  5.2838,\n",
      "        9.0838,  3.4838, 14.4838,  5.2838,  9.0838,  9.0838,  9.0838,\n",
      "        4.6838,  4.6838,  3.4838,  9.0838,  9.0838,  4.6838,  5.2838,\n",
      "        9.0838,  9.0838,  9.0838,  9.0838,  9.0838,  5.2838,  3.4838,\n",
      "        9.0838,  4.6838,  9.0838,  9.0838,  5.2838,  9.0838, 14.4838,\n",
      "        9.0838,  9.0838,  9.0838,  9.0838,  5.2838,  5.2838, 14.4838,\n",
      "        9.0838,  5.2838,  4.6838,  5.2838,  4.6838,  5.2838,  9.0838,\n",
      "        9.0838,  5.2838,  9.0838,  5.2838,  9.0838,  9.0838,  9.0838,\n",
      "        5.2838,  9.0838,  9.0838,  9.0838,  5.2838,  9.0838,  4.6838,\n",
      "        4.6838,  3.4838,  4.6838,  5.2838, 14.4838,  3.4838,  5.2838,\n",
      "        3.4838, 14.4838,  3.4838, 14.4838,  4.6838,  3.4838,  9.0838,\n",
      "        5.2838, 14.4838,  9.0838,  9.0838,  9.0838,  5.2838,  9.0838,\n",
      "       14.4838,  5.2838,  9.0838,  9.0838,  4.6838,  9.0838,  2.4838,\n",
      "        9.0838,  9.0838,  9.0838,  9.0838,  9.0838,  4.6838,  5.2838,\n",
      "        9.0838,  3.4838,  3.4838,  4.6838,  5.2838,  9.0838,  9.0838,\n",
      "        4.6838,  4.6838,  5.2838,  5.2838,  4.6838,  4.6838,  4.6838,\n",
      "        5.2838,  5.2838,  9.0838,  4.6838,  4.6838,  3.4838,  9.0838,\n",
      "        9.0838,  9.0838,  9.0838,  9.0838,  5.2838,  5.2838,  9.0838,\n",
      "        9.0838,  4.6838,  5.2838,  4.6838,  4.6838,  5.2838,  5.2838,\n",
      "        9.0838,  3.4838,  4.6838,  3.4838,  5.2838,  5.2838,  9.0838,\n",
      "        9.0838,  5.2838,  5.2838, 14.4838,  9.0838,  4.6838,  9.0838,\n",
      "        5.2838,  4.6838,  4.6838,  4.6838,  9.0838,  9.0838, 14.4838,\n",
      "        4.6838, 14.4838, 14.4838,  5.2838,  9.0838,  9.0838,  4.6838,\n",
      "        3.4838,  4.6838,  9.0838,  5.2838, 14.4838,  9.0838,  9.0838,\n",
      "        9.0838,  3.4838,  4.6838,  5.2838, 14.4838,  9.0838,  5.2838,\n",
      "        3.4838,  9.0838,  5.2838,  9.0838,  9.0838,  9.0838,  4.6838,\n",
      "        4.6838,  5.2838,  9.0838,  3.4838,  4.6838,  5.2838,  5.2838,\n",
      "        9.0838,  4.6838,  9.0838,  5.2838,  9.0838,  5.2838,  9.0838,\n",
      "        9.0838,  5.2838,  4.6838,  3.4838,  9.0838,  9.0838,  4.6838,\n",
      "        9.0838,  4.6838,  5.2838,  3.4838,  9.0838,  5.2838,  5.2838,\n",
      "        9.0838,  5.2838,  4.6838,  9.0838,  9.0838,  9.0838,  9.0838,\n",
      "       14.4838, 14.4838,  4.6838,  9.0838,  9.0838,  9.0838,  9.0838,\n",
      "        3.4838,  5.2838,  5.2838,  9.0838,  4.6838,  5.2838,  9.0838,\n",
      "        3.4838,  5.2838,  9.0838, 14.4838,  4.6838,  9.0838, 14.4838,\n",
      "        9.0838,  9.0838,  4.6838,  9.0838,  5.2838,  9.0838,  5.2838,\n",
      "        4.6838,  5.2838,  4.6838,  9.0838,  9.0838,  4.6838,  5.2838,\n",
      "        9.0838,  9.0838,  4.6838, 14.4838,  4.6838,  3.4838,  9.0838,\n",
      "        9.0838,  5.2838,  5.2838,  4.6838,  9.0838,  4.6838,  9.0838,\n",
      "        4.6838,  4.6838,  5.2838,  4.6838,  3.4838,  9.0838,  4.6838,\n",
      "        9.0838,  5.2838,  9.0838,  9.0838,  4.6838,  5.2838,  9.0838,\n",
      "       14.4838,  4.6838,  9.0838, 14.4838,  9.0838,  9.0838, 14.4838,\n",
      "       14.4838,  9.0838,  9.0838,  9.0838,  4.6838,  4.6838,  5.2838,\n",
      "        9.0838,  3.4838,  4.6838,  9.0838,  9.0838,  3.4838, 14.4838,\n",
      "        9.0838,  3.4838,  4.6838,  9.0838,  9.0838,  5.2838,  9.0838,\n",
      "        9.0838,  5.2838,  9.0838,  4.6838,  9.0838,  4.6838,  3.4838,\n",
      "        5.2838,  5.2838,  4.6838,  9.0838,  5.2838, 14.4838,  9.0838,\n",
      "        3.4838,  5.2838,  5.2838,  9.0838,  5.2838,  4.6838,  4.6838,\n",
      "        4.6838,  4.6838,  4.6838,  5.2838, 14.4838,  9.0838,  9.0838,\n",
      "        9.0838,  4.6838,  5.2838,  9.0838, 14.4838,  3.4838,  5.2838,\n",
      "        9.0838,  4.6838,  9.0838,  3.4838,  4.6838,  9.0838,  4.6838,\n",
      "       14.4838,  9.0838,  9.0838,  5.2838,  5.2838,  9.0838,  5.2838,\n",
      "        5.2838,  9.0838,  4.6838,  9.0838,  3.4838,  3.4838,  5.2838,\n",
      "        5.2838,  9.0838,  4.6838,  9.0838,  5.2838,  9.0838,  3.4838,\n",
      "        9.0838,  9.0838, 14.4838,  9.0838,  4.6838,  4.6838, 14.4838,\n",
      "        5.2838,  5.2838,  9.0838,  9.0838,  2.4838, 14.4838,  4.6838,\n",
      "        9.0838,  9.0838,  9.0838,  9.0838, 14.4838,  9.0838,  9.0838,\n",
      "        9.0838,  9.0838, 14.4838,  9.0838,  4.6838,  9.0838,  9.0838,\n",
      "        3.4838,  3.4838,  9.0838,  3.4838,  9.0838, 14.4838,  9.0838,\n",
      "        9.0838,  9.0838,  9.0838,  3.4838, 14.4838,  4.6838,  9.0838,\n",
      "        4.6838,  5.2838,  9.0838,  9.0838,  9.0838,  9.0838,  4.6838,\n",
      "        5.2838,  4.6838, 14.4838,  4.6838,  9.0838,  9.0838,  9.0838,\n",
      "        9.0838,  9.0838,  5.2838, 14.4838,  5.2838,  9.0838,  4.6838,\n",
      "        9.0838,  9.0838,  4.6838, 14.4838,  9.0838,  9.0838,  9.0838,\n",
      "        9.0838,  9.0838, 14.4838,  3.4838,  9.0838,  5.2838,  9.0838,\n",
      "        4.6838,  9.0838,  5.2838,  9.0838, 14.4838, 14.4838,  3.4838,\n",
      "        9.0838,  5.2838,  9.0838, 14.4838,  3.4838,  9.0838,  9.0838,\n",
      "        9.0838,  5.2838,  5.2838, 14.4838,  3.4838,  3.4838,  5.2838,\n",
      "        4.6838,  9.0838,  4.6838, 14.4838,  4.6838,  5.2838,  9.0838,\n",
      "        9.0838,  5.2838,  5.2838,  9.0838,  9.0838,  4.6838,  5.2838,\n",
      "        9.0838,  9.0838,  9.0838,  9.0838, 14.4838,  9.0838,  4.6838,\n",
      "        5.2838,  4.6838,  9.0838,  4.6838,  3.4838,  4.6838,  9.0838,\n",
      "        5.2838,  5.2838,  4.6838,  4.6838,  4.6838,  9.0838, 14.4838,\n",
      "        9.0838,  9.0838,  9.0838,  5.2838,  9.0838,  9.0838,  5.2838,\n",
      "        4.6838,  5.2838,  5.2838,  9.0838,  9.0838,  9.0838,  9.0838,\n",
      "       14.4838,  9.0838,  9.0838,  5.2838,  9.0838,  9.0838, 14.4838,\n",
      "        9.0838,  9.0838,  5.2838,  3.4838,  3.4838, 14.4838,  9.0838,\n",
      "        9.0838,  3.4838,  5.2838,  3.4838,  9.0838,  9.0838,  9.0838,\n",
      "        9.0838,  9.0838,  9.0838,  9.0838,  4.6838, 14.4838,  9.0838,\n",
      "        9.0838,  9.0838,  9.0838,  5.2838,  5.2838,  5.2838,  3.4838,\n",
      "        9.0838,  9.0838,  9.0838,  9.0838,  4.6838,  5.2838,  9.0838,\n",
      "        9.0838,  9.0838,  9.0838,  9.0838,  5.2838,  5.2838,  3.4838,\n",
      "        5.2838,  5.2838, 14.4838,  3.4838,  9.0838,  4.6838,  9.0838,\n",
      "        9.0838, 14.4838,  9.0838, 14.4838,  3.4838,  9.0838,  9.0838,\n",
      "       14.4838,  4.6838,  4.6838,  9.0838,  9.0838,  9.0838,  9.0838,\n",
      "        9.0838,  5.2838,  3.4838, 14.4838,  9.0838,  4.6838,  5.2838,\n",
      "        4.6838,  5.2838,  4.6838,  9.0838,  4.6838,  5.2838,  9.0838,\n",
      "        9.0838,  3.4838,  5.2838,  4.6838,  4.6838,  5.2838,  5.2838,\n",
      "        4.6838,  9.0838, 14.4838, 14.4838,  9.0838,  9.0838,  5.2838,\n",
      "        9.0838,  9.0838,  5.2838,  4.6838,  5.2838,  4.6838,  5.2838,\n",
      "        9.0838,  9.0838,  4.6838,  3.4838,  4.6838,  5.2838,  3.4838,\n",
      "        3.4838,  9.0838,  9.0838, 14.4838,  9.0838,  9.0838,  3.4838,\n",
      "        9.0838,  4.6838, 14.4838,  4.6838,  5.2838,  9.0838,  5.2838,\n",
      "        3.4838,  9.0838,  4.6838,  4.6838,  9.0838,  9.0838,  9.0838,\n",
      "        5.2838,  5.2838, 14.4838, 14.4838,  5.2838, 14.4838,  9.0838,\n",
      "        5.2838,  5.2838,  9.0838,  5.2838,  3.4838,  5.2838,  4.6838,\n",
      "        9.0838,  4.6838,  9.0838,  5.2838,  4.6838, 14.4838,  9.0838,\n",
      "        5.2838,  5.2838,  9.0838,  3.4838, 14.4838,  4.6838,  5.2838,\n",
      "        9.0838, 14.4838,  9.0838,  9.0838,  4.6838,  3.4838,  5.2838,\n",
      "        3.4838, 14.4838,  5.2838,  9.0838,  9.0838,  4.6838,  4.6838,\n",
      "        9.0838,  5.2838,  4.6838, 14.4838, 14.4838,  9.0838,  4.6838,\n",
      "        4.6838,  9.0838,  3.4838, 14.4838,  4.6838,  9.0838,  9.0838,\n",
      "        4.6838,  9.0838,  9.0838,  9.0838, 14.4838,  9.0838,  5.2838,\n",
      "        5.2838,  9.0838,  5.2838,  9.0838,  5.2838, 14.4838,  4.6838,\n",
      "        3.4838,  3.4838,  9.0838,  9.0838,  4.6838,  9.0838,  5.2838,\n",
      "        5.2838,  4.6838,  4.6838,  4.6838,  9.0838,  3.4838,  9.0838,\n",
      "        3.4838,  4.6838,  5.2838,  9.0838,  9.0838,  4.6838,  9.0838,\n",
      "       14.4838,  9.0838,  5.2838,  9.0838,  9.0838,  9.0838,  5.2838,\n",
      "        5.2838,  4.6838,  5.2838,  4.6838,  4.6838,  9.0838,  9.0838,\n",
      "       14.4838,  9.0838,  9.0838,  4.6838,  5.2838,  9.0838,  5.2838,\n",
      "        5.2838, 14.4838,  9.0838,  9.0838,  4.6838,  3.4838,  9.0838,\n",
      "        3.4838,  9.0838,  9.0838,  9.0838,  9.0838,  9.0838, 14.4838,\n",
      "        9.0838, 14.4838,  9.0838, 14.4838,  9.0838, 14.4838,  9.0838,\n",
      "        9.0838,  9.0838,  5.2838,  9.0838,  5.2838,  5.2838,  4.6838,\n",
      "        4.6838,  9.0838,  3.4838,  9.0838,  5.2838,  9.0838,  5.2838,\n",
      "        4.6838,  9.0838,  4.6838,  9.0838, 14.4838, 14.4838,  9.0838,\n",
      "        9.0838,  9.0838,  9.0838,  5.2838,  5.2838,  9.0838,  9.0838,\n",
      "        5.2838,  4.6838, 14.4838,  9.0838, 14.4838,  3.4838,  9.0838,\n",
      "        5.2838,  5.2838,  9.0838,  9.0838,  4.6838,  9.0838,  5.2838,\n",
      "        5.2838,  9.0838,  4.6838,  9.0838,  9.0838,  9.0838,  9.0838,\n",
      "        5.2838,  4.6838,  4.6838,  4.6838,  9.0838,  9.0838, 14.4838,\n",
      "        5.2838,  9.0838,  9.0838,  9.0838,  5.2838,  5.2838, 14.4838,\n",
      "        9.0838,  5.2838,  5.2838,  9.0838,  9.0838,  3.4838])}\n"
     ]
    },
    {
     "name": "stderr",
     "output_type": "stream",
     "text": [
      "\n",
      "  0%|          | 1/1000 [00:00<02:52,  5.80it/s]/home/carolisteia/miniconda3/envs/forgotten/lib/python3.7/site-packages/copia/richness.py:450: UserWarning: Tolerance criterion not met: 3.0 > 0.1\n",
      "  warnings.warn(f\"Tolerance criterion not met: {diff_intersect} > {tolerance}\")\n",
      "/home/carolisteia/miniconda3/envs/forgotten/lib/python3.7/site-packages/copia/richness.py:453: UserWarning: Optimization failure likely: 0.0 <= 0\n",
      "  warnings.warn(f\"Optimization failure likely: {x_ast} <= 0\")\n",
      "/home/carolisteia/miniconda3/envs/forgotten/lib/python3.7/site-packages/copia/richness.py:450: UserWarning: Tolerance criterion not met: 9.0 > 0.1\n",
      "  warnings.warn(f\"Tolerance criterion not met: {diff_intersect} > {tolerance}\")\n",
      "/home/carolisteia/miniconda3/envs/forgotten/lib/python3.7/site-packages/copia/richness.py:450: UserWarning: Tolerance criterion not met: 1.0 > 0.1\n",
      "  warnings.warn(f\"Tolerance criterion not met: {diff_intersect} > {tolerance}\")\n",
      " 96%|█████████▌| 957/1000 [00:13<00:00, 68.80it/s]"
     ]
    },
    {
     "name": "stdout",
     "output_type": "stream",
     "text": [
      "  - original # documents: {'richness': 32.46952746952747, 'lci': 20.195280085562217, 'uci': 47.66480755508969, 'std': 13.444290319491696, 'bootstrap': array([20.19528009, 20.19528009, 47.66480756, 21.3142812 , 20.19528009,\n",
      "       47.66480756, 21.3142812 , 20.19528009, 20.19528009, 47.66480756,\n",
      "       47.66480756, 47.66480756, 47.66480756, 21.3142812 , 47.66480756,\n",
      "       21.3142812 , 21.3142812 , 20.19528009, 47.66480756, 47.66480756,\n",
      "       47.66480756, 21.3142812 , 47.66480756, 21.3142812 , 47.66480756,\n",
      "       20.19528009, 47.66480756, 20.19528009, 47.66480756, 47.66480756,\n",
      "       20.19528009, 20.19528009, 20.19528009, 20.19528009, 21.3142812 ,\n",
      "       47.66480756, 47.66480756, 47.66480756, 20.19528009, 47.66480756,\n",
      "       21.3142812 , 47.66480756, 20.19528009, 21.3142812 , 21.3142812 ,\n",
      "       47.66480756, 20.19528009, 20.19528009, 47.66480756, 21.3142812 ,\n",
      "       20.19528009, 20.19528009, 47.66480756, 47.66480756, 20.19528009,\n",
      "       21.3142812 , 20.19528009, 47.66480756, 21.3142812 , 20.19528009,\n",
      "       21.3142812 , 47.66480756, 21.3142812 , 47.66480756, 20.19528009,\n",
      "       47.66480756, 47.66480756, 47.66480756, 21.3142812 , 47.66480756,\n",
      "       47.66480756, 20.19528009, 47.66480756, 47.66480756, 47.66480756,\n",
      "       47.66480756, 21.3142812 , 20.19528009, 47.66480756, 20.19528009,\n",
      "       20.19528009, 47.66480756, 47.66480756, 47.66480756, 20.19528009,\n",
      "       21.3142812 , 20.19528009, 20.19528009, 47.66480756, 20.19528009,\n",
      "       20.19528009, 47.66480756, 21.3142812 , 47.66480756, 20.19528009,\n",
      "       20.19528009, 47.66480756, 47.66480756, 20.19528009, 47.66480756,\n",
      "       20.19528009, 21.3142812 , 47.66480756, 47.66480756, 20.19528009,\n",
      "       20.19528009, 47.66480756, 47.66480756, 21.3142812 , 21.3142812 ,\n",
      "       47.66480756, 21.3142812 , 47.66480756, 47.66480756, 20.19528009,\n",
      "       20.19528009, 47.66480756, 47.66480756, 47.66480756, 21.3142812 ,\n",
      "       47.66480756, 20.19528009, 20.19528009, 20.19528009, 47.66480756,\n",
      "       20.19528009, 20.19528009, 20.19528009, 20.19528009, 21.3142812 ,\n",
      "       21.3142812 , 47.66480756, 20.19528009, 20.19528009, 20.19528009,\n",
      "       47.66480756, 20.19528009, 47.66480756, 20.19528009, 20.19528009,\n",
      "       47.66480756, 47.66480756, 47.66480756, 20.19528009, 47.66480756,\n",
      "       20.19528009, 47.66480756, 47.66480756, 21.3142812 , 21.3142812 ,\n",
      "       20.19528009, 20.19528009, 47.66480756, 47.66480756, 21.3142812 ,\n",
      "       47.66480756, 47.66480756, 47.66480756, 47.66480756, 20.19528009,\n",
      "       47.66480756, 47.66480756, 21.3142812 , 20.19528009, 21.3142812 ,\n",
      "       47.66480756, 20.19528009, 47.66480756, 20.19528009, 20.19528009,\n",
      "       21.3142812 , 47.66480756, 47.66480756, 20.19528009, 20.19528009,\n",
      "       47.66480756, 20.19528009, 20.19528009, 20.19528009, 47.66480756,\n",
      "       20.19528009, 47.66480756, 21.3142812 , 20.19528009, 47.66480756,\n",
      "       47.66480756, 47.66480756, 20.19528009, 47.66480756, 20.19528009,\n",
      "       21.3142812 , 47.66480756, 47.66480756, 47.66480756, 20.19528009,\n",
      "       47.66480756, 47.66480756, 47.66480756, 20.19528009, 21.3142812 ,\n",
      "       20.19528009, 20.19528009, 20.19528009, 47.66480756, 20.19528009,\n",
      "       20.19528009, 20.19528009, 21.3142812 , 47.66480756, 47.66480756,\n",
      "       47.66480756, 47.66480756, 20.19528009, 21.3142812 , 20.19528009,\n",
      "       47.66480756, 21.3142812 , 47.66480756, 47.66480756, 47.66480756,\n",
      "       47.66480756, 47.66480756, 21.3142812 , 20.19528009, 47.66480756,\n",
      "       20.19528009, 47.66480756, 47.66480756, 21.3142812 , 20.19528009,\n",
      "       47.66480756, 47.66480756, 47.66480756, 20.19528009, 21.3142812 ,\n",
      "       47.66480756, 21.3142812 , 47.66480756, 20.19528009, 20.19528009,\n",
      "       21.3142812 , 20.19528009, 47.66480756, 20.19528009, 20.19528009,\n",
      "       20.19528009, 47.66480756, 47.66480756, 47.66480756, 21.3142812 ,\n",
      "       47.66480756, 21.3142812 , 47.66480756, 20.19528009, 47.66480756,\n",
      "       47.66480756, 47.66480756, 47.66480756, 47.66480756, 47.66480756,\n",
      "       20.19528009, 47.66480756, 20.19528009, 21.3142812 , 21.3142812 ,\n",
      "       47.66480756, 20.19528009, 47.66480756, 47.66480756, 21.3142812 ,\n",
      "       20.19528009, 20.19528009, 47.66480756, 47.66480756, 47.66480756,\n",
      "       47.66480756, 47.66480756, 20.19528009, 47.66480756, 20.19528009,\n",
      "       20.19528009, 20.19528009, 47.66480756, 47.66480756, 47.66480756,\n",
      "       20.19528009, 47.66480756, 20.19528009, 47.66480756, 47.66480756,\n",
      "       20.19528009, 21.3142812 , 21.3142812 , 47.66480756, 21.3142812 ,\n",
      "       47.66480756, 47.66480756, 20.19528009, 47.66480756, 20.19528009,\n",
      "       47.66480756, 47.66480756, 20.19528009, 47.66480756, 20.19528009,\n",
      "       47.66480756, 21.3142812 , 47.66480756, 47.66480756, 21.3142812 ,\n",
      "       21.3142812 , 20.19528009, 20.19528009, 21.3142812 , 21.3142812 ,\n",
      "       21.3142812 , 20.19528009, 47.66480756, 47.66480756, 21.3142812 ,\n",
      "       20.19528009, 47.66480756, 47.66480756, 47.66480756, 21.3142812 ,\n",
      "       47.66480756, 20.19528009, 21.3142812 , 20.19528009, 47.66480756,\n",
      "       47.66480756, 20.19528009, 21.3142812 , 47.66480756, 20.19528009,\n",
      "       20.19528009, 20.19528009, 21.3142812 , 47.66480756, 47.66480756,\n",
      "       47.66480756, 47.66480756, 47.66480756, 20.19528009, 20.19528009,\n",
      "       47.66480756, 20.19528009, 20.19528009, 20.19528009, 20.19528009,\n",
      "       47.66480756, 47.66480756, 47.66480756, 47.66480756, 47.66480756,\n",
      "       20.19528009, 21.3142812 , 20.19528009, 20.19528009, 20.19528009,\n",
      "       47.66480756, 20.19528009, 47.66480756, 20.19528009, 20.19528009,\n",
      "       20.19528009, 21.3142812 , 20.19528009, 47.66480756, 21.3142812 ,\n",
      "       20.19528009, 47.66480756, 47.66480756, 20.19528009, 20.19528009,\n",
      "       47.66480756, 47.66480756, 47.66480756, 47.66480756, 47.66480756,\n",
      "       21.3142812 , 47.66480756, 20.19528009, 47.66480756, 47.66480756,\n",
      "       20.19528009, 21.3142812 , 47.66480756, 20.19528009, 21.3142812 ,\n",
      "       47.66480756, 21.3142812 , 47.66480756, 47.66480756, 47.66480756,\n",
      "       20.19528009, 20.19528009, 47.66480756, 20.19528009, 20.19528009,\n",
      "       21.3142812 , 20.19528009, 47.66480756, 21.3142812 , 20.19528009,\n",
      "       47.66480756, 47.66480756, 47.66480756, 47.66480756, 47.66480756,\n",
      "       47.66480756, 47.66480756, 20.19528009, 47.66480756, 20.19528009,\n",
      "       47.66480756, 47.66480756, 21.3142812 , 47.66480756, 47.66480756,\n",
      "       47.66480756, 47.66480756, 20.19528009, 20.19528009, 20.19528009,\n",
      "       20.19528009, 47.66480756, 47.66480756, 47.66480756, 47.66480756,\n",
      "       21.3142812 , 20.19528009, 47.66480756, 20.19528009, 20.19528009,\n",
      "       20.19528009, 21.3142812 , 21.3142812 , 47.66480756, 47.66480756,\n",
      "       47.66480756, 20.19528009, 20.19528009, 20.19528009, 21.3142812 ,\n",
      "       20.19528009, 20.19528009, 20.19528009, 47.66480756, 21.3142812 ,\n",
      "       20.19528009, 20.19528009, 20.19528009, 47.66480756, 47.66480756,\n",
      "       20.19528009, 47.66480756, 21.3142812 , 21.3142812 , 20.19528009,\n",
      "       47.66480756, 21.3142812 , 21.3142812 , 20.19528009, 20.19528009,\n",
      "       47.66480756, 20.19528009, 20.19528009, 20.19528009, 20.19528009,\n",
      "       47.66480756, 47.66480756, 20.19528009, 20.19528009, 47.66480756,\n",
      "       20.19528009, 47.66480756, 47.66480756, 21.3142812 , 20.19528009,\n",
      "       47.66480756, 47.66480756, 20.19528009, 47.66480756, 20.19528009,\n",
      "       20.19528009, 20.19528009, 47.66480756, 21.3142812 , 47.66480756,\n",
      "       21.3142812 , 47.66480756, 21.3142812 , 21.3142812 , 21.3142812 ,\n",
      "       20.19528009, 47.66480756, 47.66480756, 21.3142812 , 47.66480756,\n",
      "       20.19528009, 20.19528009, 20.19528009, 20.19528009, 21.3142812 ,\n",
      "       20.19528009, 21.3142812 , 47.66480756, 21.3142812 , 47.66480756,\n",
      "       47.66480756, 47.66480756, 47.66480756, 21.3142812 , 20.19528009,\n",
      "       20.19528009, 20.19528009, 20.19528009, 21.3142812 , 47.66480756,\n",
      "       47.66480756, 20.19528009, 21.3142812 , 47.66480756, 20.19528009,\n",
      "       47.66480756, 20.19528009, 47.66480756, 47.66480756, 20.19528009,\n",
      "       20.19528009, 47.66480756, 20.19528009, 47.66480756, 20.19528009,\n",
      "       21.3142812 , 47.66480756, 20.19528009, 47.66480756, 21.3142812 ,\n",
      "       47.66480756, 20.19528009, 47.66480756, 20.19528009, 47.66480756,\n",
      "       21.3142812 , 21.3142812 , 21.3142812 , 47.66480756, 20.19528009,\n",
      "       47.66480756, 47.66480756, 47.66480756, 47.66480756, 20.19528009,\n",
      "       20.19528009, 21.3142812 , 47.66480756, 47.66480756, 21.3142812 ,\n",
      "       20.19528009, 20.19528009, 21.3142812 , 20.19528009, 47.66480756,\n",
      "       20.19528009, 47.66480756, 20.19528009, 20.19528009, 20.19528009,\n",
      "       21.3142812 , 20.19528009, 47.66480756, 47.66480756, 21.3142812 ,\n",
      "       47.66480756, 47.66480756, 47.66480756, 20.19528009, 20.19528009,\n",
      "       21.3142812 , 21.3142812 , 47.66480756, 21.3142812 , 47.66480756,\n",
      "       20.19528009, 20.19528009, 20.19528009, 47.66480756, 20.19528009,\n",
      "       21.3142812 , 21.3142812 , 47.66480756, 47.66480756, 21.3142812 ,\n",
      "       20.19528009, 20.19528009, 47.66480756, 20.19528009, 20.19528009,\n",
      "       47.66480756, 47.66480756, 47.66480756, 20.19528009, 47.66480756,\n",
      "       47.66480756, 47.66480756, 47.66480756, 21.3142812 , 47.66480756,\n",
      "       20.19528009, 21.3142812 , 20.19528009, 47.66480756, 21.3142812 ,\n",
      "       47.66480756, 20.19528009, 47.66480756, 21.3142812 , 20.19528009,\n",
      "       20.19528009, 20.19528009, 20.19528009, 47.66480756, 20.19528009,\n",
      "       21.3142812 , 20.19528009, 47.66480756, 21.3142812 , 21.3142812 ,\n",
      "       47.66480756, 47.66480756, 20.19528009, 21.3142812 , 20.19528009,\n",
      "       47.66480756, 20.19528009, 47.66480756, 21.3142812 , 47.66480756,\n",
      "       21.3142812 , 20.19528009, 21.3142812 , 20.19528009, 20.19528009,\n",
      "       47.66480756, 47.66480756, 47.66480756, 47.66480756, 20.19528009,\n",
      "       20.19528009, 47.66480756, 47.66480756, 47.66480756, 20.19528009,\n",
      "       47.66480756, 47.66480756, 21.3142812 , 47.66480756, 21.3142812 ,\n",
      "       20.19528009, 47.66480756, 21.3142812 , 47.66480756, 21.3142812 ,\n",
      "       47.66480756, 20.19528009, 20.19528009, 20.19528009, 20.19528009,\n",
      "       47.66480756, 20.19528009, 20.19528009, 20.19528009, 20.19528009,\n",
      "       47.66480756, 20.19528009, 20.19528009, 20.19528009, 20.19528009,\n",
      "       20.19528009, 20.19528009, 47.66480756, 21.3142812 , 47.66480756,\n",
      "       47.66480756, 21.3142812 , 47.66480756, 21.3142812 , 47.66480756,\n",
      "       47.66480756, 47.66480756, 47.66480756, 47.66480756, 20.19528009,\n",
      "       47.66480756, 20.19528009, 20.19528009, 21.3142812 , 20.19528009,\n",
      "       47.66480756, 47.66480756, 20.19528009, 20.19528009, 21.3142812 ,\n",
      "       20.19528009, 20.19528009, 47.66480756, 47.66480756, 21.3142812 ,\n",
      "       20.19528009, 20.19528009, 47.66480756, 47.66480756, 20.19528009,\n",
      "       20.19528009, 47.66480756, 47.66480756, 21.3142812 , 20.19528009,\n",
      "       21.3142812 , 47.66480756, 20.19528009, 20.19528009, 47.66480756,\n",
      "       47.66480756, 47.66480756, 21.3142812 , 21.3142812 , 21.3142812 ,\n",
      "       21.3142812 , 20.19528009, 20.19528009, 20.19528009, 47.66480756,\n",
      "       21.3142812 , 21.3142812 , 20.19528009, 20.19528009, 47.66480756,\n",
      "       47.66480756, 47.66480756, 20.19528009, 21.3142812 , 47.66480756,\n",
      "       20.19528009, 21.3142812 , 47.66480756, 47.66480756, 20.19528009,\n",
      "       21.3142812 , 21.3142812 , 20.19528009, 21.3142812 , 20.19528009,\n",
      "       47.66480756, 47.66480756, 20.19528009, 47.66480756, 21.3142812 ,\n",
      "       47.66480756, 47.66480756, 20.19528009, 47.66480756, 47.66480756,\n",
      "       20.19528009, 21.3142812 , 47.66480756, 21.3142812 , 21.3142812 ,\n",
      "       21.3142812 , 20.19528009, 21.3142812 , 47.66480756, 47.66480756,\n",
      "       47.66480756, 21.3142812 , 21.3142812 , 20.19528009, 21.3142812 ,\n",
      "       20.19528009, 20.19528009, 20.19528009, 47.66480756, 20.19528009,\n",
      "       20.19528009, 20.19528009, 20.19528009, 20.19528009, 47.66480756,\n",
      "       21.3142812 , 20.19528009, 21.3142812 , 20.19528009, 47.66480756,\n",
      "       47.66480756, 20.19528009, 47.66480756, 20.19528009, 20.19528009,\n",
      "       20.19528009, 47.66480756, 21.3142812 , 21.3142812 , 47.66480756,\n",
      "       47.66480756, 20.19528009, 20.19528009, 21.3142812 , 47.66480756,\n",
      "       47.66480756, 21.3142812 , 21.3142812 , 47.66480756, 21.3142812 ,\n",
      "       20.19528009, 20.19528009, 20.19528009, 47.66480756, 47.66480756,\n",
      "       47.66480756, 20.19528009, 21.3142812 , 47.66480756, 21.3142812 ,\n",
      "       47.66480756, 47.66480756, 21.3142812 , 21.3142812 , 47.66480756,\n",
      "       47.66480756, 47.66480756, 47.66480756, 20.19528009, 47.66480756,\n",
      "       20.19528009, 20.19528009, 20.19528009, 47.66480756, 20.19528009,\n",
      "       20.19528009, 20.19528009, 47.66480756, 20.19528009, 21.3142812 ,\n",
      "       47.66480756, 20.19528009, 47.66480756, 20.19528009, 20.19528009,\n",
      "       21.3142812 , 20.19528009, 21.3142812 , 20.19528009, 20.19528009,\n",
      "       47.66480756, 47.66480756, 21.3142812 , 20.19528009, 47.66480756,\n",
      "       47.66480756, 20.19528009, 47.66480756, 20.19528009, 47.66480756,\n",
      "       47.66480756, 47.66480756, 20.19528009, 21.3142812 , 20.19528009,\n",
      "       47.66480756, 47.66480756, 21.3142812 , 20.19528009, 21.3142812 ,\n",
      "       20.19528009, 47.66480756, 47.66480756, 20.19528009, 20.19528009,\n",
      "       21.3142812 , 47.66480756, 20.19528009, 47.66480756, 20.19528009,\n",
      "       20.19528009, 20.19528009, 21.3142812 , 20.19528009, 47.66480756,\n",
      "       47.66480756, 20.19528009, 20.19528009, 47.66480756, 20.19528009,\n",
      "       47.66480756, 47.66480756, 47.66480756, 20.19528009, 47.66480756,\n",
      "       47.66480756, 47.66480756, 47.66480756, 21.3142812 , 20.19528009,\n",
      "       20.19528009, 20.19528009, 47.66480756, 47.66480756, 21.3142812 ,\n",
      "       20.19528009, 47.66480756, 47.66480756, 21.3142812 , 20.19528009,\n",
      "       47.66480756, 47.66480756, 21.3142812 , 47.66480756, 21.3142812 ,\n",
      "       21.3142812 , 47.66480756, 47.66480756, 47.66480756, 47.66480756,\n",
      "       47.66480756, 21.3142812 , 47.66480756, 47.66480756, 21.3142812 ,\n",
      "       21.3142812 , 47.66480756, 21.3142812 , 47.66480756, 47.66480756,\n",
      "       21.3142812 , 20.19528009, 47.66480756, 47.66480756, 20.19528009,\n",
      "       21.3142812 , 47.66480756, 20.19528009, 47.66480756, 20.19528009,\n",
      "       20.19528009, 47.66480756, 47.66480756, 47.66480756, 47.66480756,\n",
      "       47.66480756, 47.66480756, 20.19528009, 20.19528009, 20.19528009,\n",
      "       20.19528009, 47.66480756])}\n",
      "category: Castillan\n"
     ]
    },
    {
     "name": "stderr",
     "output_type": "stream",
     "text": [
      "\n",
      "100%|██████████| 1000/1000 [00:00<00:00, 9068.08it/s]"
     ]
    },
    {
     "name": "stdout",
     "output_type": "stream",
     "text": [
      "  - original # works: {'richness': 62.37373737373737, 'lci': 21.391631842231845, 'uci': 176.8461772967771, 'std': 43.430580542286975, 'bootstrap': array([ 56.50678336,  64.0522379 ,  65.24415709,  43.8502177 ,\n",
      "        65.0522379 ,  23.61789447,  32.99163184,  17.96998682,\n",
      "        37.02193487, 109.56738942,  42.87041972,  49.21385406,\n",
      "       118.50678336, 141.65829851,  48.21385406, 118.50678336,\n",
      "        88.59769245,  21.08254093,  79.59769245,  23.41587427,\n",
      "        28.27041972,  21.08254093,  66.24415709, 129.4461773 ,\n",
      "        32.99163184,  27.51111236,  88.59769245,  38.02193487,\n",
      "        59.91082376,  49.4461773 ,  84.35526821,  33.09264194,\n",
      "        50.56738942,  56.50678336,  38.80981366, 267.87041972,\n",
      "        66.24415709,  32.19365204,  24.35526821,  33.92496518,\n",
      "        42.8502177 ,  27.27041972,  22.88052073,  23.35526821,\n",
      "        79.59769245,  25.62799548,  28.27041972, 175.62799548,\n",
      "        97.47648033,  37.54314699,  37.02193487,  43.8502177 ,\n",
      "        53.90072275,  29.69870255,  30.50072275,  31.69870255,\n",
      "        48.21385406,  26.62799548,  35.37547023,  32.92496518,\n",
      "        41.29466215, 148.41587427,  35.09264194,  45.80981366,\n",
      "        71.08254093,  55.56738942,  42.8502177 ,  32.99163184,\n",
      "        33.92496518,  29.20375305,  60.91082376,  32.19365204,\n",
      "       149.41587427,  59.91082376,  53.90072275,  54.90072275,\n",
      "        32.99163184,  83.35526821,  45.80981366, 175.62799548,\n",
      "        53.90072275,  28.51111236,  89.59769245,  37.02193487,\n",
      "        38.80981366,  31.50072275,  37.54314699,  39.80981366,\n",
      "        30.20375305, 112.56738942,  78.88052073,  80.59769245,\n",
      "        22.61789447,  49.21385406,  28.69870255,  41.35526821,\n",
      "        36.77951063,  52.90072275,  43.8502177 ,  89.59769245,\n",
      "        38.02193487,  28.17345002,  90.17345002, 108.0522379 ,\n",
      "        49.21385406,  45.36132881,  65.0522379 ,  33.92496518,\n",
      "        59.91082376, 215.47648033,  44.80981366, 103.77951063,\n",
      "        80.59769245,  23.35526821,  42.29466215, 141.65829851,\n",
      "        79.59769245, 141.65829851,  32.17345002,  88.59769245,\n",
      "       157.65829851,  41.29466215,  41.87041972, 193.56738942,\n",
      "        41.29466215,  32.99163184,  71.08254093, 125.62799548,\n",
      "        23.61789447,  42.8502177 ,  70.08254093, 117.35526821,\n",
      "        49.4461773 ,  23.35526821,  33.99163184, 102.77951063,\n",
      "        63.0522379 ,  28.27041972,  64.0522379 ,  60.02193487,\n",
      "        37.02193487,  48.21385406,  98.08254093,  32.19365204,\n",
      "        49.21385406, 108.0522379 ,  25.91803877,  72.08254093,\n",
      "        50.56738942, 110.56738942,  49.4461773 , 157.65829851,\n",
      "        24.91803877, 110.56738942,  60.02193487,  25.23405608,\n",
      "        33.99163184,  79.59769245,  38.80981366,  18.74314699,\n",
      "        42.29466215,  72.20375305,  48.21385406,  33.09264194,\n",
      "        42.8502177 ,  44.36132881, 194.56738942, 235.35526821,\n",
      "        41.29466215, 158.65829851,  45.80981366,  17.28860154,\n",
      "        38.80981366,  72.08254093,  42.8502177 , 245.53708639,\n",
      "        79.59769245,  88.59769245,  50.4461773 ,  26.65829851,\n",
      "        66.24415709,  48.21385406,  37.71890457,  49.4461773 ,\n",
      "       159.65829851,  48.21385406,  88.59769245,  24.23405608,\n",
      "        54.56738942,  24.23405608,  71.02193487,  41.35526821,\n",
      "        88.59769245,  98.08254093, 158.65829851,  37.02193487,\n",
      "        53.90072275,  54.90072275,  56.50678336,  25.91803877,\n",
      "        88.59769245,  28.27041972,  41.29466215,  32.19365204,\n",
      "        59.91082376,  72.90072275,  45.80981366, 175.62799548,\n",
      "       175.62799548,  54.90072275,  33.92496518,  30.20375305,\n",
      "        89.59769245,  42.29466215,  18.47648033, 214.47648033,\n",
      "       108.0522379 ,  79.59769245,  33.99163184,  32.17345002,\n",
      "        56.50678336,  33.99163184,  34.37547023,  30.50072275,\n",
      "        23.61789447,  25.31486417,  33.92496518,  32.19365204,\n",
      "        41.35526821,  54.90072275,  23.39163184,  25.65829851,\n",
      "        55.50678336,  34.09264194,  30.20375305,  41.29466215,\n",
      "        23.35526821,  80.59769245, 302.80981366, 111.56738942,\n",
      "        30.69870255, 118.50678336,  64.0522379 ,  55.50678336,\n",
      "        19.29466215,  26.31486417,  50.56738942,  79.59769245,\n",
      "        72.08254093,  59.91082376,  42.87041972,  64.0522379 ,\n",
      "       112.56738942,  30.50072275,  21.08254093,  27.26435911,\n",
      "        27.65829851,  32.99163184,  49.56738942,  48.21385406,\n",
      "        55.56738942,  42.8502177 ,  24.23405608,  45.36132881,\n",
      "       125.62799548,  33.99163184,  52.90072275,  31.20375305,\n",
      "        45.80981366,  66.24415709,  59.91082376,  55.50678336,\n",
      "        29.20375305,  27.51111236,  23.35526821,  24.61789447,\n",
      "        53.90072275,  52.90072275,  42.8502177 ,  18.45627831,\n",
      "        43.87041972,  63.0522379 ,  63.0522379 ,  38.80981366,\n",
      "        79.59769245,  79.59769245,  42.8502177 ,  32.99163184,\n",
      "        60.91082376,  48.21385406,  45.36132881, 176.62799548,\n",
      "        53.90072275,  54.56738942,  51.56738942,  48.21385406,\n",
      "        21.39163184,  43.8502177 ,  97.47648033,  25.05560491,\n",
      "        44.89062174,  56.50678336,  36.54314699,  32.19365204,\n",
      "       176.62799548, 175.62799548,  25.62799548,  24.35526821,\n",
      "       157.65829851,  25.65829851,  89.17345002,  53.90072275,\n",
      "        71.08254093,  25.65829851, 124.62799548,  73.90072275,\n",
      "        86.18355103,  42.29466215,  48.21385406, 379.99163184,\n",
      "       140.87041972,  42.29466215,  24.61789447, 140.65829851,\n",
      "        46.80981366, 125.62799548, 175.62799548,  36.54314699,\n",
      "        64.0522379 , 141.65829851,  22.39163184,  76.53708639,\n",
      "        97.08254093,  65.24415709,  60.80981366,  83.35526821,\n",
      "        49.56738942,  59.91082376,  24.35526821,  53.90072275,\n",
      "       158.65829851,  66.24415709,  30.50072275,  26.31486417,\n",
      "        49.21385406, 102.77951063,  79.59769245,  33.99163184,\n",
      "        34.09264194,  31.19365204,  72.90072275,  48.21385406,\n",
      "        23.61789447,  37.02193487,  41.29466215,  49.4461773 ,\n",
      "        48.21385406,  30.69870255,  24.62799548,  63.0522379 ,\n",
      "       175.62799548,  41.29466215,  45.80981366,  22.35526821,\n",
      "        26.31486417, 141.65829851,  98.08254093,  41.29466215,\n",
      "        56.50678336,  55.50678336,  42.29466215,  35.09264194,\n",
      "        54.56738942,  29.69870255,  43.8502177 , 104.77951063,\n",
      "        37.02193487, 235.35526821,  49.21385406,  49.80981366,\n",
      "        27.62799548,  41.29466215,  34.92496518,  46.80981366,\n",
      "        42.8502177 ,  37.02193487,  39.80981366,  64.0522379 ,\n",
      "        57.50678336,  23.61789447,  48.56132881,  20.29466215,\n",
      "       110.03203588,  71.90072275, 158.65829851,  37.54314699,\n",
      "       157.65829851,  49.4461773 , 129.4461773 ,  49.21385406,\n",
      "       195.56738942,  37.80981366,  33.92496518,  54.56738942,\n",
      "        27.27041972,  97.08254093,  44.80981366,  21.88052073,\n",
      "        41.35526821,  49.21385406,  49.56738942,  36.54314699,\n",
      "        42.87041972,  39.02193487,  33.99163184,  79.59769245,\n",
      "        42.87041972,  56.50678336,  53.90072275, 117.35526821,\n",
      "        79.59769245,  59.91082376,  31.17345002,  27.27041972,\n",
      "        41.29466215,  71.08254093,  80.59769245,  32.99163184,\n",
      "        72.08254093, 141.65829851,  32.99163184,  30.20375305,\n",
      "        58.50678336,  79.59769245,  28.27041972,  45.80981366,\n",
      "        42.8502177 ,  33.92496518,  71.20375305,  98.08254093,\n",
      "        27.51111236, 125.62799548, 125.62799548,  19.74314699,\n",
      "       108.0522379 ,  88.59769245,  33.92496518,  79.59769245,\n",
      "        30.17345002,  71.20375305,  33.99163184, 109.56738942,\n",
      "        30.50072275,  71.08254093,  71.08254093,  37.02193487,\n",
      "        48.56132881,  60.91082376,  42.8502177 ,  37.02193487,\n",
      "        34.09264194,  56.50678336, 149.41587427,  33.09264194,\n",
      "        49.56132881,  56.50678336,  38.77951063,  40.35526821,\n",
      "        38.80981366,  99.08254093,  33.99163184,  79.88052073,\n",
      "        59.91082376,  49.4461773 ,  78.88052073,  36.12150197,\n",
      "        33.92496518,  41.29466215,  79.59769245,  79.88052073,\n",
      "        45.80981366,  67.24415709,  63.0522379 ,  36.77951063,\n",
      "        44.36132881,  38.80981366,  23.61789447,  59.91082376,\n",
      "       175.62799548,  72.08254093,  58.50678336,  30.50072275,\n",
      "        64.0522379 ,  33.17345002,  43.8502177 ,  32.92496518,\n",
      "        22.39163184,  25.23405608,  31.20375305,  65.0522379 ,\n",
      "        54.90072275,  38.02193487,  27.27041972,  49.21385406,\n",
      "        95.47648033,  22.35526821, 118.50678336,  71.90072275,\n",
      "        26.65829851,  31.24271409,  32.99163184,  42.87041972,\n",
      "        37.02193487,  56.50678336, 257.20375305,  29.69870255,\n",
      "        29.17345002,  49.21385406,  38.02193487,  30.50072275,\n",
      "       129.4461773 ,  48.21385406,  36.02193487,  34.09264194,\n",
      "        23.41587427,  32.19365204,  89.17345002,  38.02193487,\n",
      "        37.54314699,  37.02193487,  64.0522379 ,  71.08254093,\n",
      "        38.02193487,  33.92496518,  38.80981366,  59.91082376,\n",
      "        56.50678336,  37.71890457,  37.54314699,  29.69870255,\n",
      "       159.65829851,  25.65829851,  88.59769245,  64.0522379 ,\n",
      "        60.91082376,  43.87041972,  88.59769245,  38.02193487,\n",
      "       112.56738942,  18.47648033,  43.8502177 ,  37.02193487,\n",
      "        59.91082376,  33.92496518,  59.91082376,  54.90072275,\n",
      "        33.99163184,  38.80981366,  49.21385406, 176.62799548,\n",
      "        64.0522379 ,  56.50678336,  88.59769245,  71.08254093,\n",
      "        33.92496518,  23.46349331,  53.90072275,  98.08254093,\n",
      "        41.35526821,  33.99163184,  66.24415709,  49.21385406,\n",
      "        71.20375305,  45.36132881,  64.0522379 , 224.17345002,\n",
      "        19.45627831,  56.50678336,  43.8502177 ,  37.54314699,\n",
      "        72.08254093,  64.0522379 , 176.62799548,  28.27041972,\n",
      "        23.61789447,  20.29466215,  41.29466215,  72.90072275,\n",
      "        34.37547023,  41.35526821,  79.59769245,  45.80981366,\n",
      "        24.23405608,  37.54314699, 110.56738942,  98.08254093,\n",
      "        38.02193487,  26.62799548,  49.4461773 ,  26.62799548,\n",
      "        87.59769245, 141.65829851,  28.27041972,  34.09264194,\n",
      "        37.71890457,  50.56738942,  38.02193487,  43.87041972,\n",
      "        32.99163184, 108.0522379 ,  43.8502177 ,  64.0522379 ,\n",
      "        34.09264194,  56.50678336,  49.21385406, 194.56738942,\n",
      "        55.56738942, 158.65829851,  64.0522379 ,  28.27041972,\n",
      "        30.50072275,  72.08254093,  19.74314699,  30.20375305,\n",
      "        25.65829851,  66.24415709, 110.56738942,  44.89062174,\n",
      "        41.35526821,  80.59769245,  50.56738942,  54.90072275,\n",
      "        50.4461773 ,  64.0522379 ,  66.24415709,  29.69870255,\n",
      "        29.20375305,  44.89062174, 118.50678336,  48.21385406,\n",
      "        26.65829851,  48.4461773 ,  42.29466215,  32.99163184,\n",
      "        37.80981366,  33.92496518,  26.0522379 , 111.56738942,\n",
      "        50.4461773 ,  53.90072275, 194.56738942,  73.08254093,\n",
      "        32.99163184,  48.21385406,  65.24415709,  41.29466215,\n",
      "        37.02193487, 125.62799548,  32.19365204,  32.99163184,\n",
      "        56.50678336,  33.09264194,  50.56738942, 118.50678336,\n",
      "       111.56738942,  27.27041972, 195.56738942,  38.54314699,\n",
      "        29.69870255,  41.29466215,  64.0522379 ,  66.24415709,\n",
      "        49.21385406,  22.61789447, 176.62799548,  54.90072275,\n",
      "       132.90072275,  53.90072275, 140.65829851,  45.80981366,\n",
      "        65.24415709,  71.08254093,  48.21385406,  59.91082376,\n",
      "        99.08254093,  64.0522379 ,  49.21385406,  38.02193487,\n",
      "       141.65829851,  57.54314699,  26.62799548,  34.99163184,\n",
      "        34.09264194,  21.08254093, 109.0522379 ,  50.56738942,\n",
      "        89.59769245,  17.49668235, 125.62799548, 141.65829851,\n",
      "        88.59769245,  71.08254093,  41.29466215,  72.90072275,\n",
      "        48.21385406,  64.0522379 ,  44.36132881,  43.8502177 ,\n",
      "        22.35526821,  42.29466215,  46.80981366, 141.65829851,\n",
      "       157.65829851,  50.56738942,  48.4461773 ,  41.29466215,\n",
      "        49.56132881,  45.80981366,  79.59769245,  45.36132881,\n",
      "        22.46349331, 108.0522379 ,  27.27041972,  55.50678336,\n",
      "        38.80981366,  44.80981366,  56.50678336,  31.19365204,\n",
      "        54.90072275,  63.0522379 ,  34.09264194, 108.0522379 ,\n",
      "        19.74314699,  42.8502177 ,  49.4461773 ,  31.50072275,\n",
      "        33.92496518,  35.09264194,  38.02193487,  98.08254093,\n",
      "        50.56738942,  41.29466215,  50.56738942,  88.59769245,\n",
      "        43.8502177 , 111.56738942,  80.59769245,  65.0522379 ,\n",
      "        21.08254093,  49.56738942,  88.59769245,  59.91082376,\n",
      "       214.47648033,  43.87041972,  38.80981366,  55.56738942,\n",
      "        88.59769245,  55.50678336,  25.23405608,  65.0522379 ,\n",
      "        53.90072275,  27.27041972,  59.91082376,  50.56738942,\n",
      "        72.90072275,  43.8502177 ,  37.02193487,  41.29466215,\n",
      "       141.65829851,  26.65829851, 125.62799548,  49.4461773 ,\n",
      "        60.80981366,  49.21385406,  49.21385406,  41.29466215,\n",
      "        72.08254093, 224.17345002,  30.20375305,  71.08254093,\n",
      "        37.54314699,  71.08254093,  41.29466215,  49.4461773 ,\n",
      "       150.41587427,  64.0522379 ,  57.54314699, 110.03203588,\n",
      "        64.0522379 ,  49.21385406,  88.59769245,  40.29466215,\n",
      "        48.56132881, 125.62799548,  48.4461773 ,  45.80981366,\n",
      "        50.56738942, 194.56738942, 280.02193487,  29.20375305,\n",
      "        26.31486417, 110.56738942,  49.21385406,  42.8502177 ,\n",
      "        37.71890457,  57.50678336,  28.27041972,  66.24415709,\n",
      "        63.0522379 ,  59.91082376,  31.50072275,  48.21385406,\n",
      "        38.80981366,  30.50072275,  44.80981366,  34.09264194,\n",
      "        66.24415709,  49.21385406,  29.17345002,  71.90072275,\n",
      "        54.90072275,  31.20375305,  29.69870255,  84.35526821,\n",
      "        34.09264194,  49.21385406,  96.47648033,  66.24415709,\n",
      "        18.74314699,  25.65829851, 126.62799548,  37.02193487,\n",
      "        88.59769245, 185.35526821,  48.56132881,  37.02193487,\n",
      "        49.21385406,  40.29466215,  59.91082376,  72.08254093,\n",
      "        27.65829851,  67.24415709,  42.8502177 ,  49.21385406,\n",
      "       194.56738942,  89.59769245,  98.08254093, 117.35526821,\n",
      "        80.59769245,  71.90072275, 124.62799548,  31.99163184,\n",
      "        88.59769245,  37.71890457, 194.56738942,  49.21385406,\n",
      "        31.69870255, 126.62799548,  54.90072275,  38.54314699,\n",
      "        72.08254093,  60.80981366, 141.65829851,  32.99163184,\n",
      "        79.59769245,  89.59769245,  45.80981366,  35.09264194,\n",
      "       141.65829851,  60.91082376,  73.08254093,  48.21385406,\n",
      "        71.08254093,  29.20375305,  49.21385406,  88.59769245,\n",
      "        97.47648033,  42.8502177 ,  39.80981366,  66.24415709,\n",
      "        80.59769245,  52.95526821,  21.39163184,  30.20375305,\n",
      "       109.56738942, 108.0522379 ,  41.29466215, 175.62799548,\n",
      "        30.20375305,  64.0522379 ,  41.29466215,  79.59769245,\n",
      "        30.50072275, 126.62799548,  79.59769245,  43.8502177 ,\n",
      "        58.91082376,  88.59769245,  43.8502177 ,  59.91082376,\n",
      "        53.90072275, 176.62799548,  54.90072275,  37.02193487,\n",
      "        16.35526821,  19.74314699,  37.80981366,  22.35526821,\n",
      "        42.29466215,  54.56738942,  24.35526821,  42.29466215,\n",
      "        34.09264194,  28.51111236,  37.02193487, 245.53708639,\n",
      "        21.147476  ,  72.08254093,  33.99163184,  25.23405608,\n",
      "        32.99163184,  37.02193487,  72.08254093,  28.27041972,\n",
      "        49.21385406,  60.80981366,  43.87041972,  42.87041972,\n",
      "        25.65829851, 166.90072275, 108.0522379 ,  26.65829851,\n",
      "        66.24415709,  32.99163184,  25.65829851,  64.0522379 ,\n",
      "       110.56738942, 110.56738942,  29.20375305,  30.50072275,\n",
      "       195.56738942,  43.8502177 ,  45.36132881,  36.77951063,\n",
      "        26.65829851,  34.09264194,  24.23405608,  37.54314699,\n",
      "        37.54314699,  43.8502177 ,  37.54314699,  34.09264194,\n",
      "        32.17345002,  45.80981366,  72.90072275,  43.8502177 ,\n",
      "       118.50678336,  34.09264194, 126.62799548, 103.77951063,\n",
      "        55.56738942,  97.47648033,  96.47648033, 118.50678336,\n",
      "        44.8502177 ,  98.08254093,  56.50678336,  45.80981366,\n",
      "        23.35526821,  25.23405608, 165.90072275,  37.02193487,\n",
      "        34.09264194,  33.09264194,  79.59769245,  22.88052073,\n",
      "        21.39163184, 107.0522379 ,  45.80981366,  26.62799548,\n",
      "        30.20375305,  60.91082376,  42.29466215,  42.8502177 ,\n",
      "        48.4461773 ,  26.65829851, 129.4461773 ,  37.02193487,\n",
      "        48.21385406,  50.56738942,  60.91082376, 158.65829851,\n",
      "        42.87041972,  43.8502177 ,  72.20375305, 129.4461773 ,\n",
      "       108.0522379 ,  53.90072275,  29.69870255,  33.92496518])}\n"
     ]
    },
    {
     "name": "stderr",
     "output_type": "stream",
     "text": [
      "\n",
      "  2%|▏         | 21/1000 [00:00<00:15, 64.34it/s]/home/carolisteia/miniconda3/envs/forgotten/lib/python3.7/site-packages/copia/richness.py:450: UserWarning: Tolerance criterion not met: 29.0 > 0.1\n",
      "  warnings.warn(f\"Tolerance criterion not met: {diff_intersect} > {tolerance}\")\n",
      "/home/carolisteia/miniconda3/envs/forgotten/lib/python3.7/site-packages/copia/richness.py:453: UserWarning: Optimization failure likely: 0.0 <= 0\n",
      "  warnings.warn(f\"Optimization failure likely: {x_ast} <= 0\")\n",
      "  3%|▎         | 28/1000 [00:00<00:14, 65.82it/s]/home/carolisteia/miniconda3/envs/forgotten/lib/python3.7/site-packages/copia/richness.py:450: UserWarning: Tolerance criterion not met: 27.0 > 0.1\n",
      "  warnings.warn(f\"Tolerance criterion not met: {diff_intersect} > {tolerance}\")\n",
      "  7%|▋         | 66/1000 [00:00<00:13, 71.02it/s]/home/carolisteia/miniconda3/envs/forgotten/lib/python3.7/site-packages/copia/richness.py:450: UserWarning: Tolerance criterion not met: 43.0 > 0.1\n",
      "  warnings.warn(f\"Tolerance criterion not met: {diff_intersect} > {tolerance}\")\n",
      "  9%|▉         | 88/1000 [00:01<00:13, 69.24it/s]/home/carolisteia/miniconda3/envs/forgotten/lib/python3.7/site-packages/copia/richness.py:450: UserWarning: Tolerance criterion not met: 39.0 > 0.1\n",
      "  warnings.warn(f\"Tolerance criterion not met: {diff_intersect} > {tolerance}\")\n",
      " 15%|█▍        | 147/1000 [00:02<00:12, 69.44it/s]/home/carolisteia/miniconda3/envs/forgotten/lib/python3.7/site-packages/copia/richness.py:450: UserWarning: Tolerance criterion not met: 31.0 > 0.1\n",
      "  warnings.warn(f\"Tolerance criterion not met: {diff_intersect} > {tolerance}\")\n",
      " 16%|█▌        | 161/1000 [00:02<00:12, 68.39it/s]/home/carolisteia/miniconda3/envs/forgotten/lib/python3.7/site-packages/copia/richness.py:450: UserWarning: Tolerance criterion not met: 35.0 > 0.1\n",
      "  warnings.warn(f\"Tolerance criterion not met: {diff_intersect} > {tolerance}\")\n",
      " 21%|██        | 207/1000 [00:03<00:11, 71.44it/s]/home/carolisteia/miniconda3/envs/forgotten/lib/python3.7/site-packages/copia/richness.py:450: UserWarning: Tolerance criterion not met: 25.0 > 0.1\n",
      "  warnings.warn(f\"Tolerance criterion not met: {diff_intersect} > {tolerance}\")\n",
      " 26%|██▌       | 255/1000 [00:03<00:10, 71.70it/s]/home/carolisteia/miniconda3/envs/forgotten/lib/python3.7/site-packages/copia/richness.py:450: UserWarning: Tolerance criterion not met: 23.0 > 0.1\n",
      "  warnings.warn(f\"Tolerance criterion not met: {diff_intersect} > {tolerance}\")\n",
      " 28%|██▊       | 279/1000 [00:04<00:10, 71.64it/s]/home/carolisteia/miniconda3/envs/forgotten/lib/python3.7/site-packages/copia/richness.py:450: UserWarning: Tolerance criterion not met: 33.0 > 0.1\n",
      "  warnings.warn(f\"Tolerance criterion not met: {diff_intersect} > {tolerance}\")\n",
      " 46%|████▌     | 455/1000 [00:06<00:07, 72.22it/s]/home/carolisteia/miniconda3/envs/forgotten/lib/python3.7/site-packages/copia/richness.py:450: UserWarning: Tolerance criterion not met: 17.0 > 0.1\n",
      "  warnings.warn(f\"Tolerance criterion not met: {diff_intersect} > {tolerance}\")\n",
      " 61%|██████    | 607/1000 [00:08<00:05, 71.39it/s]/home/carolisteia/miniconda3/envs/forgotten/lib/python3.7/site-packages/copia/richness.py:450: UserWarning: Tolerance criterion not met: 37.0 > 0.1\n",
      "  warnings.warn(f\"Tolerance criterion not met: {diff_intersect} > {tolerance}\")\n",
      "100%|██████████| 1000/1000 [00:14<00:00, 70.26it/s]"
     ]
    },
    {
     "name": "stdout",
     "output_type": "stream",
     "text": [
      "  - original # documents: {'richness': 592.046959046959, 'lci': -74.98535458535457, 'uci': 2262.4710028709987, 'std': 611.0500704567256, 'bootstrap': array([ 6.75735696e+02,  5.31941352e+02,  4.84061604e+02,  2.57509778e+02,\n",
      "        1.60740913e+03,  5.31941352e+02,  1.13203045e+03,  1.04891225e+02,\n",
      "        4.49169653e+01,  8.98987519e+02,  4.36957357e+02,  9.75666396e+02,\n",
      "        1.28925149e+02,  1.29702402e+03,  3.45299766e+02,  1.00809121e+02,\n",
      "        6.75735696e+02,  7.48949569e+02,  2.31000851e+02,  4.84061604e+02,\n",
      "        1.78867399e+02,  1.60740913e+03, -7.49853546e+01,  1.05336827e+03,\n",
      "        4.84061604e+02,  1.92827175e+03,  1.91503112e+02,  3.23835528e+01,\n",
      "        3.45299766e+02,  7.48949569e+02,  3.00881721e+02, -7.49853546e+01,\n",
      "        3.93067313e+02,  1.91503112e+02,  3.45299766e+02,  5.80550401e+02,\n",
      "        2.89440610e+02,  2.57509778e+02,  2.56100677e+02,  1.05336827e+03,\n",
      "        1.78867399e+02,  2.56100677e+02,  2.23437244e+02,  1.29248550e+02,\n",
      "        1.53602574e+02,  1.60367581e+02,  6.75735696e+02,  1.04891225e+02,\n",
      "        2.57509778e+02,  3.90681411e+02,  7.48949569e+02,  2.56100677e+02,\n",
      "        1.13203045e+03,  1.00809121e+02,  6.29845850e+02,  2.23437244e+02,\n",
      "        4.64476085e+02,  8.15635020e+01,  2.23437244e+02,  1.37187341e+01,\n",
      "        4.36957357e+02,  6.75735696e+02,  3.90681411e+02,  3.90681411e+02,\n",
      "        1.92827175e+03,  7.48949569e+02, -7.49853546e+01,  5.33383454e+02,\n",
      "        1.60367581e+02,  3.45299766e+02,  5.33383454e+02,  4.84061604e+02,\n",
      "        8.23391044e+02,  1.76662439e+03,  6.75735696e+02,  4.36957357e+02,\n",
      "        3.45299766e+02,  1.21161003e+03,  3.45299766e+02,  4.84061604e+02,\n",
      "        1.92827175e+03,  3.90681411e+02,  4.36957357e+02,  3.45299766e+02,\n",
      "        6.75735696e+02,  4.28690849e+02,  1.04891225e+02,  3.45299766e+02,\n",
      "        1.50167271e+02, -7.49853546e+01,  6.75735696e+02,  4.84061604e+02,\n",
      "        8.98987519e+02,  2.15289536e+02,  7.48949569e+02,  2.23437244e+02,\n",
      "        1.00809121e+02,  6.29845850e+02,  2.56100677e+02,  2.56100677e+02,\n",
      "        5.31941352e+02,  3.23407544e+02,  5.90178794e+01,  7.78080982e+01,\n",
      "        2.89440610e+02,  1.92827175e+03,  3.90681411e+02,  3.97268218e+02,\n",
      "        1.04891225e+02,  8.98987519e+02,  2.57509778e+02,  2.89440610e+02,\n",
      "        3.57961878e+02,  2.04680025e+02,  7.48949569e+02,  2.57509778e+02,\n",
      "        1.92827175e+03,  5.52360756e+01,  7.48949569e+02,  2.23437244e+02,\n",
      "        1.60740913e+03,  4.64476085e+02,  1.60740913e+03,  8.23391044e+02,\n",
      "        8.98987519e+02,  3.73500578e+01,  2.42635775e+03,  4.64476085e+02,\n",
      "        4.36957357e+02,  4.84061604e+02,  2.59636072e+03,  1.60367581e+02,\n",
      "        7.48949569e+02, -1.99247995e+01,  7.30347451e+02,  2.31000851e+02,\n",
      "        2.57509778e+02,  2.09219941e+03,  3.23407544e+02,  1.53602574e+02,\n",
      "       -7.49853546e+01,  4.36957357e+02,  5.90178794e+01,  8.98987519e+02,\n",
      "        3.00881721e+02,  6.03845124e+02,  2.89440610e+02, -7.49853546e+01,\n",
      "        7.78080982e+01,  5.31941352e+02,  4.84061604e+02,  6.03845124e+02,\n",
      "        2.76817539e+03,  2.57509778e+02,  1.28925149e+02,  1.53602574e+02,\n",
      "        8.23391044e+02,  7.26006930e+01,  6.08955813e+01,  3.90681411e+02,\n",
      "        2.57509778e+02, -7.49853546e+01, -1.66258126e+00,  5.31941352e+02,\n",
      "        3.57961878e+02,  5.33383454e+02,  3.90681411e+02,  2.23437244e+02,\n",
      "        6.75735696e+02,  7.48949569e+02,  5.33383454e+02,  4.56231660e+01,\n",
      "        1.13203045e+03,  1.76662439e+03,  1.60740913e+03,  2.25826878e+03,\n",
      "        5.31941352e+02,  5.33383454e+02, -7.49853546e+01,  6.75735696e+02,\n",
      "        1.76662439e+03, -7.49853546e+01,  1.74343095e+02,  8.23391044e+02,\n",
      "        1.76662439e+03,  1.76662439e+03,  2.04680025e+02,  2.15289536e+02,\n",
      "        8.98987519e+02,  1.60740913e+03,  1.45080747e+03,  3.57961878e+02,\n",
      "        8.98987519e+02,  1.92827175e+03,  3.97268218e+02,  6.03845124e+02,\n",
      "        3.90681411e+02,  4.84061604e+02,  3.23407544e+02,  3.45299766e+02,\n",
      "        6.03845124e+02,  5.33383454e+02,  1.50167271e+02,  7.15672336e+02,\n",
      "        1.92827175e+03,  2.42635775e+03,  3.45299766e+02, -7.49853546e+01,\n",
      "        1.91503112e+02,  3.31938052e+02,  2.56100677e+02,  4.28690849e+02,\n",
      "        1.14630297e+03,  9.75666396e+02,  5.80550401e+02,  3.90681411e+02,\n",
      "        3.90681411e+02,  3.00881721e+02,  3.23835528e+01,  1.60740913e+03,\n",
      "        2.56100677e+02,  6.29845850e+02,  8.98987519e+02,  5.33383454e+02,\n",
      "        6.03845124e+02,  1.91503112e+02,  1.14630297e+03,  2.57793578e+02,\n",
      "        3.90681411e+02,  3.45299766e+02,  6.03845124e+02,  1.91503112e+02,\n",
      "        1.30103251e+02,  1.45080747e+03,  2.57509778e+02,  2.68709989e+02,\n",
      "        5.80550401e+02,  4.36957357e+02,  3.45299766e+02,  1.92827175e+03,\n",
      "        3.45299766e+02,  8.98987519e+02, -4.50015246e+01,  5.05599710e+01,\n",
      "        9.75666396e+02,  3.45299766e+02,  4.64476085e+02,  2.56100677e+02,\n",
      "        2.89440610e+02,  2.56100677e+02,  1.53602574e+02,  6.75735696e+02,\n",
      "        2.23437244e+02,  1.13203045e+03,  5.80550401e+02,  4.36957357e+02,\n",
      "        4.64476085e+02,  1.30103251e+02,  8.98987519e+02,  2.09219941e+03,\n",
      "        1.76662439e+03,  2.57509778e+02, -7.49853546e+01,  2.56100677e+02,\n",
      "        1.45080747e+03,  8.98987519e+02,  5.80550401e+02,  3.45299766e+02,\n",
      "        2.57509778e+02,  4.36957357e+02,  1.60367581e+02,  1.53602574e+02,\n",
      "        5.33383454e+02,  2.23437244e+02,  3.90681411e+02,  1.76662439e+03,\n",
      "        8.98987519e+02, -7.49853546e+01,  5.05599710e+01,  1.53602574e+02,\n",
      "        5.90178794e+01,  5.80550401e+02,  1.29702402e+03,  7.48949569e+02,\n",
      "        4.28690849e+02, -7.49853546e+01,  8.23391044e+02,  5.31941352e+02,\n",
      "        2.15289536e+02,  1.04891225e+02,  2.89440610e+02,  7.26006930e+01,\n",
      "        2.31000851e+02,  2.09219941e+03,  1.53602574e+02,  6.75735696e+02,\n",
      "        4.56231660e+01,  2.42635775e+03,  4.36957357e+02,  1.30278151e+02,\n",
      "        2.68709989e+02,  6.29845850e+02, -7.49853546e+01,  8.23391044e+02,\n",
      "        4.36957357e+02,  6.03845124e+02,  8.23391044e+02,  2.09219941e+03,\n",
      "        3.57961878e+02,  1.60740913e+03,  6.03845124e+02,  1.53602574e+02,\n",
      "        6.75735696e+02,  8.23391044e+02,  4.36957357e+02,  5.33383454e+02,\n",
      "        2.59636072e+03,  1.08785229e+02,  1.53602574e+02,  2.89440610e+02,\n",
      "        4.56231660e+01,  4.36957357e+02,  2.23437244e+02,  8.15635020e+01,\n",
      "        1.05336827e+03,  2.56100677e+02,  5.31941352e+02,  4.84061604e+02,\n",
      "        3.00881721e+02,  1.91503112e+02,  3.45299766e+02,  9.75666396e+02,\n",
      "        1.04891225e+02,  1.53602574e+02,  3.57961878e+02,  4.84061604e+02,\n",
      "        3.45299766e+02,  3.00881721e+02,  8.23391044e+02,  1.76662439e+03,\n",
      "        1.60740913e+03,  3.57961878e+02,  2.57793578e+02,  4.84061604e+02,\n",
      "        4.64476085e+02,  3.90681411e+02,  7.48949569e+02,  2.25826878e+03,\n",
      "        6.75735696e+02,  8.15635020e+01,  4.49169653e+01,  2.42635775e+03,\n",
      "        1.60367581e+02,  2.57793578e+02,  1.66788371e+01,  1.29702402e+03,\n",
      "        2.57509778e+02, -7.49853546e+01,  4.64476085e+02,  1.30103251e+02,\n",
      "        1.37334319e+03,  2.15289536e+02,  1.92827175e+03,  2.56100677e+02,\n",
      "        2.42635775e+03,  5.31941352e+02,  1.04891225e+02,  2.56100677e+02,\n",
      "        4.36957357e+02,  1.04891225e+02,  1.91503112e+02,  2.76817539e+03,\n",
      "       -7.49853546e+01,  2.57509778e+02,  8.23391044e+02,  6.11298815e+01,\n",
      "        8.23391044e+02,  8.98987519e+02,  1.91503112e+02,  3.45299766e+02,\n",
      "        1.92827175e+03,  2.89440610e+02,  4.64476085e+02,  1.92827175e+03,\n",
      "       -7.49853546e+01,  4.36957357e+02,  2.89440610e+02,  6.93930898e+01,\n",
      "        2.09219941e+03,  8.23391044e+02,  8.15635020e+01,  9.49120153e+01,\n",
      "        1.91503112e+02,  4.28690849e+02,  8.23391044e+02,  3.31938052e+02,\n",
      "        3.90681411e+02, -7.49853546e+01,  2.56100677e+02,  6.03845124e+02,\n",
      "        1.05336827e+03,  7.78080982e+01,  1.92827175e+03,  1.92827175e+03,\n",
      "        5.31941352e+02,  1.60367581e+02,  2.15289536e+02,  7.48949569e+02,\n",
      "        1.92827175e+03,  4.36957357e+02,  2.89440610e+02,  8.98987519e+02,\n",
      "        1.53602574e+02,  6.75735696e+02,  1.60367581e+02,  3.93067313e+02,\n",
      "        1.00809121e+02,  1.60740913e+03,  4.84061604e+02,  3.00881721e+02,\n",
      "        3.00881721e+02,  5.33383454e+02,  2.42635775e+03,  3.90681411e+02,\n",
      "       -7.49853546e+01,  1.60740913e+03,  8.88169092e+01,  8.98987519e+02,\n",
      "        1.76662439e+03,  5.33383454e+02,  3.90681411e+02,  1.37187341e+01,\n",
      "        2.23437244e+02,  4.84061604e+02,  5.33383454e+02,  1.21161003e+03,\n",
      "        2.89440610e+02,  3.00881721e+02,  3.00881721e+02,  3.57961878e+02,\n",
      "        1.21161003e+03,  4.64476085e+02,  6.93930898e+01,  3.23407544e+02,\n",
      "        1.28925149e+02,  6.98715903e+01,  8.98987519e+02,  1.93255414e+02,\n",
      "        2.56100677e+02,  3.23407544e+02,  7.48949569e+02,  5.33383454e+02,\n",
      "       -1.73045969e+01,  7.48949569e+02,  1.08785229e+02,  7.48949569e+02,\n",
      "        1.60740913e+03,  1.60740913e+03, -7.49853546e+01,  3.00881721e+02,\n",
      "        1.91503112e+02,  3.23407544e+02, -7.49853546e+01,  2.68709989e+02,\n",
      "        1.66788371e+01,  5.80550401e+02,  2.76817539e+03,  2.59636072e+03,\n",
      "        1.60367581e+02,  4.84061604e+02,  4.28690849e+02,  5.05599710e+01,\n",
      "        2.09219941e+03,  1.78867399e+02,  3.97268218e+02,  2.23437244e+02,\n",
      "        8.98987519e+02,  1.30103251e+02,  4.36957357e+02,  3.31938052e+02,\n",
      "        3.23407544e+02,  6.93930898e+01,  7.48949569e+02,  3.23407544e+02,\n",
      "        3.00881721e+02,  2.23437244e+02,  4.36957357e+02,  1.29248550e+02,\n",
      "        3.57961878e+02,  1.91503112e+02,  2.92155496e+01,  6.93930898e+01,\n",
      "        3.57961878e+02,  2.56100677e+02,  3.00881721e+02,  7.48949569e+02,\n",
      "        1.78867399e+02,  1.92827175e+03,  7.48949569e+02,  8.88169092e+01,\n",
      "        2.89440610e+02,  2.76817539e+03,  2.15289536e+02,  9.75666396e+02,\n",
      "        1.34822255e+02,  3.45299766e+02,  1.34822255e+02,  8.98987519e+02,\n",
      "        1.60367581e+02,  1.60740913e+03,  6.03845124e+02,  4.36957357e+02,\n",
      "        2.23437244e+02,  1.76662439e+03,  2.89440610e+02, -7.49853546e+01,\n",
      "        8.98987519e+02,  2.15289536e+02,  5.33383454e+02,  1.76662439e+03,\n",
      "        1.53602574e+02,  2.23437244e+02,  5.31941352e+02,  2.23437244e+02,\n",
      "        3.40732561e+02,  1.71511692e+02,  1.76662439e+03,  8.15635020e+01,\n",
      "        8.98987519e+02,  1.13203045e+03,  2.56100677e+02,  7.48949569e+02,\n",
      "        2.31000851e+02,  7.48949569e+02,  1.60740913e+03,  1.05336827e+03,\n",
      "        5.33383454e+02,  2.56100677e+02,  2.57509778e+02,  5.80550401e+02,\n",
      "        4.84061604e+02,  2.57509778e+02,  1.00809121e+02,  9.75666396e+02,\n",
      "        1.30103251e+02,  3.90681411e+02,  9.75666396e+02,  7.26006930e+01,\n",
      "        2.56100677e+02,  1.92827175e+03,  3.93067313e+02, -7.49853546e+01,\n",
      "        4.64476085e+02,  1.91503112e+02,  4.36957357e+02,  3.45299766e+02,\n",
      "       -7.49853546e+01,  9.75666396e+02,  1.08785229e+02,  2.23437244e+02,\n",
      "        3.23407544e+02,  6.08955813e+01,  1.34822255e+02,  2.31000851e+02,\n",
      "        8.23391044e+02,  2.68709989e+02,  2.89440610e+02,  3.00881721e+02,\n",
      "        5.31941352e+02,  4.36957357e+02,  2.23437244e+02,  2.57509778e+02,\n",
      "       -7.49853546e+01,  1.76662439e+03,  8.23391044e+02,  6.75735696e+02,\n",
      "        8.98987519e+02,  2.59636072e+03,  3.90681411e+02,  2.25826878e+03,\n",
      "        1.28925149e+02,  2.09219941e+03,  9.98924819e+02, -7.49853546e+01,\n",
      "        3.23407544e+02,  6.75735696e+02,  4.36957357e+02,  1.28925149e+02,\n",
      "        9.75666396e+02,  2.23437244e+02,  1.91503112e+02,  5.31941352e+02,\n",
      "        5.33383454e+02,  2.07864528e+02,  2.31000851e+02,  8.23391044e+02,\n",
      "        1.92827175e+03,  1.78867399e+02,  8.15635020e+01,  2.23437244e+02,\n",
      "        2.57509778e+02,  3.45299766e+02,  3.97268218e+02,  3.45299766e+02,\n",
      "        5.33383454e+02,  9.75666396e+02,  5.33383454e+02,  2.31000851e+02,\n",
      "        1.05336827e+03,  5.80550401e+02,  1.28925149e+02,  3.57961878e+02,\n",
      "        4.84061604e+02,  2.76817539e+03, -7.49853546e+01,  1.91503112e+02,\n",
      "        1.08785229e+02,  3.00881721e+02,  3.45299766e+02,  2.92155496e+01,\n",
      "        1.28925149e+02,  6.03845124e+02,  2.68709989e+02,  2.57509778e+02,\n",
      "        2.15289536e+02,  3.00881721e+02,  2.56100677e+02,  2.23437244e+02,\n",
      "        2.23437244e+02, -7.49853546e+01,  1.05336827e+03,  4.84061604e+02,\n",
      "        1.91503112e+02,  3.90681411e+02,  2.31000851e+02,  2.23437244e+02,\n",
      "        6.75735696e+02,  2.31000851e+02,  4.36957357e+02,  4.84061604e+02,\n",
      "        2.15289536e+02,  6.79788100e+02,  5.33383454e+02,  3.00881721e+02,\n",
      "        2.71233475e+01,  2.23437244e+02,  1.92827175e+03,  4.84061604e+02,\n",
      "        1.13203045e+03,  2.85028505e+02,  8.15635020e+01,  2.56100677e+02,\n",
      "        9.75666396e+02,  7.26006930e+01,  1.28925149e+02,  9.75666396e+02,\n",
      "        1.91503112e+02,  5.80550401e+02,  2.25826878e+03,  1.74343095e+02,\n",
      "        2.07864528e+02,  4.51183672e+02,  2.09219941e+03,  1.40817345e+01,\n",
      "        2.42635775e+03,  1.74343095e+02,  5.31941352e+02,  2.56100677e+02,\n",
      "       -7.49853546e+01,  4.36957357e+02,  6.03845124e+02,  6.75735696e+02,\n",
      "        4.36957357e+02,  2.56100677e+02,  1.05336827e+03,  4.64476085e+02,\n",
      "        1.76662439e+03,  8.23391044e+02,  1.12411933e+02, -7.49853546e+01,\n",
      "        6.03845124e+02,  2.31000851e+02,  1.04891225e+02,  1.28925149e+02,\n",
      "        4.84061604e+02,  1.60740913e+03,  8.98987519e+02,  2.23437244e+02,\n",
      "        6.75735696e+02,  2.23437244e+02,  5.33383454e+02,  2.89440610e+02,\n",
      "        1.60740913e+03,  2.25826878e+03,  1.00809121e+02,  3.23835528e+01,\n",
      "        3.45299766e+02,  1.60367581e+02,  1.92827175e+03,  2.23437244e+02,\n",
      "        6.08955813e+01,  2.89440610e+02,  3.90681411e+02,  3.00881721e+02,\n",
      "        3.93067313e+02,  1.45080747e+03,  8.98987519e+02,  5.90178794e+01,\n",
      "        1.45080747e+03,  3.23407544e+02,  4.84061604e+02,  4.36957357e+02,\n",
      "        2.56100677e+02,  1.30103251e+02,  2.57509778e+02,  2.89440610e+02,\n",
      "        8.88169092e+01,  1.78867399e+02,  5.31941352e+02,  6.75735696e+02,\n",
      "        4.84061604e+02,  4.28690849e+02, -7.49853546e+01,  2.57509778e+02,\n",
      "        7.26006930e+01,  3.00881721e+02,  6.93930898e+01,  5.90178794e+01,\n",
      "        6.03845124e+02,  4.84061604e+02,  2.25826878e+03,  2.56100677e+02,\n",
      "        1.04891225e+02,  2.09219941e+03,  7.48949569e+02,  1.74343095e+02,\n",
      "        8.23391044e+02,  1.28925149e+02,  2.25826878e+03,  2.89440610e+02,\n",
      "        6.75735696e+02,  2.56100677e+02,  4.64476085e+02,  3.93067313e+02,\n",
      "        1.60367581e+02,  2.56100677e+02,  1.00809121e+02,  5.80550401e+02,\n",
      "        1.91503112e+02,  1.28925149e+02,  7.48949569e+02, -7.49853546e+01,\n",
      "        3.90681411e+02,  5.33383454e+02,  1.53825426e+03,  2.76817539e+03,\n",
      "        6.75735696e+02,  7.48949569e+02,  1.76662439e+03, -7.49853546e+01,\n",
      "        4.36957357e+02,  2.42635775e+03,  8.88169092e+01,  4.28690849e+02,\n",
      "        1.92827175e+03,  2.89440610e+02,  2.25826878e+03,  1.78867399e+02,\n",
      "        6.03845124e+02,  7.48949569e+02,  9.75666396e+02,  4.84061604e+02,\n",
      "        2.25826878e+03,  2.15289536e+02,  3.90681411e+02, -7.49853546e+01,\n",
      "        4.84061604e+02,  4.64476085e+02,  2.25826878e+03,  2.23437244e+02,\n",
      "        1.29702402e+03,  1.28925149e+02,  2.56100677e+02,  2.59636072e+03,\n",
      "        1.91503112e+02,  2.56100677e+02,  1.60367581e+02,  1.91503112e+02,\n",
      "        6.75735696e+02,  1.28925149e+02,  2.09219941e+03,  1.92827175e+03,\n",
      "        1.13203045e+03,  2.56100677e+02,  2.42635775e+03,  5.80550401e+02,\n",
      "        1.74343095e+02,  1.91503112e+02,  2.25826878e+03,  1.28925149e+02,\n",
      "        2.15289536e+02,  1.60740913e+03,  8.98987519e+02,  3.90681411e+02,\n",
      "        1.60367581e+02,  3.57961878e+02,  4.36957357e+02,  1.60740913e+03,\n",
      "        1.04891225e+02,  8.23391044e+02,  7.48949569e+02,  1.92827175e+03,\n",
      "        4.64802785e+02,  6.75735696e+02,  2.89440610e+02,  3.23407544e+02,\n",
      "       -7.49853546e+01,  4.64802785e+02,  1.93255414e+02,  2.42635775e+03,\n",
      "        1.92827175e+03,  8.23391044e+02,  1.29702402e+03,  2.23437244e+02,\n",
      "        5.80550401e+02,  2.56100677e+02,  1.04891225e+02,  3.00881721e+02,\n",
      "        8.98987519e+02,  8.15635020e+01,  1.37334319e+03,  3.90681411e+02,\n",
      "        1.74343095e+02,  6.03845124e+02,  3.23835528e+01,  1.78867399e+02,\n",
      "        1.49430353e+01,  2.42635775e+03,  6.03845124e+02,  2.57509778e+02,\n",
      "        1.29702402e+03,  1.60740913e+03,  3.93067313e+02,  2.31000851e+02,\n",
      "        9.75666396e+02,  2.89440610e+02,  6.75735696e+02,  1.30103251e+02,\n",
      "        1.28925149e+02,  1.05336827e+03,  1.00809121e+02,  7.48949569e+02,\n",
      "        2.56100677e+02,  4.84061604e+02,  8.98987519e+02,  1.34822255e+02,\n",
      "        4.64476085e+02,  1.60740913e+03,  8.15635020e+01,  7.26006930e+01,\n",
      "        2.31000851e+02,  3.00881721e+02,  3.45299766e+02,  3.97268218e+02,\n",
      "        2.89440610e+02, -7.49853546e+01,  5.33383454e+02,  2.09219941e+03,\n",
      "        1.13203045e+03,  1.76662439e+03,  1.60740913e+03,  7.48949569e+02,\n",
      "        2.56100677e+02,  4.36957357e+02,  4.28690849e+02,  8.98987519e+02,\n",
      "        5.80550401e+02,  1.29702402e+03,  6.79788100e+02,  1.00809121e+02,\n",
      "        8.15635020e+01,  3.23407544e+02,  3.73500578e+01,  1.92827175e+03,\n",
      "        7.48949569e+02,  4.84061604e+02,  3.11690984e+03,  3.00881721e+02,\n",
      "        9.75666396e+02,  3.90681411e+02,  5.31941352e+02,  7.48949569e+02,\n",
      "        6.03845124e+02,  2.56100677e+02,  6.03845124e+02,  9.75666396e+02,\n",
      "        1.05336827e+03,  5.33383454e+02,  7.48949569e+02,  6.75735696e+02,\n",
      "        5.80550401e+02,  5.33383454e+02,  8.98987519e+02,  4.36957357e+02,\n",
      "        7.15672336e+02,  7.81490902e+02,  3.00881721e+02,  3.90681411e+02,\n",
      "        1.92827175e+03,  6.93930898e+01,  1.37334319e+03,  3.00881721e+02,\n",
      "        1.53602574e+02,  5.33383454e+02, -1.15427911e+01,  2.23437244e+02,\n",
      "        4.36957357e+02,  1.05336827e+03,  1.76662439e+03,  1.30103251e+02,\n",
      "        4.36957357e+02,  1.00809121e+02,  2.23437244e+02,  3.00881721e+02,\n",
      "        2.15289536e+02,  3.45299766e+02,  2.56100677e+02,  6.03845124e+02,\n",
      "        5.33383454e+02,  1.29248550e+02,  3.45299766e+02,  8.88169092e+01,\n",
      "        1.76662439e+03,  2.31000851e+02,  5.05599710e+01,  1.76662439e+03,\n",
      "        2.23437244e+02,  7.48949569e+02,  5.80550401e+02,  2.42635775e+03,\n",
      "        5.05599710e+01,  1.53602574e+02,  1.60740913e+03,  6.03845124e+02,\n",
      "        2.42635775e+03,  2.23437244e+02,  4.36957357e+02,  4.36957357e+02,\n",
      "        3.45299766e+02,  2.09219941e+03,  3.23835528e+01,  1.28925149e+02,\n",
      "        7.48949569e+02,  3.93067313e+02,  2.15289536e+02,  3.23407544e+02,\n",
      "        8.98987519e+02,  7.48949569e+02,  4.64476085e+02,  1.08785229e+02,\n",
      "        1.53602574e+02,  5.80550401e+02,  3.97268218e+02,  6.03845124e+02,\n",
      "        5.90178794e+01,  8.23391044e+02,  1.91503112e+02,  3.45299766e+02,\n",
      "        8.98987519e+02,  6.75735696e+02,  1.91503112e+02,  4.84061604e+02,\n",
      "        2.56100677e+02,  4.36957357e+02,  3.90681411e+02,  1.60367581e+02,\n",
      "        2.15289536e+02,  7.48949569e+02,  3.31938052e+02,  2.04680025e+02,\n",
      "        1.60367581e+02,  6.75735696e+02,  2.31000851e+02,  2.25826878e+03,\n",
      "        9.98924819e+02,  5.90178794e+01,  1.78867399e+02,  3.45299766e+02,\n",
      "        3.00881721e+02,  2.25826878e+03,  1.14630297e+03,  3.97268218e+02,\n",
      "        2.23437244e+02,  1.60367581e+02,  3.12682533e+02,  2.89440610e+02,\n",
      "        3.00881721e+02,  6.93930898e+01,  8.23391044e+02,  2.23437244e+02])}\n",
      "category: Catalan\n"
     ]
    },
    {
     "name": "stderr",
     "output_type": "stream",
     "text": [
      "\n",
      "100%|██████████| 1000/1000 [00:00<00:00, 9206.82it/s]"
     ]
    },
    {
     "name": "stdout",
     "output_type": "stream",
     "text": [
      "  - original # works: {'richness': 11.666666666666668, 'lci': 5.614916666666668, 'uci': 21.114916666666666, 'std': 4.791242995037926, 'bootstrap': array([ 7.44825   , 14.28158333, 14.28158333,  7.44825   , 21.11491667,\n",
      "       14.28158333, 14.28158333,  4.61491667, 14.28158333,  9.11491667,\n",
      "        9.11491667,  7.44825   , 14.28158333, 14.28158333, 14.28158333,\n",
      "       21.11491667, 21.11491667,  7.44825   ,  9.11491667, 14.28158333,\n",
      "        7.44825   , 14.28158333, 14.28158333,  7.44825   ,  4.61491667,\n",
      "        7.44825   ,  7.44825   , 14.28158333, 21.11491667, 14.28158333,\n",
      "       21.11491667,  7.44825   ,  6.03158333, 21.11491667, 21.11491667,\n",
      "        9.11491667,  9.11491667,  7.44825   , 14.28158333, 21.11491667,\n",
      "       14.28158333,  9.11491667,  7.44825   ,  7.44825   , 14.28158333,\n",
      "        7.44825   ,  9.11491667, 14.28158333,  7.44825   , 14.28158333,\n",
      "       14.28158333,  7.44825   , 14.28158333, 14.28158333, 14.28158333,\n",
      "        9.11491667, 14.28158333,  6.44825   , 21.11491667, 14.28158333,\n",
      "       21.11491667,  7.44825   , 14.28158333, 14.28158333,  6.03158333,\n",
      "        7.44825   , 14.28158333, 14.28158333, 14.28158333, 14.28158333,\n",
      "        5.61491667,  7.44825   , 14.28158333, 14.28158333, 14.28158333,\n",
      "       14.28158333,  7.44825   , 14.28158333,  9.11491667, 14.28158333,\n",
      "        6.03158333,  7.44825   , 14.28158333,  7.44825   , 14.28158333,\n",
      "        7.44825   , 14.28158333, 21.11491667, 14.28158333,  9.11491667,\n",
      "        9.11491667, 14.28158333,  7.44825   , 14.28158333,  6.03158333,\n",
      "       14.28158333, 14.28158333, 14.28158333,  9.11491667, 14.28158333,\n",
      "       21.11491667, 14.28158333,  9.11491667,  7.44825   ,  7.44825   ,\n",
      "        6.03158333,  9.11491667, 14.28158333, 21.11491667,  6.03158333,\n",
      "        9.11491667, 14.28158333, 14.28158333, 14.28158333,  7.44825   ,\n",
      "        6.44825   , 14.28158333,  7.44825   , 14.28158333,  9.11491667,\n",
      "       14.28158333, 14.28158333, 21.11491667,  6.44825   ,  6.03158333,\n",
      "        7.44825   ,  7.44825   , 14.28158333,  9.11491667, 14.28158333,\n",
      "       21.11491667,  7.44825   ,  9.11491667, 21.11491667, 14.28158333,\n",
      "       14.28158333, 14.28158333,  7.44825   ,  6.44825   , 14.28158333,\n",
      "       14.28158333,  7.44825   ,  6.03158333, 14.28158333,  7.44825   ,\n",
      "        7.44825   ,  7.44825   , 14.28158333,  9.11491667, 14.28158333,\n",
      "        7.44825   , 14.28158333, 14.28158333, 21.11491667,  6.03158333,\n",
      "        6.03158333,  6.03158333, 21.11491667,  7.44825   ,  6.03158333,\n",
      "        6.03158333,  6.03158333, 14.28158333, 21.11491667, 14.28158333,\n",
      "        7.44825   ,  9.11491667,  7.44825   , 21.11491667, 14.28158333,\n",
      "       14.28158333, 21.11491667,  4.61491667,  7.44825   , 21.11491667,\n",
      "       14.28158333, 14.28158333,  7.44825   ,  7.44825   , 14.28158333,\n",
      "        7.44825   , 21.11491667, 14.28158333,  9.11491667,  7.44825   ,\n",
      "       14.28158333, 14.28158333, 14.28158333,  9.11491667,  9.11491667,\n",
      "       14.28158333,  7.44825   , 14.28158333,  9.11491667, 14.28158333,\n",
      "        7.44825   ,  6.03158333, 14.28158333, 14.28158333, 14.28158333,\n",
      "        5.61491667,  7.44825   ,  9.11491667, 14.28158333,  7.44825   ,\n",
      "       14.28158333,  9.11491667,  6.03158333,  7.44825   ,  6.03158333,\n",
      "        7.44825   , 14.28158333,  6.03158333,  7.44825   , 14.28158333,\n",
      "        7.44825   ,  9.11491667,  6.44825   , 21.11491667,  9.11491667,\n",
      "       14.28158333, 21.11491667, 21.11491667, 21.11491667, 14.28158333,\n",
      "        6.03158333,  6.03158333, 14.28158333, 14.28158333, 14.28158333,\n",
      "        6.03158333, 21.11491667, 14.28158333, 21.11491667, 14.28158333,\n",
      "       14.28158333,  9.11491667,  7.44825   , 14.28158333,  9.11491667,\n",
      "       14.28158333, 21.11491667,  9.11491667,  7.44825   , 14.28158333,\n",
      "       14.28158333, 21.11491667, 21.11491667, 21.11491667, 14.28158333,\n",
      "       14.28158333, 14.28158333,  6.03158333,  7.44825   ,  7.44825   ,\n",
      "       14.28158333,  4.61491667,  7.44825   , 14.28158333,  6.03158333,\n",
      "       21.11491667,  9.11491667,  6.03158333, 21.11491667,  9.11491667,\n",
      "        7.44825   , 21.11491667,  7.44825   ,  7.44825   , 21.11491667,\n",
      "        6.03158333,  6.03158333,  6.03158333,  7.44825   ,  9.11491667,\n",
      "       14.28158333,  9.11491667, 14.28158333, 14.28158333, 14.28158333,\n",
      "       14.28158333,  9.11491667, 14.28158333, 14.28158333,  6.03158333,\n",
      "       14.28158333, 14.28158333,  6.44825   ,  9.11491667, 14.28158333,\n",
      "       14.28158333,  7.44825   ,  7.44825   , 14.28158333,  9.11491667,\n",
      "       14.28158333,  7.44825   ,  6.03158333,  7.44825   ,  6.03158333,\n",
      "        4.61491667, 21.11491667,  7.44825   ,  9.11491667,  9.11491667,\n",
      "        7.44825   ,  7.44825   ,  9.11491667,  7.44825   , 14.28158333,\n",
      "       14.28158333,  9.11491667,  6.44825   , 14.28158333, 14.28158333,\n",
      "        9.11491667,  9.11491667, 14.28158333,  7.44825   , 21.11491667,\n",
      "        7.44825   ,  7.44825   , 14.28158333, 14.28158333, 14.28158333,\n",
      "        9.11491667, 14.28158333,  4.61491667,  9.11491667, 14.28158333,\n",
      "        7.44825   , 21.11491667, 14.28158333,  7.44825   , 21.11491667,\n",
      "       14.28158333,  9.11491667, 14.28158333, 14.28158333,  7.44825   ,\n",
      "       14.28158333, 14.28158333, 14.28158333, 14.28158333, 14.28158333,\n",
      "       21.11491667,  6.03158333, 21.11491667, 14.28158333,  9.11491667,\n",
      "       14.28158333, 14.28158333, 14.28158333,  7.44825   ,  9.11491667,\n",
      "       14.28158333, 14.28158333, 14.28158333,  6.03158333, 21.11491667,\n",
      "       14.28158333, 21.11491667,  6.44825   ,  6.03158333, 14.28158333,\n",
      "        7.44825   ,  9.11491667, 14.28158333, 14.28158333, 21.11491667,\n",
      "       14.28158333, 21.11491667, 14.28158333,  7.44825   , 14.28158333,\n",
      "        7.44825   , 21.11491667,  9.11491667, 21.11491667, 21.11491667,\n",
      "        9.11491667,  7.44825   ,  4.61491667, 14.28158333,  7.44825   ,\n",
      "        7.44825   , 14.28158333, 14.28158333,  7.44825   , 14.28158333,\n",
      "        4.61491667, 21.11491667,  7.44825   ,  9.11491667, 14.28158333,\n",
      "       21.11491667,  9.11491667, 14.28158333, 14.28158333,  9.11491667,\n",
      "       14.28158333, 14.28158333,  7.44825   , 21.11491667,  7.44825   ,\n",
      "        9.11491667, 14.28158333,  6.03158333,  9.11491667,  9.11491667,\n",
      "       21.11491667, 21.11491667, 14.28158333,  9.11491667,  9.11491667,\n",
      "        7.44825   , 14.28158333, 14.28158333,  7.44825   , 21.11491667,\n",
      "       14.28158333, 14.28158333, 21.11491667, 21.11491667, 14.28158333,\n",
      "        7.44825   , 14.28158333,  7.44825   , 14.28158333,  7.44825   ,\n",
      "        6.03158333, 21.11491667, 14.28158333, 14.28158333, 14.28158333,\n",
      "        7.44825   ,  9.11491667, 14.28158333,  6.44825   ,  7.44825   ,\n",
      "       14.28158333, 14.28158333, 14.28158333, 21.11491667, 14.28158333,\n",
      "       21.11491667, 14.28158333, 14.28158333,  9.11491667, 14.28158333,\n",
      "       14.28158333, 21.11491667,  7.44825   ,  6.03158333, 14.28158333,\n",
      "       14.28158333,  9.11491667,  7.44825   ,  9.11491667, 14.28158333,\n",
      "       21.11491667,  6.03158333,  7.44825   ,  9.11491667,  9.11491667,\n",
      "        5.61491667, 14.28158333,  6.03158333, 14.28158333,  6.03158333,\n",
      "       14.28158333,  7.44825   ,  7.44825   ,  7.44825   ,  7.44825   ,\n",
      "        9.11491667, 14.28158333, 14.28158333,  9.11491667, 14.28158333,\n",
      "       14.28158333, 21.11491667,  7.44825   , 14.28158333,  9.11491667,\n",
      "       14.28158333,  7.44825   ,  9.11491667, 21.11491667, 14.28158333,\n",
      "       14.28158333,  7.44825   ,  9.11491667,  6.44825   ,  7.44825   ,\n",
      "        4.61491667, 14.28158333, 14.28158333, 21.11491667, 14.28158333,\n",
      "        9.11491667, 21.11491667, 21.11491667,  9.11491667, 21.11491667,\n",
      "       14.28158333, 14.28158333,  7.44825   ,  7.44825   ,  9.11491667,\n",
      "        7.44825   , 14.28158333,  6.03158333, 14.28158333, 14.28158333,\n",
      "       14.28158333,  7.44825   ,  6.44825   , 14.28158333, 14.28158333,\n",
      "        6.03158333, 14.28158333,  7.44825   , 21.11491667,  7.44825   ,\n",
      "        7.44825   , 14.28158333, 14.28158333, 14.28158333, 14.28158333,\n",
      "       14.28158333,  9.11491667, 14.28158333,  7.44825   ,  6.03158333,\n",
      "       14.28158333, 14.28158333, 14.28158333,  7.44825   , 21.11491667,\n",
      "       14.28158333, 14.28158333,  7.44825   , 14.28158333,  7.44825   ,\n",
      "       14.28158333, 14.28158333, 14.28158333, 14.28158333,  7.44825   ,\n",
      "        6.44825   , 21.11491667, 21.11491667,  7.44825   ,  9.11491667,\n",
      "       21.11491667, 14.28158333, 14.28158333, 14.28158333,  7.44825   ,\n",
      "       14.28158333,  7.44825   ,  6.03158333, 14.28158333,  9.11491667,\n",
      "        9.11491667,  9.11491667,  9.11491667, 21.11491667, 21.11491667,\n",
      "        9.11491667, 21.11491667,  6.44825   ,  9.11491667,  6.03158333,\n",
      "        7.44825   ,  7.44825   ,  6.44825   , 21.11491667,  9.11491667,\n",
      "       14.28158333,  7.44825   , 14.28158333, 14.28158333,  7.44825   ,\n",
      "        9.11491667, 14.28158333, 21.11491667,  4.61491667, 21.11491667,\n",
      "       14.28158333, 14.28158333,  9.11491667, 14.28158333, 14.28158333,\n",
      "       14.28158333,  7.44825   ,  9.11491667,  6.03158333,  7.44825   ,\n",
      "        7.44825   ,  9.11491667,  7.44825   , 14.28158333, 14.28158333,\n",
      "        9.11491667,  7.44825   , 14.28158333,  7.44825   ,  6.03158333,\n",
      "       14.28158333,  9.11491667,  6.44825   ,  9.11491667,  7.44825   ,\n",
      "        6.44825   , 14.28158333,  7.44825   ,  6.44825   , 14.28158333,\n",
      "        9.11491667,  7.44825   ,  7.44825   ,  7.44825   ,  6.44825   ,\n",
      "       14.28158333, 14.28158333, 14.28158333, 21.11491667,  7.44825   ,\n",
      "        7.44825   ,  7.44825   , 14.28158333, 14.28158333, 14.28158333,\n",
      "        7.44825   , 21.11491667,  7.44825   , 14.28158333,  7.44825   ,\n",
      "        6.03158333,  6.03158333,  7.44825   , 14.28158333, 14.28158333,\n",
      "        6.03158333,  7.44825   ,  6.44825   , 14.28158333,  7.44825   ,\n",
      "       14.28158333,  7.44825   , 21.11491667, 14.28158333, 14.28158333,\n",
      "        6.03158333, 14.28158333, 21.11491667, 14.28158333, 14.28158333,\n",
      "        7.44825   , 14.28158333,  9.11491667, 21.11491667,  5.61491667,\n",
      "        6.44825   ,  6.03158333,  9.11491667, 14.28158333,  7.44825   ,\n",
      "        9.11491667,  9.11491667,  9.11491667,  9.11491667,  6.03158333,\n",
      "        5.61491667,  9.11491667,  7.44825   ,  9.11491667,  9.11491667,\n",
      "       14.28158333,  7.44825   , 14.28158333,  9.11491667, 14.28158333,\n",
      "       21.11491667,  7.44825   ,  7.44825   ,  6.03158333,  6.44825   ,\n",
      "        9.11491667,  6.03158333,  6.03158333,  6.03158333,  7.44825   ,\n",
      "        7.44825   , 14.28158333,  7.44825   , 14.28158333,  9.11491667,\n",
      "       14.28158333,  9.11491667,  6.44825   , 14.28158333,  9.11491667,\n",
      "       14.28158333, 14.28158333, 21.11491667,  9.11491667,  9.11491667,\n",
      "        7.44825   , 14.28158333,  7.44825   , 21.11491667,  7.44825   ,\n",
      "        9.11491667,  7.44825   ,  9.11491667,  7.44825   ,  9.11491667,\n",
      "       14.28158333,  6.44825   ,  7.44825   ,  7.44825   ,  9.11491667,\n",
      "       14.28158333, 14.28158333, 14.28158333, 14.28158333,  7.44825   ,\n",
      "       14.28158333,  9.11491667,  6.44825   , 21.11491667, 14.28158333,\n",
      "       14.28158333, 21.11491667,  7.44825   ,  4.61491667,  7.44825   ,\n",
      "        7.44825   ,  9.11491667, 14.28158333, 14.28158333, 14.28158333,\n",
      "       21.11491667, 14.28158333,  9.11491667, 14.28158333,  9.11491667,\n",
      "        7.44825   , 14.28158333,  6.44825   ,  6.44825   ,  7.44825   ,\n",
      "       14.28158333,  7.44825   , 14.28158333, 21.11491667,  4.61491667,\n",
      "        7.44825   , 14.28158333, 14.28158333,  9.11491667, 14.28158333,\n",
      "       14.28158333,  7.44825   ,  7.44825   , 21.11491667, 14.28158333,\n",
      "       14.28158333, 14.28158333, 21.11491667,  6.03158333,  6.03158333,\n",
      "        7.44825   ,  7.44825   , 14.28158333, 14.28158333, 14.28158333,\n",
      "       14.28158333, 14.28158333,  7.44825   , 14.28158333,  7.44825   ,\n",
      "        9.11491667, 21.11491667, 14.28158333, 14.28158333,  7.44825   ,\n",
      "       14.28158333,  9.11491667, 14.28158333,  7.44825   , 14.28158333,\n",
      "        6.44825   , 14.28158333,  6.03158333,  7.44825   ,  7.44825   ,\n",
      "       14.28158333, 14.28158333,  4.61491667,  6.44825   ,  6.03158333,\n",
      "        7.44825   ,  6.44825   ,  9.11491667,  9.11491667, 14.28158333,\n",
      "        9.11491667,  7.44825   ,  9.11491667, 14.28158333, 14.28158333,\n",
      "       14.28158333, 21.11491667, 14.28158333,  7.44825   , 14.28158333,\n",
      "       21.11491667,  7.44825   , 21.11491667, 14.28158333,  7.44825   ,\n",
      "       21.11491667,  4.61491667, 21.11491667,  7.44825   ,  7.44825   ,\n",
      "        9.11491667,  9.11491667,  7.44825   ,  9.11491667, 14.28158333,\n",
      "       14.28158333, 14.28158333,  7.44825   , 21.11491667,  6.03158333,\n",
      "        7.44825   ,  9.11491667, 14.28158333,  7.44825   ,  9.11491667,\n",
      "        6.03158333,  9.11491667, 14.28158333,  6.03158333,  9.11491667,\n",
      "       21.11491667, 21.11491667, 21.11491667,  9.11491667, 14.28158333,\n",
      "        7.44825   , 14.28158333, 14.28158333,  6.44825   , 14.28158333,\n",
      "        5.61491667, 14.28158333,  6.03158333, 14.28158333,  5.61491667,\n",
      "        9.11491667,  7.44825   , 14.28158333, 14.28158333,  7.44825   ,\n",
      "       14.28158333, 21.11491667, 14.28158333,  6.44825   , 14.28158333,\n",
      "        7.44825   , 21.11491667,  9.11491667, 14.28158333,  7.44825   ,\n",
      "       14.28158333,  7.44825   ,  7.44825   ,  7.44825   ,  9.11491667,\n",
      "        9.11491667,  7.44825   ,  9.11491667,  7.44825   , 14.28158333,\n",
      "       14.28158333,  7.44825   ,  9.11491667,  4.61491667, 21.11491667,\n",
      "        9.11491667, 14.28158333, 14.28158333,  7.44825   ,  6.44825   ,\n",
      "       14.28158333,  5.61491667,  4.61491667, 21.11491667,  9.11491667,\n",
      "       14.28158333, 14.28158333, 14.28158333, 21.11491667, 14.28158333,\n",
      "       14.28158333,  7.44825   , 14.28158333,  4.61491667,  6.03158333,\n",
      "        5.61491667,  7.44825   ,  7.44825   , 14.28158333,  6.03158333,\n",
      "        9.11491667, 14.28158333,  7.44825   , 21.11491667, 21.11491667,\n",
      "       21.11491667, 14.28158333,  7.44825   ,  7.44825   ,  7.44825   ,\n",
      "        9.11491667, 14.28158333,  4.61491667,  9.11491667,  9.11491667,\n",
      "       14.28158333,  7.44825   ,  9.11491667,  5.61491667,  7.44825   ,\n",
      "       21.11491667, 21.11491667,  7.44825   , 14.28158333, 14.28158333,\n",
      "       21.11491667,  9.11491667, 14.28158333, 21.11491667, 21.11491667,\n",
      "        6.44825   , 21.11491667,  7.44825   ,  7.44825   ,  7.44825   ,\n",
      "        9.11491667, 21.11491667,  9.11491667,  7.44825   ,  6.44825   ,\n",
      "        7.44825   ,  6.03158333,  9.11491667,  7.44825   ,  9.11491667,\n",
      "        9.11491667,  7.44825   ,  7.44825   , 14.28158333,  9.11491667,\n",
      "       21.11491667, 14.28158333,  7.44825   ,  6.03158333,  7.44825   ,\n",
      "       14.28158333, 14.28158333, 21.11491667, 14.28158333, 21.11491667,\n",
      "       14.28158333,  7.44825   , 14.28158333,  6.03158333, 14.28158333,\n",
      "        7.44825   , 14.28158333,  9.11491667,  7.44825   , 14.28158333,\n",
      "        7.44825   ,  9.11491667, 21.11491667,  6.44825   ,  6.03158333,\n",
      "       14.28158333,  7.44825   ,  6.03158333,  9.11491667, 14.28158333])}\n"
     ]
    },
    {
     "name": "stderr",
     "output_type": "stream",
     "text": [
      "\n",
      "  0%|          | 0/1000 [00:00<?, ?it/s]/home/carolisteia/miniconda3/envs/forgotten/lib/python3.7/site-packages/copia/richness.py:450: UserWarning: Tolerance criterion not met: 5.0 > 0.1\n",
      "  warnings.warn(f\"Tolerance criterion not met: {diff_intersect} > {tolerance}\")\n",
      "/home/carolisteia/miniconda3/envs/forgotten/lib/python3.7/site-packages/copia/richness.py:453: UserWarning: Optimization failure likely: 0.0 <= 0\n",
      "  warnings.warn(f\"Optimization failure likely: {x_ast} <= 0\")\n",
      "/home/carolisteia/miniconda3/envs/forgotten/lib/python3.7/site-packages/copia/richness.py:450: UserWarning: Tolerance criterion not met: 3.0 > 0.1\n",
      "  warnings.warn(f\"Tolerance criterion not met: {diff_intersect} > {tolerance}\")\n",
      "  1%|▏         | 14/1000 [00:00<00:14, 66.95it/s]/home/carolisteia/miniconda3/envs/forgotten/lib/python3.7/site-packages/copia/richness.py:450: UserWarning: Tolerance criterion not met: 11.0 > 0.1\n",
      "  warnings.warn(f\"Tolerance criterion not met: {diff_intersect} > {tolerance}\")\n",
      " 15%|█▍        | 146/1000 [00:02<00:12, 70.57it/s]/home/carolisteia/miniconda3/envs/forgotten/lib/python3.7/site-packages/copia/richness.py:450: UserWarning: Tolerance criterion not met: 1.0 > 0.1\n",
      "  warnings.warn(f\"Tolerance criterion not met: {diff_intersect} > {tolerance}\")\n",
      " 99%|█████████▉| 993/1000 [00:14<00:00, 69.29it/s]"
     ]
    },
    {
     "name": "stdout",
     "output_type": "stream",
     "text": [
      "  - original # documents: {'richness': 58.22345222345223, 'lci': 36.06404516978535, 'uci': 88.28749739323757, 'std': 24.285743557082785, 'bootstrap': array([36.06404517, 88.28749739, 88.28749739, 88.28749739, 88.28749739,\n",
      "       36.06404517, 39.50264861, 42.38025149, 88.28749739, 42.38025149,\n",
      "       88.28749739, 36.06404517, 39.50264861, 42.38025149, 88.28749739,\n",
      "       39.50264861, 42.38025149, 88.28749739, 36.06404517, 36.06404517,\n",
      "       42.38025149, 88.28749739, 42.38025149, 88.28749739, 36.06404517,\n",
      "       88.28749739, 42.38025149, 88.28749739, 36.06404517, 88.28749739,\n",
      "       39.50264861, 36.06404517, 88.28749739, 36.06404517, 39.50264861,\n",
      "       88.28749739, 88.28749739, 36.06404517, 36.06404517, 42.38025149,\n",
      "       42.38025149, 88.28749739, 42.38025149, 88.28749739, 88.28749739,\n",
      "       88.28749739, 88.28749739, 36.06404517, 88.28749739, 88.28749739,\n",
      "       36.06404517, 42.38025149, 42.38025149, 36.06404517, 36.06404517,\n",
      "       42.38025149, 88.28749739, 42.38025149, 88.28749739, 88.28749739,\n",
      "       42.38025149, 88.28749739, 36.06404517, 88.28749739, 88.28749739,\n",
      "       42.38025149, 36.06404517, 88.28749739, 88.28749739, 39.50264861,\n",
      "       88.28749739, 88.28749739, 42.38025149, 36.06404517, 88.28749739,\n",
      "       88.28749739, 42.38025149, 36.06404517, 42.38025149, 88.28749739,\n",
      "       36.06404517, 36.06404517, 36.06404517, 42.38025149, 88.28749739,\n",
      "       36.06404517, 42.38025149, 88.28749739, 42.38025149, 39.50264861,\n",
      "       88.28749739, 36.06404517, 36.06404517, 36.06404517, 36.06404517,\n",
      "       88.28749739, 36.06404517, 88.28749739, 36.06404517, 88.28749739,\n",
      "       36.06404517, 88.28749739, 36.06404517, 36.06404517, 88.28749739,\n",
      "       88.28749739, 36.06404517, 88.28749739, 42.38025149, 36.06404517,\n",
      "       88.28749739, 88.28749739, 36.06404517, 88.28749739, 36.06404517,\n",
      "       36.06404517, 36.06404517, 36.06404517, 42.38025149, 36.06404517,\n",
      "       36.06404517, 39.50264861, 36.06404517, 88.28749739, 88.28749739,\n",
      "       36.06404517, 88.28749739, 39.50264861, 88.28749739, 42.38025149,\n",
      "       42.38025149, 88.28749739, 36.06404517, 36.06404517, 36.06404517,\n",
      "       36.06404517, 42.38025149, 42.38025149, 88.28749739, 42.38025149,\n",
      "       36.06404517, 42.38025149, 88.28749739, 88.28749739, 39.50264861,\n",
      "       42.38025149, 36.06404517, 36.06404517, 42.38025149, 36.06404517,\n",
      "       88.28749739, 88.28749739, 39.50264861, 88.28749739, 88.28749739,\n",
      "       42.38025149, 42.38025149, 42.38025149, 88.28749739, 88.28749739,\n",
      "       42.38025149, 39.50264861, 88.28749739, 42.38025149, 36.06404517,\n",
      "       36.06404517, 39.50264861, 36.06404517, 88.28749739, 36.06404517,\n",
      "       36.06404517, 39.50264861, 36.06404517, 88.28749739, 88.28749739,\n",
      "       36.06404517, 42.38025149, 88.28749739, 42.38025149, 39.50264861,\n",
      "       42.38025149, 88.28749739, 42.38025149, 36.06404517, 39.50264861,\n",
      "       88.28749739, 36.06404517, 88.28749739, 36.06404517, 88.28749739,\n",
      "       88.28749739, 36.06404517, 42.38025149, 42.38025149, 42.38025149,\n",
      "       42.38025149, 36.06404517, 42.38025149, 88.28749739, 36.06404517,\n",
      "       88.28749739, 88.28749739, 88.28749739, 36.06404517, 42.38025149,\n",
      "       39.50264861, 36.06404517, 36.06404517, 88.28749739, 42.38025149,\n",
      "       88.28749739, 36.06404517, 42.38025149, 36.06404517, 42.38025149,\n",
      "       88.28749739, 88.28749739, 36.06404517, 36.06404517, 88.28749739,\n",
      "       36.06404517, 36.06404517, 36.06404517, 42.38025149, 36.06404517,\n",
      "       88.28749739, 36.06404517, 39.50264861, 36.06404517, 39.50264861,\n",
      "       88.28749739, 42.38025149, 42.38025149, 88.28749739, 36.06404517,\n",
      "       36.06404517, 36.06404517, 39.50264861, 36.06404517, 88.28749739,\n",
      "       88.28749739, 88.28749739, 88.28749739, 36.06404517, 88.28749739,\n",
      "       36.06404517, 36.06404517, 42.38025149, 42.38025149, 36.06404517,\n",
      "       36.06404517, 42.38025149, 42.38025149, 36.06404517, 88.28749739,\n",
      "       36.06404517, 42.38025149, 36.06404517, 36.06404517, 39.50264861,\n",
      "       88.28749739, 88.28749739, 88.28749739, 88.28749739, 36.06404517,\n",
      "       36.06404517, 88.28749739, 36.06404517, 42.38025149, 36.06404517,\n",
      "       88.28749739, 42.38025149, 88.28749739, 88.28749739, 88.28749739,\n",
      "       36.06404517, 36.06404517, 36.06404517, 88.28749739, 88.28749739,\n",
      "       36.06404517, 88.28749739, 36.06404517, 42.38025149, 42.38025149,\n",
      "       88.28749739, 42.38025149, 36.06404517, 88.28749739, 42.38025149,\n",
      "       36.06404517, 36.06404517, 42.38025149, 36.06404517, 42.38025149,\n",
      "       88.28749739, 42.38025149, 88.28749739, 39.50264861, 36.06404517,\n",
      "       36.06404517, 39.50264861, 88.28749739, 39.50264861, 88.28749739,\n",
      "       88.28749739, 42.38025149, 88.28749739, 88.28749739, 88.28749739,\n",
      "       88.28749739, 42.38025149, 88.28749739, 42.38025149, 88.28749739,\n",
      "       88.28749739, 36.06404517, 36.06404517, 36.06404517, 42.38025149,\n",
      "       39.50264861, 88.28749739, 39.50264861, 88.28749739, 88.28749739,\n",
      "       39.50264861, 88.28749739, 36.06404517, 88.28749739, 88.28749739,\n",
      "       88.28749739, 42.38025149, 36.06404517, 88.28749739, 42.38025149,\n",
      "       39.50264861, 39.50264861, 88.28749739, 88.28749739, 36.06404517,\n",
      "       42.38025149, 36.06404517, 42.38025149, 88.28749739, 39.50264861,\n",
      "       88.28749739, 88.28749739, 42.38025149, 42.38025149, 36.06404517,\n",
      "       88.28749739, 36.06404517, 36.06404517, 36.06404517, 36.06404517,\n",
      "       39.50264861, 36.06404517, 36.06404517, 88.28749739, 88.28749739,\n",
      "       88.28749739, 36.06404517, 88.28749739, 88.28749739, 88.28749739,\n",
      "       88.28749739, 42.38025149, 36.06404517, 42.38025149, 36.06404517,\n",
      "       42.38025149, 36.06404517, 88.28749739, 88.28749739, 42.38025149,\n",
      "       42.38025149, 36.06404517, 88.28749739, 36.06404517, 36.06404517,\n",
      "       42.38025149, 88.28749739, 42.38025149, 88.28749739, 88.28749739,\n",
      "       42.38025149, 88.28749739, 88.28749739, 88.28749739, 39.50264861,\n",
      "       36.06404517, 42.38025149, 42.38025149, 42.38025149, 88.28749739,\n",
      "       88.28749739, 36.06404517, 42.38025149, 88.28749739, 88.28749739,\n",
      "       88.28749739, 36.06404517, 88.28749739, 36.06404517, 42.38025149,\n",
      "       88.28749739, 88.28749739, 36.06404517, 42.38025149, 36.06404517,\n",
      "       36.06404517, 42.38025149, 36.06404517, 36.06404517, 42.38025149,\n",
      "       88.28749739, 42.38025149, 42.38025149, 42.38025149, 36.06404517,\n",
      "       88.28749739, 88.28749739, 88.28749739, 39.50264861, 36.06404517,\n",
      "       88.28749739, 88.28749739, 88.28749739, 88.28749739, 42.38025149,\n",
      "       36.06404517, 42.38025149, 88.28749739, 88.28749739, 42.38025149,\n",
      "       36.06404517, 88.28749739, 36.06404517, 36.06404517, 88.28749739,\n",
      "       88.28749739, 36.06404517, 39.50264861, 88.28749739, 42.38025149,\n",
      "       88.28749739, 36.06404517, 42.38025149, 88.28749739, 88.28749739,\n",
      "       88.28749739, 88.28749739, 42.38025149, 42.38025149, 42.38025149,\n",
      "       88.28749739, 36.06404517, 88.28749739, 88.28749739, 88.28749739,\n",
      "       88.28749739, 42.38025149, 39.50264861, 39.50264861, 42.38025149,\n",
      "       42.38025149, 36.06404517, 42.38025149, 36.06404517, 88.28749739,\n",
      "       88.28749739, 88.28749739, 36.06404517, 88.28749739, 88.28749739,\n",
      "       88.28749739, 88.28749739, 39.50264861, 42.38025149, 36.06404517,\n",
      "       88.28749739, 36.06404517, 36.06404517, 42.38025149, 42.38025149,\n",
      "       36.06404517, 36.06404517, 36.06404517, 88.28749739, 88.28749739,\n",
      "       88.28749739, 42.38025149, 88.28749739, 88.28749739, 36.06404517,\n",
      "       88.28749739, 42.38025149, 88.28749739, 42.38025149, 36.06404517,\n",
      "       88.28749739, 36.06404517, 36.06404517, 88.28749739, 42.38025149,\n",
      "       88.28749739, 36.06404517, 36.06404517, 36.06404517, 36.06404517,\n",
      "       42.38025149, 42.38025149, 42.38025149, 42.38025149, 88.28749739,\n",
      "       88.28749739, 42.38025149, 42.38025149, 42.38025149, 42.38025149,\n",
      "       36.06404517, 36.06404517, 88.28749739, 88.28749739, 88.28749739,\n",
      "       36.06404517, 36.06404517, 88.28749739, 36.06404517, 88.28749739,\n",
      "       36.06404517, 36.06404517, 42.38025149, 36.06404517, 42.38025149,\n",
      "       88.28749739, 42.38025149, 36.06404517, 88.28749739, 42.38025149,\n",
      "       88.28749739, 42.38025149, 36.06404517, 36.06404517, 36.06404517,\n",
      "       88.28749739, 88.28749739, 42.38025149, 36.06404517, 36.06404517,\n",
      "       42.38025149, 36.06404517, 36.06404517, 88.28749739, 42.38025149,\n",
      "       42.38025149, 42.38025149, 42.38025149, 36.06404517, 88.28749739,\n",
      "       42.38025149, 36.06404517, 88.28749739, 88.28749739, 88.28749739,\n",
      "       88.28749739, 88.28749739, 42.38025149, 36.06404517, 36.06404517,\n",
      "       88.28749739, 88.28749739, 88.28749739, 36.06404517, 88.28749739,\n",
      "       36.06404517, 88.28749739, 88.28749739, 88.28749739, 36.06404517,\n",
      "       36.06404517, 88.28749739, 36.06404517, 88.28749739, 88.28749739,\n",
      "       88.28749739, 88.28749739, 88.28749739, 36.06404517, 88.28749739,\n",
      "       36.06404517, 42.38025149, 36.06404517, 36.06404517, 36.06404517,\n",
      "       88.28749739, 88.28749739, 36.06404517, 36.06404517, 88.28749739,\n",
      "       88.28749739, 88.28749739, 88.28749739, 39.50264861, 42.38025149,\n",
      "       88.28749739, 88.28749739, 42.38025149, 88.28749739, 88.28749739,\n",
      "       36.06404517, 39.50264861, 42.38025149, 42.38025149, 42.38025149,\n",
      "       88.28749739, 42.38025149, 36.06404517, 88.28749739, 88.28749739,\n",
      "       42.38025149, 42.38025149, 36.06404517, 42.38025149, 88.28749739,\n",
      "       42.38025149, 39.50264861, 42.38025149, 36.06404517, 42.38025149,\n",
      "       36.06404517, 36.06404517, 36.06404517, 36.06404517, 36.06404517,\n",
      "       88.28749739, 88.28749739, 42.38025149, 88.28749739, 42.38025149,\n",
      "       42.38025149, 42.38025149, 36.06404517, 42.38025149, 88.28749739,\n",
      "       36.06404517, 88.28749739, 88.28749739, 36.06404517, 36.06404517,\n",
      "       88.28749739, 88.28749739, 88.28749739, 88.28749739, 36.06404517,\n",
      "       36.06404517, 36.06404517, 36.06404517, 36.06404517, 42.38025149,\n",
      "       88.28749739, 36.06404517, 88.28749739, 88.28749739, 36.06404517,\n",
      "       88.28749739, 42.38025149, 88.28749739, 36.06404517, 88.28749739,\n",
      "       88.28749739, 36.06404517, 88.28749739, 42.38025149, 88.28749739,\n",
      "       88.28749739, 36.06404517, 42.38025149, 42.38025149, 88.28749739,\n",
      "       88.28749739, 42.38025149, 36.06404517, 36.06404517, 88.28749739,\n",
      "       88.28749739, 36.06404517, 36.06404517, 88.28749739, 42.38025149,\n",
      "       39.50264861, 39.50264861, 88.28749739, 42.38025149, 42.38025149,\n",
      "       88.28749739, 36.06404517, 88.28749739, 88.28749739, 88.28749739,\n",
      "       36.06404517, 88.28749739, 88.28749739, 88.28749739, 88.28749739,\n",
      "       36.06404517, 36.06404517, 88.28749739, 88.28749739, 36.06404517,\n",
      "       36.06404517, 88.28749739, 42.38025149, 36.06404517, 88.28749739,\n",
      "       39.50264861, 39.50264861, 42.38025149, 88.28749739, 88.28749739,\n",
      "       36.06404517, 39.50264861, 36.06404517, 36.06404517, 88.28749739,\n",
      "       42.38025149, 88.28749739, 36.06404517, 88.28749739, 36.06404517,\n",
      "       42.38025149, 36.06404517, 36.06404517, 42.38025149, 42.38025149,\n",
      "       36.06404517, 39.50264861, 39.50264861, 42.38025149, 42.38025149,\n",
      "       42.38025149, 36.06404517, 88.28749739, 88.28749739, 88.28749739,\n",
      "       36.06404517, 42.38025149, 88.28749739, 39.50264861, 88.28749739,\n",
      "       39.50264861, 36.06404517, 88.28749739, 88.28749739, 36.06404517,\n",
      "       88.28749739, 42.38025149, 88.28749739, 36.06404517, 36.06404517,\n",
      "       36.06404517, 88.28749739, 88.28749739, 88.28749739, 42.38025149,\n",
      "       36.06404517, 42.38025149, 88.28749739, 36.06404517, 36.06404517,\n",
      "       39.50264861, 36.06404517, 88.28749739, 88.28749739, 36.06404517,\n",
      "       36.06404517, 88.28749739, 42.38025149, 36.06404517, 88.28749739,\n",
      "       39.50264861, 42.38025149, 88.28749739, 88.28749739, 36.06404517,\n",
      "       36.06404517, 42.38025149, 88.28749739, 42.38025149, 36.06404517,\n",
      "       88.28749739, 88.28749739, 88.28749739, 39.50264861, 88.28749739,\n",
      "       88.28749739, 88.28749739, 88.28749739, 42.38025149, 36.06404517,\n",
      "       88.28749739, 39.50264861, 88.28749739, 39.50264861, 36.06404517,\n",
      "       88.28749739, 42.38025149, 36.06404517, 42.38025149, 88.28749739,\n",
      "       88.28749739, 42.38025149, 88.28749739, 88.28749739, 39.50264861,\n",
      "       42.38025149, 36.06404517, 42.38025149, 36.06404517, 36.06404517,\n",
      "       36.06404517, 88.28749739, 36.06404517, 88.28749739, 88.28749739,\n",
      "       36.06404517, 39.50264861, 36.06404517, 88.28749739, 36.06404517,\n",
      "       88.28749739, 88.28749739, 36.06404517, 88.28749739, 36.06404517,\n",
      "       36.06404517, 36.06404517, 88.28749739, 88.28749739, 36.06404517,\n",
      "       39.50264861, 88.28749739, 88.28749739, 36.06404517, 88.28749739,\n",
      "       88.28749739, 88.28749739, 39.50264861, 88.28749739, 88.28749739,\n",
      "       88.28749739, 88.28749739, 88.28749739, 36.06404517, 36.06404517,\n",
      "       42.38025149, 88.28749739, 39.50264861, 88.28749739, 88.28749739,\n",
      "       39.50264861, 36.06404517, 42.38025149, 88.28749739, 39.50264861,\n",
      "       88.28749739, 88.28749739, 39.50264861, 36.06404517, 39.50264861,\n",
      "       88.28749739, 42.38025149, 42.38025149, 36.06404517, 36.06404517,\n",
      "       36.06404517, 36.06404517, 88.28749739, 42.38025149, 42.38025149,\n",
      "       36.06404517, 42.38025149, 36.06404517, 88.28749739, 42.38025149,\n",
      "       36.06404517, 88.28749739, 88.28749739, 88.28749739, 39.50264861,\n",
      "       88.28749739, 42.38025149, 88.28749739, 42.38025149, 36.06404517,\n",
      "       42.38025149, 88.28749739, 42.38025149, 88.28749739, 36.06404517,\n",
      "       42.38025149, 42.38025149, 36.06404517, 39.50264861, 88.28749739,\n",
      "       36.06404517, 36.06404517, 36.06404517, 42.38025149, 88.28749739,\n",
      "       88.28749739, 88.28749739, 36.06404517, 39.50264861, 42.38025149,\n",
      "       36.06404517, 39.50264861, 88.28749739, 88.28749739, 42.38025149,\n",
      "       88.28749739, 88.28749739, 42.38025149, 36.06404517, 42.38025149,\n",
      "       42.38025149, 88.28749739, 36.06404517, 39.50264861, 42.38025149,\n",
      "       88.28749739, 88.28749739, 42.38025149, 36.06404517, 36.06404517,\n",
      "       88.28749739, 36.06404517, 88.28749739, 36.06404517, 36.06404517,\n",
      "       88.28749739, 36.06404517, 88.28749739, 36.06404517, 39.50264861,\n",
      "       42.38025149, 88.28749739, 36.06404517, 88.28749739, 88.28749739,\n",
      "       42.38025149, 88.28749739, 36.06404517, 39.50264861, 88.28749739,\n",
      "       88.28749739, 36.06404517, 36.06404517, 42.38025149, 88.28749739,\n",
      "       88.28749739, 88.28749739, 36.06404517, 36.06404517, 88.28749739,\n",
      "       36.06404517, 39.50264861, 42.38025149, 36.06404517, 88.28749739,\n",
      "       88.28749739, 36.06404517, 36.06404517, 88.28749739, 36.06404517,\n",
      "       39.50264861, 88.28749739, 42.38025149, 42.38025149, 42.38025149,\n",
      "       42.38025149, 36.06404517, 42.38025149, 42.38025149, 42.38025149,\n",
      "       36.06404517, 88.28749739, 88.28749739, 36.06404517, 42.38025149,\n",
      "       88.28749739, 88.28749739, 88.28749739])}\n"
     ]
    },
    {
     "name": "stderr",
     "output_type": "stream",
     "text": [
      "\n"
     ]
    }
   ],
   "source": [
    "# Boucle sur chaque catégorie d'assemblage dans le dictionnaire 'assemblages'\n",
    "for category, assemblage in assemblages.items():\n",
    "    \n",
    "    # Affichage de la catégorie actuelle (langue)\n",
    "    print('catégorie:', category)\n",
    "    \n",
    "    # Calcul et affichage de l'estimation de la diversité originale (méthode 'chao1') avec un intervalle de confiance\n",
    "    print('  - nombre original d\\'œuvres :', diversity(assemblage, method='chao1', CI=True))\n",
    "    \n",
    "    # Calcul et affichage de l'estimation originale du nombre de documents (méthode 'minsample') avec un intervalle de confiance\n",
    "    print('  - nombre original de documents :', diversity(assemblage, method='minsample', CI=True))\n",
    "\n"
   ]
  },
  {
   "cell_type": "markdown",
   "id": "5e83436f",
   "metadata": {},
   "source": [
    "- et sans les intervalles de confiance :"
   ]
  },
  {
   "cell_type": "code",
   "execution_count": 197,
   "id": "0187cba3",
   "metadata": {},
   "outputs": [
    {
     "name": "stdout",
     "output_type": "stream",
     "text": [
      "category: Portugais\n",
      "  - original # works: 7.6\n",
      "  - original # documents: 32.46952746952747\n",
      "category: Castillan\n",
      "  - original # works: 62.37373737373737\n",
      "  - original # documents: 592.046959046959\n",
      "category: Catalan\n",
      "  - original # works: 11.666666666666668\n",
      "  - original # documents: 58.22345222345223\n"
     ]
    }
   ],
   "source": [
    "for category, assemblage in assemblages.items():\n",
    "\n",
    "    print('category:', category)\n",
    "    print('  - original # works:', diversity(assemblage, method='chao1',CI=False))\n",
    "    print('  - original # documents:', diversity(assemblage, method='minsample', CI=False))\n"
   ]
  },
  {
   "cell_type": "markdown",
   "id": "eec32c77",
   "metadata": {},
   "source": [
    "Nous sauvegardons ces resultats dans un dictionnaire"
   ]
  },
  {
   "cell_type": "code",
   "execution_count": 203,
   "id": "30bfafd7",
   "metadata": {},
   "outputs": [
    {
     "name": "stderr",
     "output_type": "stream",
     "text": [
      "100%|██████████| 1000/1000 [00:00<00:00, 4531.02it/s]\n",
      "  0%|          | 0/1000 [00:00<?, ?it/s]/home/carolisteia/miniconda3/envs/forgotten/lib/python3.7/site-packages/copia/richness.py:450: UserWarning: Tolerance criterion not met: 9.0 > 0.1\n",
      "  warnings.warn(f\"Tolerance criterion not met: {diff_intersect} > {tolerance}\")\n",
      "/home/carolisteia/miniconda3/envs/forgotten/lib/python3.7/site-packages/copia/richness.py:453: UserWarning: Optimization failure likely: 0.0 <= 0\n",
      "  warnings.warn(f\"Optimization failure likely: {x_ast} <= 0\")\n",
      "  1%|          | 7/1000 [00:00<00:15, 64.64it/s]/home/carolisteia/miniconda3/envs/forgotten/lib/python3.7/site-packages/copia/richness.py:450: UserWarning: Tolerance criterion not met: 3.0 > 0.1\n",
      "  print(f\"Tolerance criterion not met: {diff_intersect} > {tolerance}\")\n",
      "  1%|▏         | 14/1000 [00:00<00:15, 62.20it/s]/home/carolisteia/miniconda3/envs/forgotten/lib/python3.7/site-packages/copia/richness.py:450: UserWarning: Tolerance criterion not met: 1.0 > 0.1\n",
      "  print(f\"Tolerance criterion not met: {diff_intersect} > {tolerance}\")\n",
      " 95%|█████████▍| 947/1000 [00:13<00:00, 67.95it/s]\n"
     ]
    },
    {
     "name": "stdout",
     "output_type": "stream",
     "text": [
      "category: Portugais\n",
      "  - original # works: 7.6 lowerbound: 3.495000000000001 uperbound: 14.495000000000001\n",
      "  - original # documents: 32.46952746952747 lowerbound: 20.23261977327447 uperbound: 47.70214724280194\n"
     ]
    },
    {
     "name": "stderr",
     "output_type": "stream",
     "text": [
      "100%|██████████| 1000/1000 [00:00<00:00, 8954.04it/s]\n",
      "  5%|▌         | 50/1000 [00:00<00:13, 69.00it/s]/home/carolisteia/miniconda3/envs/forgotten/lib/python3.7/site-packages/copia/richness.py:450: UserWarning: Tolerance criterion not met: 35.0 > 0.1\n",
      "  warnings.warn(f\"Tolerance criterion not met: {diff_intersect} > {tolerance}\")\n",
      "/home/carolisteia/miniconda3/envs/forgotten/lib/python3.7/site-packages/copia/richness.py:453: UserWarning: Optimization failure likely: 0.0 <= 0\n",
      "  warnings.warn(f\"Optimization failure likely: {x_ast} <= 0\")\n",
      "  6%|▋         | 65/1000 [00:00<00:13, 69.23it/s]/home/carolisteia/miniconda3/envs/forgotten/lib/python3.7/site-packages/copia/richness.py:450: UserWarning: Tolerance criterion not met: 25.0 > 0.1\n",
      "  warnings.warn(f\"Tolerance criterion not met: {diff_intersect} > {tolerance}\")\n",
      " 16%|█▌        | 160/1000 [00:02<00:11, 71.36it/s]/home/carolisteia/miniconda3/envs/forgotten/lib/python3.7/site-packages/copia/richness.py:450: UserWarning: Tolerance criterion not met: 31.0 > 0.1\n",
      "  warnings.warn(f\"Tolerance criterion not met: {diff_intersect} > {tolerance}\")\n",
      " 18%|█▊        | 176/1000 [00:02<00:12, 67.99it/s]/home/carolisteia/miniconda3/envs/forgotten/lib/python3.7/site-packages/copia/richness.py:450: UserWarning: Tolerance criterion not met: 27.0 > 0.1\n",
      "  warnings.warn(f\"Tolerance criterion not met: {diff_intersect} > {tolerance}\")\n",
      " 21%|██        | 211/1000 [00:03<00:11, 67.34it/s]/home/carolisteia/miniconda3/envs/forgotten/lib/python3.7/site-packages/copia/richness.py:450: UserWarning: Tolerance criterion not met: 29.0 > 0.1\n",
      "  warnings.warn(f\"Tolerance criterion not met: {diff_intersect} > {tolerance}\")\n",
      " 23%|██▎       | 233/1000 [00:03<00:11, 68.00it/s]/home/carolisteia/miniconda3/envs/forgotten/lib/python3.7/site-packages/copia/richness.py:450: UserWarning: Tolerance criterion not met: 19.0 > 0.1\n",
      "  warnings.warn(f\"Tolerance criterion not met: {diff_intersect} > {tolerance}\")\n",
      " 25%|██▍       | 248/1000 [00:03<00:10, 69.29it/s]/home/carolisteia/miniconda3/envs/forgotten/lib/python3.7/site-packages/copia/richness.py:450: UserWarning: Tolerance criterion not met: 33.0 > 0.1\n",
      "  warnings.warn(f\"Tolerance criterion not met: {diff_intersect} > {tolerance}\")\n",
      " 30%|██▉       | 295/1000 [00:04<00:09, 71.60it/s]/home/carolisteia/miniconda3/envs/forgotten/lib/python3.7/site-packages/copia/richness.py:450: UserWarning: Tolerance criterion not met: 17.0 > 0.1\n",
      "  warnings.warn(f\"Tolerance criterion not met: {diff_intersect} > {tolerance}\")\n",
      " 74%|███████▍  | 742/1000 [00:10<00:03, 69.53it/s]/home/carolisteia/miniconda3/envs/forgotten/lib/python3.7/site-packages/copia/richness.py:450: UserWarning: Tolerance criterion not met: 41.0 > 0.1\n",
      "  warnings.warn(f\"Tolerance criterion not met: {diff_intersect} > {tolerance}\")\n",
      " 75%|███████▍  | 749/1000 [00:10<00:03, 68.91it/s]/home/carolisteia/miniconda3/envs/forgotten/lib/python3.7/site-packages/copia/richness.py:450: UserWarning: Tolerance criterion not met: 37.0 > 0.1\n",
      "  warnings.warn(f\"Tolerance criterion not met: {diff_intersect} > {tolerance}\")\n",
      "100%|██████████| 1000/1000 [00:14<00:00, 70.27it/s]"
     ]
    },
    {
     "name": "stdout",
     "output_type": "stream",
     "text": [
      "category: Castillan\n",
      "  - original # works: 62.37373737373737 lowerbound: 20.465783068783082 uperbound: 176.22411640211624\n",
      "  - original # documents: 592.046959046959 lowerbound: -48.33826023826032 uperbound: 2284.915873015873\n"
     ]
    },
    {
     "name": "stderr",
     "output_type": "stream",
     "text": [
      "\n",
      "100%|██████████| 1000/1000 [00:00<00:00, 9180.52it/s]\n",
      "  0%|          | 0/1000 [00:00<?, ?it/s]/home/carolisteia/miniconda3/envs/forgotten/lib/python3.7/site-packages/copia/richness.py:450: UserWarning: Tolerance criterion not met: 11.0 > 0.1\n",
      "  warnings.warn(f\"Tolerance criterion not met: {diff_intersect} > {tolerance}\")\n",
      "/home/carolisteia/miniconda3/envs/forgotten/lib/python3.7/site-packages/copia/richness.py:453: UserWarning: Optimization failure likely: 0.0 <= 0\n",
      "  warnings.warn(f\"Optimization failure likely: {x_ast} <= 0\")\n",
      "  1%|          | 7/1000 [00:00<00:15, 64.28it/s]/home/carolisteia/miniconda3/envs/forgotten/lib/python3.7/site-packages/copia/richness.py:450: UserWarning: Tolerance criterion not met: 5.0 > 0.1\n",
      "  warnings.warn(f\"Tolerance criterion not met: {diff_intersect} > {tolerance}\")\n",
      "  2%|▏         | 21/1000 [00:00<00:14, 67.96it/s]/home/carolisteia/miniconda3/envs/forgotten/lib/python3.7/site-packages/copia/richness.py:450: UserWarning: Tolerance criterion not met: 3.0 > 0.1\n",
      "  warnings.warn(f\"Tolerance criterion not met: {diff_intersect} > {tolerance}\")\n",
      " 16%|█▋        | 163/1000 [00:02<00:11, 73.20it/s]/home/carolisteia/miniconda3/envs/forgotten/lib/python3.7/site-packages/copia/richness.py:450: UserWarning: Tolerance criterion not met: 1.0 > 0.1\n",
      "  print(f\"Tolerance criterion not met: {diff_intersect} > {tolerance}\")\n",
      " 98%|█████████▊| 982/1000 [00:14<00:00, 68.04it/s]"
     ]
    },
    {
     "name": "stdout",
     "output_type": "stream",
     "text": [
      "category: Catalan\n",
      "  - original # works: 11.666666666666668 lowerbound: 5.2346666666666675 uperbound: 20.73466666666667\n",
      "  - original # documents: 58.22345222345223 lowerbound: 35.759638720942185 uperbound: 87.9830909443944\n"
     ]
    },
    {
     "name": "stderr",
     "output_type": "stream",
     "text": [
      "\n"
     ]
    }
   ],
   "source": [
    "# Initialisation d'un dictionnaire pour stocker les diversités par catégorie\n",
    "diversity_dic = {}\n",
    "\n",
    "# Boucle sur chaque catégorie d'assemblage dans le dictionnaire 'assemblages'\n",
    "for category, assemblage in assemblages.items():\n",
    "    # Calculer la diversité des œuvres originales avec la méthode 'chao1' et un intervalle de confiance\n",
    "    original_works_diversity = diversity(assemblage, method='chao1', CI=True)\n",
    "    \n",
    "    # Calculer la diversité des documents originaux avec la méthode 'minsample' et un intervalle de confiance\n",
    "    original_documents_diversity = diversity(assemblage, method='minsample', CI=True)\n",
    "    \n",
    "    # Stocker les résultats dans le dictionnaire 'diversity_dic'\n",
    "    diversity_dic[category] = {\n",
    "        'original_works': original_works_diversity,\n",
    "        'original_documents': original_documents_diversity\n",
    "    }\n",
    "\n",
    "    # Afficher les résultats (si nécessaire)\n",
    "    print('catégorie:', category)\n",
    "    print('  - nombre original d\\'œuvres :', original_works_diversity['richness'], 'limite inférieure :', original_works_diversity['lci'], 'limite supérieure :', original_works_diversity['uci'])\n",
    "    print('  - nombre original de documents :', original_documents_diversity['richness'], 'limite inférieure :', original_documents_diversity['lci'], 'limite supérieure :', original_documents_diversity['uci'])\n"
   ]
  },
  {
   "cell_type": "markdown",
   "id": "e4326bb5",
   "metadata": {},
   "source": [
    "Nous sauvegardons le resultats du dictionnaire dans un dataframe"
   ]
  },
  {
   "cell_type": "code",
   "execution_count": 207,
   "id": "45af6b42",
   "metadata": {},
   "outputs": [
    {
     "name": "stdout",
     "output_type": "stream",
     "text": [
      "    category  works_richness  works_lowerbound  works_upperbound  \\\n",
      "0  Portugais        7.600000          3.495000         14.495000   \n",
      "1  Castillan       62.373737         20.465783        176.224116   \n",
      "2    Catalan       11.666667          5.234667         20.734667   \n",
      "\n",
      "   documents_richness  documents_lowerbound  documents_upperbound  \n",
      "0           32.469527             20.232620             47.702147  \n",
      "1          592.046959            -48.338260           2284.915873  \n",
      "2           58.223452             35.759639             87.983091  \n"
     ]
    }
   ],
   "source": [
    "# Création d'une liste pour stocker les données du DataFrame\n",
    "div_data = []\n",
    "\n",
    "# Boucle sur le dictionnaire 'diversity_dic' pour extraire les données pertinentes\n",
    "for category, diversity_data in diversity_dic.items():\n",
    "    # Ajouter un dictionnaire contenant les informations sur la richesse et les limites des œuvres et des documents\n",
    "    div_data.append({\n",
    "        'catégorie': category,\n",
    "        'richesse_œuvres': diversity_data['original_works']['richness'],\n",
    "        'borne_inférieure_œuvres': diversity_data['original_works']['lci'],\n",
    "        'borne_supérieure_œuvres': diversity_data['original_works']['uci'],\n",
    "        'richesse_documents': diversity_data['original_documents']['richness'],\n",
    "        'borne_inférieure_documents': diversity_data['original_documents']['lci'],\n",
    "        'borne_supérieure_documents': diversity_data['original_documents']['uci']\n",
    "    })\n",
    "\n",
    "# Création d'un DataFrame à partir de la liste de dictionnaires\n",
    "df_results = pd.DataFrame(div_data)\n",
    "\n",
    "# Affichage du DataFrame\n",
    "print(df_results)\n",
    "\n"
   ]
  },
  {
   "cell_type": "markdown",
   "id": "b1209ab9",
   "metadata": {},
   "source": [
    "... et le transformons dans un tableau Latex pour integrer dans notre memoire."
   ]
  },
  {
   "cell_type": "code",
   "execution_count": 208,
   "id": "5c1d3210",
   "metadata": {},
   "outputs": [
    {
     "name": "stdout",
     "output_type": "stream",
     "text": [
      "\\begin{tabular}{lrrrrrr}\n",
      "\\toprule\n",
      "  category &  works\\_richness &  works\\_lowerbound &  works\\_upperbound &  documents\\_richness &  documents\\_lowerbound &  documents\\_upperbound \\\\\n",
      "\\midrule\n",
      " Portugais &        7.600000 &          3.495000 &         14.495000 &           32.469527 &             20.232620 &             47.702147 \\\\\n",
      " Castillan &       62.373737 &         20.465783 &        176.224116 &          592.046959 &            -48.338260 &           2284.915873 \\\\\n",
      "   Catalan &       11.666667 &          5.234667 &         20.734667 &           58.223452 &             35.759639 &             87.983091 \\\\\n",
      "\\bottomrule\n",
      "\\end{tabular}\n",
      "\n"
     ]
    }
   ],
   "source": [
    "# Transformation du DataFrame en un format de tableau LaTeX\n",
    "latex_tabular = df_results.to_latex(index=False)\n",
    "\n",
    "# Affichage du code LaTeX\n",
    "print(latex_tabular)\n"
   ]
  },
  {
   "cell_type": "markdown",
   "id": "0875fde3",
   "metadata": {},
   "source": [
    "## Survival rate"
   ]
  },
  {
   "cell_type": "markdown",
   "id": "c2c91aeb",
   "metadata": {},
   "source": [
    "Les ratios de survie résultant de la procédure de bootstrap peuvent être calculés de la manière suivante :\n"
   ]
  },
  {
   "cell_type": "markdown",
   "id": "459c5eb7",
   "metadata": {},
   "source": [
    "- d'abord pour les oeuvres :"
   ]
  },
  {
   "cell_type": "code",
   "execution_count": 209,
   "id": "bc4027f2",
   "metadata": {},
   "outputs": [
    {
     "name": "stderr",
     "output_type": "stream",
     "text": [
      "100%|██████████| 1000/1000 [00:00<00:00, 9387.81it/s]\n",
      "100%|██████████| 1000/1000 [00:00<00:00, 8907.47it/s]\n",
      "100%|██████████| 1000/1000 [00:00<00:00, 9379.31it/s]\n"
     ]
    }
   ],
   "source": [
    "# Initialisation d'un dictionnaire pour stocker les ratios de survie par catégorie\n",
    "wsurvival = {}\n",
    "\n",
    "# Boucle sur chaque assemblage du dictionnaire 'assemblages'\n",
    "for category, assemblage in assemblages.items():\n",
    "    # Calculer le ratio de survie avec la méthode 'chao1' et l'ajouter au dictionnaire\n",
    "    wsurvival[category] = survival_ratio(assemblage, method='chao1')\n"
   ]
  },
  {
   "cell_type": "markdown",
   "id": "d402d52d",
   "metadata": {},
   "source": [
    "`copia` propose deux fonctions auxiliaires pour visualiser et comparer les résultats (avec bootstrap) entre plusieurs assemblages. Tout d'abord, en utilisant des estimations de densité par noyau colorées :\n"
   ]
  },
  {
   "cell_type": "code",
   "execution_count": 113,
   "id": "bd876db9",
   "metadata": {},
   "outputs": [],
   "source": [
    "#wsurvival['all'] = wsurvival_all"
   ]
  },
  {
   "cell_type": "markdown",
   "id": "75eb714b",
   "metadata": {},
   "source": [
    "Premiere visualisation sur un graphique de densité par noyau :"
   ]
  },
  {
   "cell_type": "code",
   "execution_count": 210,
   "id": "08399c83",
   "metadata": {},
   "outputs": [
    {
     "name": "stderr",
     "output_type": "stream",
     "text": [
      "/home/carolisteia/copia/copia/plot.py:252: FutureWarning: \n",
      "\n",
      "`shade` is now deprecated in favor of `fill`; setting `fill=True`.\n",
      "This will become an error in seaborn v0.14.0; please update your code.\n",
      "\n",
      "  ax=ax, color=f\"C{i}\", shade=True)\n",
      "/home/carolisteia/copia/copia/plot.py:252: FutureWarning: \n",
      "\n",
      "`shade` is now deprecated in favor of `fill`; setting `fill=True`.\n",
      "This will become an error in seaborn v0.14.0; please update your code.\n",
      "\n",
      "  ax=ax, color=f\"C{i}\", shade=True)\n",
      "/home/carolisteia/copia/copia/plot.py:252: FutureWarning: \n",
      "\n",
      "`shade` is now deprecated in favor of `fill`; setting `fill=True`.\n",
      "This will become an error in seaborn v0.14.0; please update your code.\n",
      "\n",
      "  ax=ax, color=f\"C{i}\", shade=True)\n"
     ]
    },
    {
     "data": {
      "image/png": "[encoded data removed]",
      "text/plain": [
       "<Figure size 800x550 with 1 Axes>"
      ]
     },
     "metadata": {},
     "output_type": "display_data"
    }
   ],
   "source": [
    "# Tracé de l'estimation de densité par noyau pour les ratios de survie avec 'multi_kde'\n",
    "ax = multi_kde(wsurvival)\n",
    "\n",
    "# Ajout d'une légende en haut à gauche du graphique\n",
    "ax.legend(loc='upper left')\n",
    "\n",
    "# Définition de l'étiquette pour l'axe X\n",
    "ax.set_xlabel('Ratio de survie (œuvres)')\n",
    "\n",
    "# Suppression des étiquettes des graduations de l'axe Y\n",
    "ax.set_yticklabels([])\n",
    "\n",
    "# Suppression des graduations sur l'axe Y\n",
    "ax.tick_params(axis='y', which='both', left=False)\n",
    "\n",
    "# Masquage de la bordure gauche du graphique\n",
    "ax.spines['left'].set_visible(False)\n",
    "\n",
    "# Sauvegarde du graphique en format PDF\n",
    "plt.savefig('/home/carolisteia/Desktop/filologia_iberica/memoire_M2/usm/outputs/survival_works_kde.pdf')\n"
   ]
  },
  {
   "cell_type": "markdown",
   "id": "2fd1e0e8",
   "metadata": {},
   "source": [
    "Deuxièmement, en utilisant des barres d'erreur correspondant aux intervalles de confiance :\n"
   ]
  },
  {
   "cell_type": "code",
   "execution_count": 214,
   "id": "deb51b44",
   "metadata": {},
   "outputs": [
    {
     "data": {
      "image/png": "[encoded data removed]",
      "text/plain": [
       "<Figure size 800x550 with 1 Axes>"
      ]
     },
     "metadata": {},
     "output_type": "display_data"
    }
   ],
   "source": [
    "ax = survival_errorbar(wsurvival, ylabel=\"survival ratio\")\n",
    "ax.tick_params(axis='x', which='minor', bottom=False)\n",
    "plt.savefig('/home/carolisteia/Desktop/filologia_iberica/memoire_M2/usm/outputs/survival_works_error.pdf')"
   ]
  },
  {
   "cell_type": "markdown",
   "id": "34763bf9",
   "metadata": {},
   "source": [
    "Maintenant, nous effectuons les mêmes procédures pour les documents, toujours avec le paramètre `method='minsample'` :\n"
   ]
  },
  {
   "cell_type": "code",
   "execution_count": 215,
   "id": "b3d3a745",
   "metadata": {},
   "outputs": [
    {
     "name": "stderr",
     "output_type": "stream",
     "text": [
      "  0%|          | 0/1000 [00:00<?, ?it/s]/home/carolisteia/miniconda3/envs/forgotten/lib/python3.7/site-packages/copia/richness.py:450: UserWarning: Tolerance criterion not met: 1.0 > 0.1\n",
      "  warnings.warn(f\"Tolerance criterion not met: {diff_intersect} > {tolerance}\")\n",
      "/home/carolisteia/miniconda3/envs/forgotten/lib/python3.7/site-packages/copia/richness.py:453: UserWarning: Optimization failure likely: 0.0 <= 0\n",
      "  warnings.warn(f\"Optimization failure likely: {x_ast} <= 0\")\n",
      "/home/carolisteia/miniconda3/envs/forgotten/lib/python3.7/site-packages/copia/richness.py:450: UserWarning: Tolerance criterion not met: 3.0 > 0.1\n",
      "  warnings.warn(f\"Tolerance criterion not met: {diff_intersect} > {tolerance}\")\n",
      "/home/carolisteia/miniconda3/envs/forgotten/lib/python3.7/site-packages/copia/richness.py:450: UserWarning: Tolerance criterion not met: 9.0 > 0.1\n",
      "  warnings.warn(f\"Tolerance criterion not met: {diff_intersect} > {tolerance}\")\n",
      " 96%|█████████▌| 961/1000 [00:13<00:00, 70.48it/s]\n",
      "  2%|▏         | 23/1000 [00:00<00:13, 71.85it/s]/home/carolisteia/miniconda3/envs/forgotten/lib/python3.7/site-packages/copia/richness.py:450: UserWarning: Tolerance criterion not met: 47.0 > 0.1\n",
      "  warnings.warn(f\"Tolerance criterion not met: {diff_intersect} > {tolerance}\")\n",
      "/home/carolisteia/miniconda3/envs/forgotten/lib/python3.7/site-packages/copia/richness.py:453: UserWarning: Optimization failure likely: 0.0 <= 0\n",
      "  warnings.warn(f\"Optimization failure likely: {x_ast} <= 0\")\n",
      "  9%|▊         | 87/1000 [00:01<00:12, 73.20it/s]/home/carolisteia/miniconda3/envs/forgotten/lib/python3.7/site-packages/copia/richness.py:450: UserWarning: Tolerance criterion not met: 35.0 > 0.1\n",
      "  warnings.warn(f\"Tolerance criterion not met: {diff_intersect} > {tolerance}\")\n",
      "/home/carolisteia/miniconda3/envs/forgotten/lib/python3.7/site-packages/copia/richness.py:450: UserWarning: Tolerance criterion not met: 29.0 > 0.1\n",
      "  warnings.warn(f\"Tolerance criterion not met: {diff_intersect} > {tolerance}\")\n",
      " 14%|█▎        | 135/1000 [00:01<00:11, 72.38it/s]/home/carolisteia/miniconda3/envs/forgotten/lib/python3.7/site-packages/copia/richness.py:450: UserWarning: Tolerance criterion not met: 41.0 > 0.1\n",
      "  warnings.warn(f\"Tolerance criterion not met: {diff_intersect} > {tolerance}\")\n",
      " 17%|█▋        | 167/1000 [00:02<00:11, 72.88it/s]/home/carolisteia/miniconda3/envs/forgotten/lib/python3.7/site-packages/copia/richness.py:450: UserWarning: Tolerance criterion not met: 27.0 > 0.1\n",
      "  warnings.warn(f\"Tolerance criterion not met: {diff_intersect} > {tolerance}\")\n",
      " 18%|█▊        | 183/1000 [00:02<00:11, 73.45it/s]/home/carolisteia/miniconda3/envs/forgotten/lib/python3.7/site-packages/copia/richness.py:450: UserWarning: Tolerance criterion not met: 39.0 > 0.1\n",
      "  warnings.warn(f\"Tolerance criterion not met: {diff_intersect} > {tolerance}\")\n",
      " 27%|██▋       | 271/1000 [00:03<00:09, 73.99it/s]/home/carolisteia/miniconda3/envs/forgotten/lib/python3.7/site-packages/copia/richness.py:450: UserWarning: Tolerance criterion not met: 19.0 > 0.1\n",
      "  warnings.warn(f\"Tolerance criterion not met: {diff_intersect} > {tolerance}\")\n",
      " 29%|██▊       | 287/1000 [00:03<00:10, 68.65it/s]/home/carolisteia/miniconda3/envs/forgotten/lib/python3.7/site-packages/copia/richness.py:450: UserWarning: Tolerance criterion not met: 25.0 > 0.1\n",
      "  warnings.warn(f\"Tolerance criterion not met: {diff_intersect} > {tolerance}\")\n",
      " 34%|███▎      | 335/1000 [00:04<00:09, 72.68it/s]/home/carolisteia/miniconda3/envs/forgotten/lib/python3.7/site-packages/copia/richness.py:450: UserWarning: Tolerance criterion not met: 23.0 > 0.1\n",
      "  warnings.warn(f\"Tolerance criterion not met: {diff_intersect} > {tolerance}\")\n",
      " 46%|████▌     | 455/1000 [00:06<00:07, 74.56it/s]/home/carolisteia/miniconda3/envs/forgotten/lib/python3.7/site-packages/copia/richness.py:450: UserWarning: Tolerance criterion not met: 33.0 > 0.1\n",
      "  warnings.warn(f\"Tolerance criterion not met: {diff_intersect} > {tolerance}\")\n",
      " 93%|█████████▎| 931/1000 [00:12<00:00, 71.07it/s]/home/carolisteia/miniconda3/envs/forgotten/lib/python3.7/site-packages/copia/richness.py:450: UserWarning: Tolerance criterion not met: 37.0 > 0.1\n",
      "  warnings.warn(f\"Tolerance criterion not met: {diff_intersect} > {tolerance}\")\n",
      "100%|██████████| 1000/1000 [00:13<00:00, 71.78it/s]\n",
      "  0%|          | 0/1000 [00:00<?, ?it/s]/home/carolisteia/miniconda3/envs/forgotten/lib/python3.7/site-packages/copia/richness.py:450: UserWarning: Tolerance criterion not met: 5.0 > 0.1\n",
      "  warnings.warn(f\"Tolerance criterion not met: {diff_intersect} > {tolerance}\")\n",
      "/home/carolisteia/miniconda3/envs/forgotten/lib/python3.7/site-packages/copia/richness.py:453: UserWarning: Optimization failure likely: 0.0 <= 0\n",
      "  warnings.warn(f\"Optimization failure likely: {x_ast} <= 0\")\n",
      "/home/carolisteia/miniconda3/envs/forgotten/lib/python3.7/site-packages/copia/richness.py:450: UserWarning: Tolerance criterion not met: 11.0 > 0.1\n",
      "  warnings.warn(f\"Tolerance criterion not met: {diff_intersect} > {tolerance}\")\n",
      "/home/carolisteia/miniconda3/envs/forgotten/lib/python3.7/site-packages/copia/richness.py:450: UserWarning: Tolerance criterion not met: 3.0 > 0.1\n",
      "  warnings.warn(f\"Tolerance criterion not met: {diff_intersect} > {tolerance}\")\n",
      " 24%|██▍       | 239/1000 [00:03<00:11, 69.14it/s]/home/carolisteia/miniconda3/envs/forgotten/lib/python3.7/site-packages/copia/richness.py:450: UserWarning: Tolerance criterion not met: 1.0 > 0.1\n",
      "  print(f\"Tolerance criterion not met: {diff_intersect} > {tolerance}\")\n",
      " 98%|█████████▊| 983/1000 [00:14<00:00, 66.70it/s]\n"
     ]
    }
   ],
   "source": [
    "dsurvival = {}\n",
    "for category, assemblage in assemblages.items():\n",
    "    dsurvival[category] = survival_ratio(assemblage, method='minsample')"
   ]
  },
  {
   "cell_type": "code",
   "execution_count": 216,
   "id": "01451de1",
   "metadata": {},
   "outputs": [
    {
     "name": "stderr",
     "output_type": "stream",
     "text": [
      "/home/carolisteia/copia/copia/plot.py:252: FutureWarning: \n",
      "\n",
      "`shade` is now deprecated in favor of `fill`; setting `fill=True`.\n",
      "This will become an error in seaborn v0.14.0; please update your code.\n",
      "\n",
      "  ax=ax, color=f\"C{i}\", shade=True)\n",
      "/home/carolisteia/copia/copia/plot.py:252: FutureWarning: \n",
      "\n",
      "`shade` is now deprecated in favor of `fill`; setting `fill=True`.\n",
      "This will become an error in seaborn v0.14.0; please update your code.\n",
      "\n",
      "  ax=ax, color=f\"C{i}\", shade=True)\n",
      "/home/carolisteia/copia/copia/plot.py:252: FutureWarning: \n",
      "\n",
      "`shade` is now deprecated in favor of `fill`; setting `fill=True`.\n",
      "This will become an error in seaborn v0.14.0; please update your code.\n",
      "\n",
      "  ax=ax, color=f\"C{i}\", shade=True)\n"
     ]
    },
    {
     "data": {
      "image/png": "[encoded data removed]",
      "text/plain": [
       "<Figure size 800x550 with 1 Axes>"
      ]
     },
     "metadata": {},
     "output_type": "display_data"
    }
   ],
   "source": [
    "ax = multi_kde(dsurvival)\n",
    "ax.legend(loc='upper right')\n",
    "ax.set_xlim((0, 0.35))\n",
    "ax.set_yticklabels([])\n",
    "ax.tick_params(axis='y', which='both', left=False)\n",
    "ax.spines['left'].set_visible(False)\n",
    "ax.set_xlabel('Survival ratio (documents)')\n",
    "plt.savefig('/home/carolisteia/Desktop/filologia_iberica/memoire_M2/usm/outputs/survival_docs_kde.pdf')"
   ]
  },
  {
   "cell_type": "code",
   "execution_count": 217,
   "id": "d9b92d54",
   "metadata": {},
   "outputs": [
    {
     "data": {
      "image/png": "[encoded data removed]",
      "text/plain": [
       "<Figure size 800x550 with 1 Axes>"
      ]
     },
     "metadata": {},
     "output_type": "display_data"
    }
   ],
   "source": [
    "ax = survival_errorbar(dsurvival, ylabel=\"survival ratio\")\n",
    "ax.tick_params(axis='x', which='minor', bottom=False)\n",
    "plt.savefig('/home/carolisteia/Desktop/filologia_iberica/memoire_M2/usm/outputs/survival_docs_error.pdf')"
   ]
  },
  {
   "cell_type": "markdown",
   "id": "1b79c7c9",
   "metadata": {},
   "source": [
    "Nous pouvons maintenant résumer les résultats des estimations pour chaque langue dans un tableau récapitulatif :\n"
   ]
  },
  {
   "cell_type": "code",
   "execution_count": 218,
   "id": "a9163511",
   "metadata": {},
   "outputs": [
    {
     "data": {
      "text/html": [
       "<div>\n",
       "<style scoped>\n",
       "    .dataframe tbody tr th:only-of-type {\n",
       "        vertical-align: middle;\n",
       "    }\n",
       "\n",
       "    .dataframe tbody tr th {\n",
       "        vertical-align: top;\n",
       "    }\n",
       "\n",
       "    .dataframe thead th {\n",
       "        text-align: right;\n",
       "    }\n",
       "</style>\n",
       "<table border=\"1\" class=\"dataframe\">\n",
       "  <thead>\n",
       "    <tr style=\"text-align: right;\">\n",
       "      <th></th>\n",
       "      <th>f1</th>\n",
       "      <th>f2</th>\n",
       "      <th>S</th>\n",
       "      <th>n</th>\n",
       "      <th>repo</th>\n",
       "      <th>CH1</th>\n",
       "      <th>CH1-lCI</th>\n",
       "      <th>CH1-uCI</th>\n",
       "      <th>MS</th>\n",
       "      <th>MS-lCI</th>\n",
       "      <th>MS-uCI</th>\n",
       "    </tr>\n",
       "    <tr>\n",
       "      <th>language</th>\n",
       "      <th></th>\n",
       "      <th></th>\n",
       "      <th></th>\n",
       "      <th></th>\n",
       "      <th></th>\n",
       "      <th></th>\n",
       "      <th></th>\n",
       "      <th></th>\n",
       "      <th></th>\n",
       "      <th></th>\n",
       "      <th></th>\n",
       "    </tr>\n",
       "  </thead>\n",
       "  <tbody>\n",
       "    <tr>\n",
       "      <th>portugais</th>\n",
       "      <td>3</td>\n",
       "      <td>1</td>\n",
       "      <td>4</td>\n",
       "      <td>5</td>\n",
       "      <td>5</td>\n",
       "      <td>0.526</td>\n",
       "      <td>0.278</td>\n",
       "      <td>1.176</td>\n",
       "      <td>0.154</td>\n",
       "      <td>0.105</td>\n",
       "      <td>0.249</td>\n",
       "    </tr>\n",
       "    <tr>\n",
       "      <th>castillan</th>\n",
       "      <td>16</td>\n",
       "      <td>3</td>\n",
       "      <td>21</td>\n",
       "      <td>33</td>\n",
       "      <td>15</td>\n",
       "      <td>0.337</td>\n",
       "      <td>0.118</td>\n",
       "      <td>0.910</td>\n",
       "      <td>0.056</td>\n",
       "      <td>0.015</td>\n",
       "      <td>6.800</td>\n",
       "    </tr>\n",
       "    <tr>\n",
       "      <th>catalan</th>\n",
       "      <td>4</td>\n",
       "      <td>1</td>\n",
       "      <td>5</td>\n",
       "      <td>6</td>\n",
       "      <td>6</td>\n",
       "      <td>0.429</td>\n",
       "      <td>0.239</td>\n",
       "      <td>0.927</td>\n",
       "      <td>0.103</td>\n",
       "      <td>0.068</td>\n",
       "      <td>0.169</td>\n",
       "    </tr>\n",
       "    <tr>\n",
       "      <th>all</th>\n",
       "      <td>23</td>\n",
       "      <td>5</td>\n",
       "      <td>30</td>\n",
       "      <td>44</td>\n",
       "      <td>None</td>\n",
       "      <td>0.367</td>\n",
       "      <td>0.126</td>\n",
       "      <td>0.841</td>\n",
       "      <td>0.062</td>\n",
       "      <td>0.020</td>\n",
       "      <td>0.284</td>\n",
       "    </tr>\n",
       "  </tbody>\n",
       "</table>\n",
       "</div>"
      ],
      "text/plain": [
       "           f1  f2   S   n  repo    CH1  CH1-lCI  CH1-uCI     MS  MS-lCI  \\\n",
       "language                                                                  \n",
       "portugais   3   1   4   5     5  0.526    0.278    1.176  0.154   0.105   \n",
       "castillan  16   3  21  33    15  0.337    0.118    0.910  0.056   0.015   \n",
       "catalan     4   1   5   6     6  0.429    0.239    0.927  0.103   0.068   \n",
       "all        23   5  30  44  None  0.367    0.126    0.841  0.062   0.020   \n",
       "\n",
       "           MS-uCI  \n",
       "language           \n",
       "portugais   0.249  \n",
       "castillan   6.800  \n",
       "catalan     0.169  \n",
       "all         0.284  "
      ]
     },
     "execution_count": 218,
     "metadata": {},
     "output_type": "execute_result"
    }
   ],
   "source": [
    "# Initialisation des colonnes supplémentaires du DataFrame avec des valeurs de 0.0\n",
    "for c in 'CH1 CH1-lCI CH1-uCI MS MS-lCI MS-uCI'.split():\n",
    "    stats_df[c] = 0.0\n",
    "\n",
    "# Pour chaque langue individuelle :\n",
    "for lang in wsurvival:\n",
    "    stats_df.loc[lang.lower(), 'CH1'] = wsurvival[lang]['survival']  # Stocker le ratio de survie 'CH1'\n",
    "    stats_df.loc[lang.lower(), 'CH1-lCI'] = wsurvival[lang]['lci']    # Stocker la borne inférieure de l'intervalle de confiance\n",
    "    stats_df.loc[lang.lower(), 'CH1-uCI'] = wsurvival[lang]['uci']    # Stocker la borne supérieure de l'intervalle de confiance\n",
    "\n",
    "for lang in dsurvival:\n",
    "    stats_df.loc[lang.lower(), 'MS'] = dsurvival[lang]['survival']    # Stocker le ratio de survie 'MS'\n",
    "    stats_df.loc[lang.lower(), 'MS-lCI'] = dsurvival[lang]['lci']     # Stocker la borne inférieure de l'intervalle de confiance\n",
    "    stats_df.loc[lang.lower(), 'MS-uCI'] = dsurvival[lang]['uci']     # Stocker la borne supérieure de l'intervalle de confiance\n",
    "    \n",
    "# Pour l'union des assemblages :\n",
    "stats_df.loc['all', 'CH1'] = wsurvival_all['survival']            # Stocker le ratio de survie 'CH1' pour l'ensemble des langues\n",
    "stats_df.loc['all', 'CH1-lCI'] = wsurvival_all['lci']             # Stocker la borne inférieure de l'intervalle de confiance pour 'CH1'\n",
    "stats_df.loc['all', 'CH1-uCI'] = wsurvival_all['uci']             # Stocker la borne supérieure de l'intervalle de confiance pour 'CH1'\n",
    "\n",
    "stats_df.loc['all', 'MS'] = dsurvival_all['survival']             # Stocker le ratio de survie 'MS' pour l'ensemble des langues\n",
    "stats_df.loc['all', 'MS-lCI'] = dsurvival_all['lci']              # Stocker la borne inférieure de l'intervalle de confiance pour 'MS'\n",
    "stats_df.loc['all', 'MS-uCI'] = dsurvival_all['uci']              # Stocker la borne supérieure de l'intervalle de confiance pour 'MS'\n",
    "\n",
    "# Arrondir les valeurs du DataFrame à 3 décimales\n",
    "stats_df.round(3)\n"
   ]
  },
  {
   "cell_type": "markdown",
   "id": "86b0934e",
   "metadata": {},
   "source": [
    "Ensuite nous exportons le résultat dans un tableau LaTeX pour l'inclure dans le mémoire :\n"
   ]
  },
  {
   "cell_type": "code",
   "execution_count": 219,
   "id": "ce5cc73d",
   "metadata": {},
   "outputs": [],
   "source": [
    "with open('/home/carolisteia/Desktop/filologia_iberica/outputs/results.txt', 'w') as f:\n",
    "    f.write(stats_df.round(3).to_latex())"
   ]
  },
  {
   "cell_type": "markdown",
   "id": "b9a2ff45",
   "metadata": {},
   "source": [
    "### Evenness"
   ]
  },
  {
   "cell_type": "markdown",
   "id": "a81ff423",
   "metadata": {},
   "source": [
    "Pour visualiser les profils d'équitabilité, nous devons d'abord calculer le profil des nombres de Hill (estimés, reconstruits) pour chacune des langues :\n"
   ]
  },
  {
   "cell_type": "code",
   "execution_count": 220,
   "id": "144e04e4",
   "metadata": {
    "scrolled": false
   },
   "outputs": [
    {
     "name": "stderr",
     "output_type": "stream",
     "text": [
      "100%|██████████| 10000/10000 [00:03<00:00, 3159.96it/s]\n",
      "  0%|          | 1/10000 [00:00<18:01,  9.24it/s]/home/carolisteia/miniconda3/envs/forgotten/lib/python3.7/site-packages/copia/hill.py:49: RuntimeWarning: invalid value encountered in double_scalars\n",
      "  return (A + B)**(1 / (1 - q))\n",
      "100%|██████████| 10000/10000 [00:25<00:00, 393.84it/s]\n",
      "100%|██████████| 10000/10000 [00:03<00:00, 2881.52it/s]\n",
      "100%|██████████| 10000/10000 [00:42<00:00, 233.51it/s]\n",
      "100%|██████████| 10000/10000 [00:04<00:00, 2448.51it/s]\n",
      "  0%|          | 0/10000 [00:00<?, ?it/s]/home/carolisteia/miniconda3/envs/forgotten/lib/python3.7/site-packages/copia/hill.py:49: RuntimeWarning: invalid value encountered in double_scalars\n",
      "  return (A + B)**(1 / (1 - q))\n",
      "100%|██████████| 10000/10000 [00:30<00:00, 330.46it/s]\n"
     ]
    }
   ],
   "source": [
    "# Initialisation d'un dictionnaire pour stocker les estimations des nombres de Hill par langue\n",
    "hill_est = {}\n",
    "\n",
    "# Boucle sur chaque assemblage du dictionnaire 'assemblages'\n",
    "for lang, assemblage in assemblages.items():\n",
    "    # Calculer les nombres de Hill pour les données observées (emp) et estimées (est)\n",
    "    emp, est = hill_numbers(assemblage, n_iter=10000)\n",
    "    \n",
    "    # Stocker les estimations des nombres de Hill dans le dictionnaire 'hill_est'\n",
    "    hill_est[lang] = est\n"
   ]
  },
  {
   "cell_type": "markdown",
   "id": "71543634",
   "metadata": {},
   "source": [
    "Nous pouvons calculer les profils d'équitabilité (normalisés) à partir des profils des nombres de Hill :\n"
   ]
  },
  {
   "cell_type": "code",
   "execution_count": 221,
   "id": "84acefaa",
   "metadata": {},
   "outputs": [],
   "source": [
    "evennesses = {l:evenness(hill_est[l]) for l in hill_est}"
   ]
  },
  {
   "cell_type": "markdown",
   "id": "62cb253e",
   "metadata": {},
   "source": [
    "Le tracé de ces profils dans un seul graphique peut être effectué en appelant la fonction auxiliaire associée :\n"
   ]
  },
  {
   "cell_type": "code",
   "execution_count": 222,
   "id": "8306ef47",
   "metadata": {},
   "outputs": [
    {
     "data": {
      "image/png": "[encoded data removed]",
      "text/plain": [
       "<Figure size 700x500 with 1 Axes>"
      ]
     },
     "metadata": {},
     "output_type": "display_data"
    }
   ],
   "source": [
    "# Tracé des profils d'équitabilité à l'aide de la fonction 'evenness_plot'\n",
    "ax = evenness_plot(evennesses, figsize=(7, 5))\n",
    "\n",
    "# Activation des graduations mineures sur l'axe Y\n",
    "ax.tick_params(axis='y', which='minor', left=True)\n",
    "\n",
    "# Récupération des lignes et des étiquettes de la légende\n",
    "lines, labels = ax.get_legend_handles_labels()\n",
    "\n",
    "# Suppression du titre du graphique\n",
    "ax.set_title(None)\n",
    "\n",
    "# Ajout de la légende au-dessus du graphique, centrée, avec 3 colonnes\n",
    "ax.legend(lines, labels, loc='upper center', ncol=3, bbox_to_anchor=(0.5, 1.15), frameon=False)\n",
    "\n",
    "# Sauvegarde du graphique en format PDF\n",
    "plt.savefig('/home/carolisteia/Desktop/filologia_iberica/memoire_M2/usm/outputs/evenness.pdf')\n"
   ]
  },
  {
   "cell_type": "code",
   "execution_count": 223,
   "id": "09eefa1d",
   "metadata": {},
   "outputs": [
    {
     "data": {
      "image/png": "[encoded data removed]",
      "text/plain": [
       "<Figure size 700x500 with 1 Axes>"
      ]
     },
     "metadata": {},
     "output_type": "display_data"
    }
   ],
   "source": [
    "ax = evenness_plot(evennesses, figsize=(7, 5))\n",
    "ax.tick_params(axis='y', which='minor', left=True)\n",
    "lines, labels = ax.get_legend_handles_labels()\n",
    "ax.set_title(None)\n",
    "# ax.legend(lines, labels, loc = 'upper center', ncol=3, bbox_to_anchor=(0.5, 1.15), frameon=False)\n",
    "ax.get_legend().remove()\n",
    "\n",
    "qs = np.arange(0, 3.1, 0.1)\n",
    "\n",
    "\n",
    "\n",
    "ax.text(qs[20], evennesses['Castillan'][20], \" \" + \"Castillan\",\n",
    "        size=\"small\", bbox=dict(facecolor='white', edgecolor=\"None\", alpha=1),\n",
    "        color=\"C3\", ha=\"center\", va=\"center\", rotation=-16.5)\n",
    "\n",
    "ax.text(qs[15], evennesses['Portugais'][15], \" \" + \"Portugais\",\n",
    "        size=\"small\", bbox=dict(facecolor='white', edgecolor=\"None\", alpha=1),\n",
    "        color=\"C5\", ha=\"center\", va=\"center\", rotation=-9.5)\n",
    "\n",
    "ax.text(qs[15], evennesses['Catalan'][15], \" \" + \"Catalan\",\n",
    "        size=\"small\", bbox=dict(facecolor='white', edgecolor=\"None\", alpha=1),\n",
    "        color=\"C4\", ha=\"center\", va=\"center\", rotation=-9.5)\n",
    "\n",
    "plt.savefig('/home/carolisteia/Desktop/filologia_iberica/memoire_M2/usm/outputs/evenness-inset-text.pdf')"
   ]
  },
  {
   "cell_type": "markdown",
   "id": "0216e3d9",
   "metadata": {},
   "source": [
    "Nous pouvons répéter cela pour les autres classes de mesures d'équitabilité ($E_1$ à $E_5$) :\n"
   ]
  },
  {
   "cell_type": "code",
   "execution_count": 224,
   "id": "0b45b0ce",
   "metadata": {},
   "outputs": [
    {
     "name": "stderr",
     "output_type": "stream",
     "text": [
      "/home/carolisteia/miniconda3/envs/forgotten/lib/python3.7/site-packages/copia/utils.py:230: RuntimeWarning: invalid value encountered in true_divide\n",
      "  (1 - (d['richness'][0] ** qs)))\n"
     ]
    },
    {
     "data": {
      "image/png": "[encoded data removed]",
      "text/plain": [
       "<Figure size 1000x700 with 5 Axes>"
      ]
     },
     "metadata": {},
     "output_type": "display_data"
    }
   ],
   "source": [
    "# Création d'une figure avec une grille de sous-graphiques de 2 lignes et 3 colonnes\n",
    "fig, axes = plt.subplots(nrows=2, ncols=3, figsize=(10, 7), sharey=True)\n",
    "axes = axes.flatten()  # Aplatir la grille des axes pour faciliter l'itération\n",
    "\n",
    "# Boucle sur les valeurs de 1 à 5 pour tracer les profils d'équitabilité correspondants\n",
    "for i in range(1, 6):\n",
    "    # Calcul des profils d'équitabilité pour chaque assemblage, avec l'ordre de diversité 'E=i'\n",
    "    evennesses = {l:evenness(hill_est[l], E=i) for l in hill_est}\n",
    "    \n",
    "    # Tracé du profil d'équitabilité dans l'axe correspondant\n",
    "    ax = evenness_plot(evennesses, xlabel=\"Ordre de diversité $q$\", ylabel=\"Équitabilité\", ax=axes[i-1])\n",
    "    \n",
    "    # Définir le titre du graphique avec la notation mathématique pour l'ordre 'E_i'\n",
    "    ax.set_title(f\"$E_{i}$\")\n",
    "    \n",
    "    # Activation des graduations mineures sur l'axe Y\n",
    "    ax.tick_params(axis='y', which='minor', left=True)\n",
    "    \n",
    "    # Suppression de la légende pour éviter les doublons\n",
    "    ax.get_legend().remove()\n",
    "\n",
    "# Suppression du dernier sous-graphe vide\n",
    "axes[-1].remove()  # Ne pas afficher l'axe vide\n",
    "\n",
    "# Récupération des lignes et étiquettes de la légende pour l'ensemble de la figure\n",
    "lines, labels = fig.axes[-1].get_legend_handles_labels()\n",
    "# Ajout de la légende globale au-dessus de la figure, avec 6 colonnes\n",
    "fig.legend(lines, labels, loc='upper center', ncol=6, bbox_to_anchor=(0.5, 1.05), frameon=False)\n",
    "\n",
    "# Ajustement de la disposition des sous-graphes pour éviter le chevauchement\n",
    "plt.tight_layout()\n",
    "\n",
    "# Sauvegarde de la figure en format PDF\n",
    "plt.savefig(f\"/home/carolisteia/Desktop/filologia_iberica/memoire_M2/usm/outputs/evenness-plots.pdf\", bbox_inches='tight')\n"
   ]
  },
  {
   "cell_type": "markdown",
   "id": "c9b0ddc1",
   "metadata": {},
   "source": [
    "## Estimateurs supplémentaires\n"
   ]
  },
  {
   "cell_type": "markdown",
   "id": "1c2410ed",
   "metadata": {},
   "source": [
    "Meme si nous nous concentrons sur **Chao1**, il est utile de comparer les résultats avec un certain nombre d'autres estimateurs pour la survie des œuvres. Avec `copia`, les alternatives suivantes sont disponibles :\n",
    "- **Jackknife** d'ordre supérieur : une méthode plus générale pour la correction des biais en statistiques\n",
    "- **iChao1** : une variante de Chao1, qui prend également en compte $f_3$ et $f_4$\n",
    "- L'estimateur **Egghe & Proot**, utilisant le paramètre par défaut `alpha=150`.\n"
   ]
  },
  {
   "cell_type": "code",
   "execution_count": 225,
   "id": "251e324c",
   "metadata": {},
   "outputs": [
    {
     "name": "stderr",
     "output_type": "stream",
     "text": [
      "100%|██████████| 10000/10000 [00:00<00:00, 14813.17it/s]\n",
      "100%|██████████| 10000/10000 [00:00<00:00, 13004.61it/s]\n",
      "100%|██████████| 10000/10000 [00:00<00:00, 17453.34it/s]\n",
      "/home/carolisteia/miniconda3/envs/forgotten/lib/python3.7/site-packages/copia/richness.py:127: UserWarning: Add-one smoothing for f4 = 0\n",
      "  warnings.warn(\"Add-one smoothing for f4 = 0\", UserWarning)\n",
      "100%|██████████| 10000/10000 [00:00<00:00, 13116.53it/s]\n",
      "100%|██████████| 10000/10000 [00:00<00:00, 11533.19it/s]\n",
      "100%|██████████| 10000/10000 [00:00<00:00, 12522.51it/s]\n",
      "  0%|          | 0/10000 [00:00<?, ?it/s]/home/carolisteia/miniconda3/envs/forgotten/lib/python3.7/site-packages/copia/richness.py:185: UserWarning: Add-one smoothing for P2 = 0\n",
      "  warnings.warn(\"Add-one smoothing for P2 = 0\", UserWarning)\n",
      " 96%|█████████▌| 9584/10000 [00:00<00:00, 13872.58it/s]\n",
      "  2%|▏         | 163/10000 [00:00<00:08, 1153.41it/s]/home/carolisteia/miniconda3/envs/forgotten/lib/python3.7/site-packages/copia/richness.py:185: UserWarning: Add-one smoothing for P2 = 0\n",
      "  warnings.warn(\"Add-one smoothing for P2 = 0\", UserWarning)\n",
      "100%|██████████| 10000/10000 [00:00<00:00, 15036.15it/s]\n",
      "  0%|          | 0/10000 [00:00<?, ?it/s]/home/carolisteia/miniconda3/envs/forgotten/lib/python3.7/site-packages/copia/richness.py:185: UserWarning: Add-one smoothing for P2 = 0\n",
      "  warnings.warn(\"Add-one smoothing for P2 = 0\", UserWarning)\n",
      " 98%|█████████▊| 9815/10000 [00:00<00:00, 12437.74it/s]\n"
     ]
    }
   ],
   "source": [
    "# Initialisation d'une liste vide pour stocker les comparaisons\n",
    "comp = []\n",
    "\n",
    "# Boucle sur chaque estimateur à utiliser pour calculer le ratio de survie\n",
    "for estimator in ['chao1', 'jackknife', 'ichao1', 'egghe_proot']:\n",
    "    # Boucle sur chaque assemblage (tradition/langue) du dictionnaire 'assemblages'\n",
    "    for category, assemblage in assemblages.items():\n",
    "        # Calculer le ratio de survie pour l'assemblage avec l'estimateur spécifié\n",
    "        surv = survival_ratio(assemblage, method=estimator, n_iter=10000)\n",
    "        \n",
    "        # Ajouter les résultats sous forme de liste : [tradition, estimateur, ratio de survie, borne inférieure, borne supérieure]\n",
    "        comp.append([category, estimator, surv['survival'], surv['lci'], surv['uci']])\n",
    "\n",
    "# Création d'un DataFrame à partir de la liste des comparaisons, avec des noms de colonnes appropriés\n",
    "comp = pd.DataFrame(comp, columns=['tradition', 'estimateur', 'ratio_survie', 'borne_inférieure', 'borne_supérieure'])\n"
   ]
  },
  {
   "cell_type": "markdown",
   "id": "39ff9ac2",
   "metadata": {},
   "source": [
    "Tri des Données du DataFrame *comp*"
   ]
  },
  {
   "cell_type": "code",
   "execution_count": 226,
   "id": "7081b6a8",
   "metadata": {},
   "outputs": [
    {
     "data": {
      "text/html": [
       "<div>\n",
       "<style scoped>\n",
       "    .dataframe tbody tr th:only-of-type {\n",
       "        vertical-align: middle;\n",
       "    }\n",
       "\n",
       "    .dataframe tbody tr th {\n",
       "        vertical-align: top;\n",
       "    }\n",
       "\n",
       "    .dataframe thead th {\n",
       "        text-align: right;\n",
       "    }\n",
       "</style>\n",
       "<table border=\"1\" class=\"dataframe\">\n",
       "  <thead>\n",
       "    <tr style=\"text-align: right;\">\n",
       "      <th></th>\n",
       "      <th>tradition</th>\n",
       "      <th>estimator</th>\n",
       "      <th>survival</th>\n",
       "      <th>lci</th>\n",
       "      <th>uci</th>\n",
       "    </tr>\n",
       "  </thead>\n",
       "  <tbody>\n",
       "    <tr>\n",
       "      <th>1</th>\n",
       "      <td>Castillan</td>\n",
       "      <td>chao1</td>\n",
       "      <td>0.336680</td>\n",
       "      <td>0.119542</td>\n",
       "      <td>1.043458</td>\n",
       "    </tr>\n",
       "    <tr>\n",
       "      <th>10</th>\n",
       "      <td>Castillan</td>\n",
       "      <td>egghe_proot</td>\n",
       "      <td>0.314113</td>\n",
       "      <td>0.098910</td>\n",
       "      <td>1.199394</td>\n",
       "    </tr>\n",
       "    <tr>\n",
       "      <th>7</th>\n",
       "      <td>Castillan</td>\n",
       "      <td>ichao1</td>\n",
       "      <td>0.336680</td>\n",
       "      <td>0.110095</td>\n",
       "      <td>1.162944</td>\n",
       "    </tr>\n",
       "    <tr>\n",
       "      <th>4</th>\n",
       "      <td>Castillan</td>\n",
       "      <td>jackknife</td>\n",
       "      <td>0.350000</td>\n",
       "      <td>0.237550</td>\n",
       "      <td>0.664611</td>\n",
       "    </tr>\n",
       "    <tr>\n",
       "      <th>2</th>\n",
       "      <td>Catalan</td>\n",
       "      <td>chao1</td>\n",
       "      <td>0.428571</td>\n",
       "      <td>0.238844</td>\n",
       "      <td>0.856097</td>\n",
       "    </tr>\n",
       "    <tr>\n",
       "      <th>11</th>\n",
       "      <td>Catalan</td>\n",
       "      <td>egghe_proot</td>\n",
       "      <td>0.394992</td>\n",
       "      <td>0.213821</td>\n",
       "      <td>0.864102</td>\n",
       "    </tr>\n",
       "    <tr>\n",
       "      <th>8</th>\n",
       "      <td>Catalan</td>\n",
       "      <td>ichao1</td>\n",
       "      <td>0.428571</td>\n",
       "      <td>0.240571</td>\n",
       "      <td>0.858292</td>\n",
       "    </tr>\n",
       "    <tr>\n",
       "      <th>5</th>\n",
       "      <td>Catalan</td>\n",
       "      <td>jackknife</td>\n",
       "      <td>0.555556</td>\n",
       "      <td>0.343793</td>\n",
       "      <td>1.446598</td>\n",
       "    </tr>\n",
       "    <tr>\n",
       "      <th>0</th>\n",
       "      <td>Portugais</td>\n",
       "      <td>chao1</td>\n",
       "      <td>0.526316</td>\n",
       "      <td>0.277219</td>\n",
       "      <td>1.166521</td>\n",
       "    </tr>\n",
       "    <tr>\n",
       "      <th>9</th>\n",
       "      <td>Portugais</td>\n",
       "      <td>egghe_proot</td>\n",
       "      <td>0.488109</td>\n",
       "      <td>0.246373</td>\n",
       "      <td>1.160048</td>\n",
       "    </tr>\n",
       "    <tr>\n",
       "      <th>6</th>\n",
       "      <td>Portugais</td>\n",
       "      <td>ichao1</td>\n",
       "      <td>0.526316</td>\n",
       "      <td>0.279791</td>\n",
       "      <td>1.213449</td>\n",
       "    </tr>\n",
       "    <tr>\n",
       "      <th>3</th>\n",
       "      <td>Portugais</td>\n",
       "      <td>jackknife</td>\n",
       "      <td>0.571429</td>\n",
       "      <td>0.338957</td>\n",
       "      <td>1.818936</td>\n",
       "    </tr>\n",
       "  </tbody>\n",
       "</table>\n",
       "</div>"
      ],
      "text/plain": [
       "    tradition    estimator  survival       lci       uci\n",
       "1   Castillan        chao1  0.336680  0.119542  1.043458\n",
       "10  Castillan  egghe_proot  0.314113  0.098910  1.199394\n",
       "7   Castillan       ichao1  0.336680  0.110095  1.162944\n",
       "4   Castillan    jackknife  0.350000  0.237550  0.664611\n",
       "2     Catalan        chao1  0.428571  0.238844  0.856097\n",
       "11    Catalan  egghe_proot  0.394992  0.213821  0.864102\n",
       "8     Catalan       ichao1  0.428571  0.240571  0.858292\n",
       "5     Catalan    jackknife  0.555556  0.343793  1.446598\n",
       "0   Portugais        chao1  0.526316  0.277219  1.166521\n",
       "9   Portugais  egghe_proot  0.488109  0.246373  1.160048\n",
       "6   Portugais       ichao1  0.526316  0.279791  1.213449\n",
       "3   Portugais    jackknife  0.571429  0.338957  1.818936"
      ]
     },
     "execution_count": 226,
     "metadata": {},
     "output_type": "execute_result"
    }
   ],
   "source": [
    "# Trier le DataFrame 'comp' par les colonnes 'tradition' et 'estimateur', et stocker le résultat dans 'estimates'\n",
    "estimates = comp.sort_values(['tradition', 'estimateur'])\n",
    "\n",
    "# Affichage du DataFrame trié\n",
    "estimates\n"
   ]
  },
  {
   "cell_type": "code",
   "execution_count": 227,
   "id": "2e75cef1",
   "metadata": {},
   "outputs": [],
   "source": [
    "# Remplacer les caractères de soulignement '_' par des espaces dans la colonne 'estimateur'\n",
    "estimates[\"estimateur\"] = estimates[\"estimateur\"].str.replace(\"_\", \" \")\n"
   ]
  },
  {
   "cell_type": "markdown",
   "id": "a8c8f3b1",
   "metadata": {},
   "source": [
    "Exportation des Résultats sous Forme de Tableau LaTeX"
   ]
  },
  {
   "cell_type": "code",
   "execution_count": 228,
   "id": "81161ff9",
   "metadata": {},
   "outputs": [],
   "source": [
    "# Ouvrir un fichier pour écrire les résultats au format LaTeX\n",
    "with open('/home/carolisteia/Desktop/filologia_iberica/memoire_M2/usm/outputs/other.txt', 'w') as f:\n",
    "    # Écrire dans le fichier les estimations, arrondies à 3 décimales, converties au format LaTeX\n",
    "    f.write(estimates.round(3).to_latex())\n"
   ]
  },
  {
   "cell_type": "markdown",
   "id": "37581b1b",
   "metadata": {},
   "source": [
    "Visualisation des resultats :"
   ]
  },
  {
   "cell_type": "code",
   "execution_count": 229,
   "id": "eb19cc17",
   "metadata": {},
   "outputs": [
    {
     "data": {
      "image/png": "[encoded data removed]",
      "text/plain": [
       "<Figure size 1200x800 with 1 Axes>"
      ]
     },
     "metadata": {},
     "output_type": "display_data"
    }
   ],
   "source": [
    "# Création des barres d'erreur basées sur les intervalles de confiance inférieurs et supérieurs\n",
    "errors = np.array(list(zip(estimates['lci'], estimates['uci']))).T\n",
    "errors[0] = estimates['survival'] - errors[0]  # Calcul des erreurs négatives\n",
    "errors[1] -= estimates['survival']  # Calcul des erreurs positives\n",
    "\n",
    "# Création de la figure et de l'axe pour le tracé\n",
    "fig, ax = plt.subplots(figsize=(12, 8))\n",
    "\n",
    "# Définition des traditions et des couleurs associées\n",
    "traditions = sorted(set(estimates['tradition']))\n",
    "color_dict = {t: f\"C{i}\" for i, t in enumerate(traditions)}  # Assigner une couleur différente à chaque tradition\n",
    "labeled = {t: False for t in color_dict}  # Dictionnaire pour vérifier si une tradition a déjà été étiquetée\n",
    "\n",
    "# Boucle sur les estimations pour tracer les barres d'erreur pour chaque combinaison d'estimateur et de tradition\n",
    "for idx in range(len(estimates)):\n",
    "    trad = estimates['tradition'].iloc[idx]  # Obtenir la tradition correspondante à l'index\n",
    "    meth = estimates['estimator'].iloc[idx]  # Obtenir l'estimateur correspondant à l'index\n",
    "    label = trad if not labeled[trad] else None  # Ajouter une étiquette seulement si la tradition n'a pas encore été étiquetée\n",
    "    c = color_dict[trad]  # Couleur associée à la tradition\n",
    "    labeled[trad] = True  # Marquer la tradition comme étiquetée\n",
    "    ax.errorbar(idx, estimates['survival'].iloc[idx],\n",
    "                yerr=np.array([errors[:, idx]]).T,\n",
    "                fmt='.', c=color_dict[trad], label=label,\n",
    "                ms=12)  # Tracer le point avec une barre d'erreur\n",
    "\n",
    "# Configuration de l'axe Y\n",
    "ax.set_ylabel('Ratio de survie (œuvres) pour différentes\\ncombinaisons d\\'estimateurs et de traditions', fontsize=14)\n",
    "\n",
    "# Configuration de l'axe X\n",
    "ax.set_xticks(np.arange(len(estimates)))\n",
    "ax.set_xticklabels(estimates['estimator'], rotation=90)  # Tourner les étiquettes de l'axe X pour plus de lisibilité\n",
    "ax.tick_params(axis='x', which='minor', bottom=False)  # Supprimer les graduations mineures en bas\n",
    "ax.tick_params(axis='y', which='minor', left=True)  # Activer les graduations mineures sur l'axe Y\n",
    "\n",
    "# Ajout de la légende\n",
    "ax.legend(loc='upper center', ncol=len(assemblages), bbox_to_anchor=(0.5, 1.05), frameon=False, fontsize=14)\n",
    "\n",
    "# Sauvegarde du graphique en format PDF\n",
    "plt.savefig('/home/carolisteia/Desktop/filologia_iberica/memoire_M2/usm/outputs/other.pdf');\n"
   ]
  }
 ],
 "metadata": {
  "kernelspec": {
   "display_name": "forgotten",
   "language": "python",
   "name": "python3"
  },
  "language_info": {
   "codemirror_mode": {
    "name": "ipython",
    "version": 3
   },
   "file_extension": ".py",
   "mimetype": "text/x-python",
   "name": "python",
   "nbconvert_exporter": "python",
   "pygments_lexer": "ipython3",
   "version": "3.7.10"
  }
 },
 "nbformat": 4,
 "nbformat_minor": 5
}
